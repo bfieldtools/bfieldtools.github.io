{
  "cells": [
    {
      "cell_type": "code",
      "execution_count": null,
      "metadata": {
        "collapsed": false
      },
      "outputs": [],
      "source": [
        "%matplotlib inline"
      ]
    },
    {
      "cell_type": "markdown",
      "metadata": {},
      "source": [
        "\nAnalytical self-shielded biplanar coil design\n==============================================\n\nExample showing a basic biplanar coil producing homogeneous field in a target\nregion between the two coil planes. In addition, the coils have an outer surface\nfor which (in a linear fashion) a secondary current is created, which zeroes the\nnormal component of the field produced by the primary coil at the secondary coil\nsurface. The combination of the primary and secondary coil currents are specified to create\nthe target field, and their combined inductive energy is minimized.\n\nNB. The secondary coil current is entirely a function of the primary coil current\nand the geometry.\n\n"
      ]
    },
    {
      "cell_type": "code",
      "execution_count": null,
      "metadata": {
        "collapsed": false
      },
      "outputs": [],
      "source": [
        "import numpy as np\nimport matplotlib.pyplot as plt\nfrom mayavi import mlab\nimport trimesh\n\nfrom bfieldtools.mesh_conductor import MeshConductor, StreamFunction\nfrom bfieldtools.utils import combine_meshes, load_example_mesh\n\n# Load simple plane mesh that is centered on the origin\nplanemesh = load_example_mesh(\"10x10_plane_hires\")\n\n\n# Specify coil plane geometry\ncenter_offset = np.array([0, 0, 0])\nstandoff = np.array([0, 4, 0])\n\n# Create coil plane pairs\ncoil_plus = trimesh.Trimesh(\n    planemesh.vertices + center_offset + standoff, planemesh.faces, process=False\n)\n\ncoil_minus = trimesh.Trimesh(\n    planemesh.vertices + center_offset - standoff, planemesh.faces, process=False\n)\n\nmesh1 = combine_meshes((coil_plus, coil_minus))\nmesh2 = mesh1.copy()\nmesh2.apply_scale(1.4)\n\ncoil = MeshConductor(mesh_obj=mesh1, basis_name=\"inner\", N_sph=4)\nshieldcoil = MeshConductor(mesh_obj=mesh2, basis_name=\"inner\", N_sph=4)"
      ]
    },
    {
      "cell_type": "markdown",
      "metadata": {},
      "source": [
        "Plot geometry\n\n"
      ]
    },
    {
      "cell_type": "code",
      "execution_count": null,
      "metadata": {
        "collapsed": false
      },
      "outputs": [],
      "source": [
        "f = mlab.figure(None, bgcolor=(1, 1, 1), fgcolor=(0.5, 0.5, 0.5), size=(800, 800))\ncoil.plot_mesh(opacity=0.2, figure=f)\nshieldcoil.plot_mesh(opacity=0.2, figure=f)"
      ]
    },
    {
      "cell_type": "markdown",
      "metadata": {},
      "source": [
        "Compute inductances and coupling\n\n"
      ]
    },
    {
      "cell_type": "code",
      "execution_count": null,
      "metadata": {
        "collapsed": false
      },
      "outputs": [],
      "source": [
        "M11 = coil.inductance\nM22 = shieldcoil.inductance\nM21 = shieldcoil.mutual_inductance(coil)\n\n\n# Mapping from I1 to I2, constraining flux through shieldcoil to zero\nP = -np.linalg.solve(M22, M21)\n\nA1, Beta1 = coil.sph_couplings\nA2, Beta2 = shieldcoil.sph_couplings"
      ]
    },
    {
      "cell_type": "markdown",
      "metadata": {},
      "source": [
        "Precalculations for the solution\n\n"
      ]
    },
    {
      "cell_type": "code",
      "execution_count": null,
      "metadata": {
        "collapsed": false
      },
      "outputs": [],
      "source": [
        "# Minimization of magnetic energy with spherical harmonic constraint\nC = Beta1 + Beta2 @ P\nM = M11 + M21.T @ P\n\n# Regularization\nfrom scipy.linalg import eigvalsh\n\nssmax = eigvalsh(C.T @ C, M, eigvals=[M.shape[1] - 1, M.shape[1] - 1])"
      ]
    },
    {
      "cell_type": "markdown",
      "metadata": {},
      "source": [
        "Specify spherical harmonic and calculate corresponding shielded field\n\n"
      ]
    },
    {
      "cell_type": "code",
      "execution_count": null,
      "metadata": {
        "collapsed": false
      },
      "outputs": [],
      "source": [
        "beta = np.zeros(Beta1.shape[0])\n# beta[7] = 1 # Gradient\nbeta[2] = 1  # Homogeneous\n\n# Minimum residual\n_lambda = 1e3\n# Minimum energy\n# _lambda=1e-3\nI1inner = np.linalg.solve(C.T @ C + M * ssmax / _lambda, C.T @ beta)\n\nI2inner = P @ I1inner\n\ncoil.s = StreamFunction(I1inner, coil)\nshieldcoil.s = StreamFunction(I2inner, shieldcoil)"
      ]
    },
    {
      "cell_type": "markdown",
      "metadata": {},
      "source": [
        "Do a quick 3D plot\n\n"
      ]
    },
    {
      "cell_type": "code",
      "execution_count": null,
      "metadata": {
        "collapsed": false
      },
      "outputs": [],
      "source": [
        "f = mlab.figure(None, bgcolor=(1, 1, 1), fgcolor=(0.5, 0.5, 0.5), size=(800, 800))\n\ncoil.s.plot(figure=f, contours=20)\nshieldcoil.s.plot(figure=f, contours=20)"
      ]
    },
    {
      "cell_type": "markdown",
      "metadata": {},
      "source": [
        "Compute the field and scalar potential on an XY-plane\n\n"
      ]
    },
    {
      "cell_type": "code",
      "execution_count": null,
      "metadata": {
        "collapsed": false
      },
      "outputs": [],
      "source": [
        "x = y = np.linspace(-8, 8, 150)\nX, Y = np.meshgrid(x, y, indexing=\"ij\")\npoints = np.zeros((X.flatten().shape[0], 3))\npoints[:, 0] = X.flatten()\npoints[:, 1] = Y.flatten()\n\n\nCB1 = coil.B_coupling(points)\nCB2 = shieldcoil.B_coupling(points)\n\nCU1 = coil.U_coupling(points)\nCU2 = shieldcoil.U_coupling(points)\n\nB1 = CB1 @ coil.s\nB2 = CB2 @ shieldcoil.s\n\nU1 = CU1 @ coil.s\nU2 = CU2 @ shieldcoil.s"
      ]
    },
    {
      "cell_type": "markdown",
      "metadata": {},
      "source": [
        "Now, plot the field streamlines and scalar potential\n\n"
      ]
    },
    {
      "cell_type": "code",
      "execution_count": null,
      "metadata": {
        "collapsed": false
      },
      "outputs": [],
      "source": [
        "from bfieldtools.contour import scalar_contour\n\ncc1 = scalar_contour(mesh1, mesh1.vertices[:, 2], contours=[-0.001])\ncc2 = scalar_contour(mesh2, mesh2.vertices[:, 2], contours=[-0.001])\ncx10 = cc1[0][:, 1]\ncy10 = cc1[0][:, 0]\ncx20 = cc2[0][:, 1]\ncy20 = cc2[0][:, 0]\n\ncx11 = np.vstack(cc1[1:])[:, 1]\ncy11 = np.vstack(cc1[1:])[:, 0]\ncx21 = np.vstack(cc2[1:])[:, 1]\ncy21 = np.vstack(cc2[1:])[:, 0]\n\nB = (B1.T + B2.T)[:2].reshape(2, x.shape[0], y.shape[0])\nlw = np.sqrt(B[0] ** 2 + B[1] ** 2)\nlw = 2 * np.log(lw / np.max(lw) * np.e + 1.1)\n\nxx = np.linspace(-1, 1, 16)\n\nseed_points = np.array([cx10 + 0.001, cy10])\nseed_points = np.hstack([seed_points, np.array([cx11 - 0.001, cy11])])\nseed_points = np.hstack([seed_points, (0.56 * np.array([np.zeros_like(xx), xx]))])\n\n\nU = (U1 + U2).reshape(x.shape[0], y.shape[0])\nU /= np.max(U)\nplt.figure()\nplt.contourf(X, Y, U.T, cmap=\"seismic\", levels=40)\n# plt.imshow(U, vmin=-1.0, vmax=1.0, cmap='seismic', interpolation='bicubic',\n#           extent=(x.min(), x.max(), y.min(), y.max()))\nplt.streamplot(\n    x,\n    y,\n    B[1],\n    B[0],\n    density=2,\n    linewidth=lw,\n    color=\"k\",\n    start_points=seed_points.T,\n    integration_direction=\"both\",\n    arrowsize=0.1,\n)\n\nfor loop in cc1 + cc2:\n    plt.plot(loop[:, 1], loop[:, 0], \"k\", linewidth=4, alpha=1)\n    plt.plot(-loop[:, 1], -loop[:, 0], \"k\", linewidth=4, alpha=1)\n\nplt.axis(\"image\")\n\nplt.xticks([])\nplt.yticks([])"
      ]
    }
  ],
  "metadata": {
    "kernelspec": {
      "display_name": "Python 3",
      "language": "python",
      "name": "python3"
    },
    "language_info": {
      "codemirror_mode": {
        "name": "ipython",
        "version": 3
      },
      "file_extension": ".py",
      "mimetype": "text/x-python",
      "name": "python",
      "nbconvert_exporter": "python",
      "pygments_lexer": "ipython3",
      "version": "3.6.7"
    }
  },
  "nbformat": 4,
  "nbformat_minor": 0
}