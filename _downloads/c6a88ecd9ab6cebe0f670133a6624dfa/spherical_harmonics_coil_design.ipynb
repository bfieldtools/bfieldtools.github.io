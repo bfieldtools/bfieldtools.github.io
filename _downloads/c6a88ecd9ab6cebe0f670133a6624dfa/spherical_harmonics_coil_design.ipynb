{
  "cells": [
    {
      "cell_type": "code",
      "execution_count": null,
      "metadata": {
        "collapsed": false
      },
      "outputs": [],
      "source": [
        "%matplotlib inline"
      ]
    },
    {
      "cell_type": "markdown",
      "metadata": {},
      "source": [
        "\nSpherical harmonics-generating coil design\n==========================================\n\nExample showing a basic biplanar coil producing a field profile defined by\nspherical harmonics. We use the surface harmonics basis for the stream function,\nand optimize the coupling to spherical harmonics components, thus creating a compact\noptimization problem that can be solved very quickly.\n"
      ]
    },
    {
      "cell_type": "code",
      "execution_count": null,
      "metadata": {
        "collapsed": false
      },
      "outputs": [],
      "source": [
        "import numpy as np\nimport trimesh\n\nfrom bfieldtools.mesh_conductor import MeshConductor\nfrom bfieldtools.coil_optimize import optimize_streamfunctions\nfrom bfieldtools.utils import combine_meshes, load_example_mesh\n\n\n# Load simple plane mesh that is centered on the origin\nplanemesh = load_example_mesh(\"10x10_plane_hires\")\n\n# Specify coil plane geometry\ncenter_offset = np.array([0, 0, 0])\nstandoff = np.array([0, 3, 0])\n\n# Create coil plane pairs\ncoil_plus = trimesh.Trimesh(\n    planemesh.vertices + center_offset + standoff, planemesh.faces, process=False\n)\n\ncoil_minus = trimesh.Trimesh(\n    planemesh.vertices + center_offset - standoff, planemesh.faces, process=False\n)\n\njoined_planes = combine_meshes((coil_plus, coil_minus))\n\n\n# To spice things up, let's distort the planes a bit\njoined_planes.vertices = (\n    joined_planes.vertices\n    - 0.5\n    * np.linalg.norm(joined_planes.vertices, axis=1)[:, None]\n    * joined_planes.vertex_normals\n)\n\n# Create mesh class object\ncoil = MeshConductor(\n    mesh_obj=joined_planes, fix_normals=True, basis_name=\"suh\", N_suh=100\n)"
      ]
    },
    {
      "cell_type": "markdown",
      "metadata": {},
      "source": [
        "Set up target spherical harmonics components\n\n"
      ]
    },
    {
      "cell_type": "code",
      "execution_count": null,
      "metadata": {
        "collapsed": false
      },
      "outputs": [],
      "source": [
        "target_alms = np.zeros((coil.opts[\"N_sph\"] * (coil.opts[\"N_sph\"] + 2),))\ntarget_blms = np.zeros((coil.opts[\"N_sph\"] * (coil.opts[\"N_sph\"] + 2),))\n\ntarget_blms[3] += 1"
      ]
    },
    {
      "cell_type": "markdown",
      "metadata": {},
      "source": [
        "Create bfield specifications used when optimizing the coil geometry\n\n"
      ]
    },
    {
      "cell_type": "code",
      "execution_count": null,
      "metadata": {
        "collapsed": false
      },
      "outputs": [],
      "source": [
        "target_spec = {\n    \"coupling\": coil.sph_couplings[1],\n    \"abs_error\": 0.01,\n    \"target\": target_blms,\n}"
      ]
    },
    {
      "cell_type": "markdown",
      "metadata": {},
      "source": [
        "Run QP solver\n\n"
      ]
    },
    {
      "cell_type": "code",
      "execution_count": null,
      "metadata": {
        "collapsed": false
      },
      "outputs": [],
      "source": [
        "import mosek\n\ncoil.s, prob = optimize_streamfunctions(\n    coil,\n    [target_spec],\n    objective=\"minimum_ohmic_power\",\n    solver=\"MOSEK\",\n    solver_opts={\"mosek_params\": {mosek.iparam.num_threads: 8}},\n)"
      ]
    },
    {
      "cell_type": "markdown",
      "metadata": {},
      "source": [
        "Plot coil windings\n\n"
      ]
    },
    {
      "cell_type": "code",
      "execution_count": null,
      "metadata": {
        "collapsed": false
      },
      "outputs": [],
      "source": [
        "coil.s.discretize(N_contours=8).plot_loops()"
      ]
    }
  ],
  "metadata": {
    "kernelspec": {
      "display_name": "Python 3",
      "language": "python",
      "name": "python3"
    },
    "language_info": {
      "codemirror_mode": {
        "name": "ipython",
        "version": 3
      },
      "file_extension": ".py",
      "mimetype": "text/x-python",
      "name": "python",
      "nbconvert_exporter": "python",
      "pygments_lexer": "ipython3",
      "version": "3.7.6"
    }
  },
  "nbformat": 4,
  "nbformat_minor": 0
}