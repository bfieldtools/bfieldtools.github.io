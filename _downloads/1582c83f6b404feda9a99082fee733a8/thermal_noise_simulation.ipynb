{
  "cells": [
    {
      "cell_type": "code",
      "execution_count": null,
      "metadata": {
        "collapsed": false
      },
      "outputs": [],
      "source": [
        "%matplotlib inline"
      ]
    },
    {
      "cell_type": "markdown",
      "metadata": {},
      "source": [
        "\nExamples of thermal noise computation\n=====================================\n\nDifferent examples:\n- unit_disc: DC Bnoise of a unit disc at z-axis and comparison to analytical formula\n- unit_sphere: DC Bnoise of a spherical shell at origin and comparison to analytical formula\n- cylinder: DC Bnoise inside a cylindrical conductor\n- AC: AC Bnoise of a unit disc at one position\n\nAnalytic formulas are from Lee and Romalis (2008)\n\n"
      ]
    },
    {
      "cell_type": "code",
      "execution_count": null,
      "metadata": {
        "collapsed": false
      },
      "outputs": [],
      "source": [
        "import numpy as np\nimport matplotlib.pyplot as plt\nimport trimesh\nfrom mayavi import mlab\n\nfrom bfieldtools.mesh_impedance import self_inductance_matrix, resistance_matrix\nfrom bfieldtools.thermal_noise import (\n    compute_current_modes,\n    noise_covar,\n    noise_var,\n    visualize_current_modes,\n)\nfrom bfieldtools.mesh_magnetics import magnetic_field_coupling\n\nimport pkg_resources\n\n\nfont = {\"family\": \"normal\", \"weight\": \"normal\", \"size\": 16}\nplt.rc(\"font\", **font)\n\n# Fix the simulation parameters\nd = 100e-6  # thickness\nsigma = 3.7e7  # conductivity\nres = 1 / sigma  # resistivity\nT = 300  # temperature\nkB = 1.38064852e-23  # Boltz\nmu0 = 4 * np.pi * 1e-7  # permeability of freespace\n# freqs = np.array((0,))\n\n\n# Nchunks = 8\n# quad_degree = 2"
      ]
    },
    {
      "cell_type": "markdown",
      "metadata": {},
      "source": [
        "DC magnetic noise from unit disc\n\n"
      ]
    },
    {
      "cell_type": "code",
      "execution_count": null,
      "metadata": {
        "collapsed": false
      },
      "outputs": [],
      "source": [
        "mesh = trimesh.load(\n    pkg_resources.resource_filename(\"bfieldtools\", \"example_meshes/unit_disc.stl\")\n)\nmesh.vertices, mesh.faces = trimesh.remesh.subdivide(mesh.vertices, mesh.faces)\nmesh.vertices, mesh.faces = trimesh.remesh.subdivide(mesh.vertices, mesh.faces)\n\n# Compute the AC-current modes and visualize them\nvl, u = compute_current_modes(\n    obj=mesh, T=T, resistivity=res, thickness=d, mode=\"AC\", return_eigenvals=True\n)\n\nscene = mlab.figure(None, bgcolor=(1, 1, 1), fgcolor=(0.5, 0.5, 0.5), size=(800, 800))\nvisualize_current_modes(mesh, vl[:, :, 0], 42, 5, contours=True)\n\n# Define field points on z axis\nNp = 30\nz = np.linspace(0.1, 1, Np)\nfp = np.array((np.zeros(z.shape), np.zeros(z.shape), z)).T\n\nB_coupling = magnetic_field_coupling(mesh, fp, analytic=True)  # field coupling matrix\n\n# Compute noise variance\nB = np.sqrt(noise_var(B_coupling, vl))\n\n# Calculate Bz noise using analytical formula and plot the results\nr = 1\nBan = (\n    mu0\n    * np.sqrt(sigma * d * kB * T / (8 * np.pi * z ** 2))\n    * (1 / (1 + z ** 2 / r ** 2))\n)\n\nplt.figure()\nplt.subplot(2, 1, 1)\nplt.semilogy(z, Ban, label=\"Analytic\")\nplt.semilogy(z, B[:, 2, 0], \"x\", label=\"Numerical\")\nplt.legend(frameon=False)\nplt.xlabel(\"Distance d/R\")\nplt.ylabel(\"DC noise Bz (T/rHz)\")\n\nplt.subplot(2, 1, 2)\nplt.plot(z, np.abs((B[:, 2, 0] - Ban)) / np.abs(Ban) * 100)\nplt.xlabel(\"Distance d/R\")\nplt.ylabel(\"Relative error (%)\")\nplt.tight_layout()\n\n# Next, we compute the DC noise without reference to the inductance\nvl_dc, u_dc = compute_current_modes(\n    obj=mesh, T=T, resistivity=res, thickness=d, mode=\"DC\", return_eigenvals=True\n)\n\n# Compute noise variance\nB_dc = np.sqrt(noise_var(B_coupling, vl_dc))\n\n# Compare results computed using AC and DC formulation\nplt.figure()\nplt.semilogy(z, B_dc[:, 2], \"o\", label=\"DC mode\")\nplt.semilogy(z, B[:, 2, 0], \"x\", label=\"AC mode\")\nplt.legend(frameon=False)\nplt.xlabel(\"Distance d/R\")\nplt.ylabel(\"DC noise Bz (T/rHz)\")\nplt.tight_layout()"
      ]
    },
    {
      "cell_type": "markdown",
      "metadata": {},
      "source": [
        "DC magnetic noise in the center of sphere with different radii\n------------\n\n"
      ]
    },
    {
      "cell_type": "code",
      "execution_count": null,
      "metadata": {
        "collapsed": false
      },
      "outputs": [],
      "source": [
        "Np = 10\nradius = np.linspace(0.1, 1, Np)\nfp = np.zeros((1, 3))  # calculate are at origin\n\nB = np.zeros((Np, 3))\nfor i in range(Np):\n    mesh = trimesh.load(\n        pkg_resources.resource_filename(\"bfieldtools\", \"example_meshes/unit_sphere.stl\")\n    )\n    mesh.apply_scale(radius[i])\n\n    B_coupling = magnetic_field_coupling(mesh, fp, analytic=True)\n\n    vl = compute_current_modes(obj=mesh, T=T, resistivity=res, thickness=d, mode=\"DC\")\n    Btemp = noise_var(B_coupling, vl)\n    B[i] = Btemp\n\n# Analytic formula\nBan = mu0 * np.sqrt(2 * sigma * d * kB * T / (3 * np.pi * (radius) ** 2))\n\nplt.figure(figsize=(5, 5))\nplt.semilogy(radius, Ban * 1e15, linewidth=2, label=\"Analytic\")\nplt.semilogy(\n    radius,\n    np.sqrt(B[:, 2]) * 1e15,\n    \"x\",\n    markersize=10,\n    markeredgewidth=2,\n    label=\"Numerical\",\n)\nplt.grid()\nplt.gca().spines[\"right\"].set_visible(False)\nplt.gca().spines[\"top\"].set_visible(False)\nplt.legend(frameon=False)\nplt.xlabel(\"Sphere radius\")\nplt.ylabel(r\"$B_z$ noise at DC (fT/rHz)\")\nplt.tight_layout()"
      ]
    },
    {
      "cell_type": "markdown",
      "metadata": {},
      "source": [
        "Closed cylinder, DC noise\n--------------------------\n\n"
      ]
    },
    {
      "cell_type": "code",
      "execution_count": null,
      "metadata": {
        "collapsed": false
      },
      "outputs": [],
      "source": [
        "mesh = trimesh.load(\n    pkg_resources.resource_filename(\"bfieldtools\", \"example_meshes/closed_cylinder.stl\")\n)\nmesh.vertices, mesh.faces = trimesh.remesh.subdivide(mesh.vertices, mesh.faces)\n\n# Compute noise current modes at DC\nvl = compute_current_modes(obj=mesh, T=T, resistivity=res, thickness=d, mode=\"DC\")\n\n# Visualize the current modes\nscene = mlab.figure(None, bgcolor=(1, 1, 1), fgcolor=(0.5, 0.5, 0.5), size=(800, 800))\nvisualize_current_modes(mesh, vl, 8, 1)\n\n# Calculate field noise along long axis of the cylinder\nNp = 30\nx = np.linspace(-0.95, 0.95, Np)\nfp = np.array((x, np.zeros(x.shape), np.zeros(x.shape))).T\n\nB_coupling = magnetic_field_coupling(mesh, fp, analytic=True)\nB = noise_var(B_coupling, vl)\n\n# Analytic formula valid only at the center of cylinder\na = 0.5\nL = 2\nrat = L / (2 * a)\nGfact = (\n    1\n    / (8 * np.pi)\n    * (\n        (3 * rat ** 5 + 5 * rat ** 3 + 2) / (rat ** 2 * (1 + rat ** 2) ** 2)\n        + 3 * np.arctan(rat)\n    )\n)\nBan = np.sqrt(Gfact) * mu0 * np.sqrt(kB * T * sigma * d) / a\n\n\nplt.figure(figsize=(5, 5))\nplt.plot(x, Ban * np.ones(x.shape) * 1e15, label=\"Analytic\", linewidth=2)\nplt.plot(\n    x,\n    np.sqrt(B[:, 0]) * 1e15,\n    \"x\",\n    label=\"Numerical\",\n    markersize=10,\n    markeredgewidth=2,\n)\nplt.grid()\nplt.gca().spines[\"right\"].set_visible(False)\nplt.gca().spines[\"top\"].set_visible(False)\nplt.legend(frameon=False)\nplt.xlabel(\"Distance along long axis\")\nplt.ylabel(\"DC noise along axis (fT/rHz)\")\nplt.tight_layout()"
      ]
    },
    {
      "cell_type": "markdown",
      "metadata": {},
      "source": [
        "Unit disc, AC noise\n------------------\n\n"
      ]
    },
    {
      "cell_type": "code",
      "execution_count": null,
      "metadata": {
        "collapsed": false
      },
      "outputs": [],
      "source": [
        "mesh = trimesh.load(\n    pkg_resources.resource_filename(\n        \"bfieldtools\", \"example_meshes/unitdisc_extremelyfine.stl\"\n    )\n)\n\nNfreqs = 10\nfreqs = np.logspace(0, 4, 15)  # freqs from 1 to 10 kHz\n\nvl = compute_current_modes(\n    obj=mesh,\n    T=T,\n    resistivity=res,\n    thickness=d,\n    mode=\"AC\",\n    freqs=freqs,\n    return_eigenvals=False,\n)\n\n\nNp = 10\nz = np.linspace(0.05, 1, Np)\nfp = np.array((np.zeros(z.shape), np.zeros(z.shape), z)).T\n\nB_coupling = magnetic_field_coupling(mesh, fp, analytic=True)\n\nBf = np.sqrt(noise_var(B_coupling, vl))  # noise variance\n\n# Plot Bz noise as a function of frequency\nplt.figure()\nplt.loglog(freqs, Bf[:, 2, :].T * 1e15, linewidth=2)\nplt.grid()\n# plt.ylim(1, 20)\nplt.gca().spines[\"right\"].set_visible(False)\nplt.gca().spines[\"top\"].set_visible(False)\nplt.legend(frameon=False)\nplt.xlabel(\"Frequency (Hz)\")\nplt.ylabel(r\"$B_z$ noise (fT/rHz)\")\nplt.tight_layout()"
      ]
    }
  ],
  "metadata": {
    "kernelspec": {
      "display_name": "Python 3",
      "language": "python",
      "name": "python3"
    },
    "language_info": {
      "codemirror_mode": {
        "name": "ipython",
        "version": 3
      },
      "file_extension": ".py",
      "mimetype": "text/x-python",
      "name": "python",
      "nbconvert_exporter": "python",
      "pygments_lexer": "ipython3",
      "version": "3.6.7"
    }
  },
  "nbformat": 4,
  "nbformat_minor": 0
}