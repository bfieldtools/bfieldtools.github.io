{
  "cells": [
    {
      "cell_type": "code",
      "execution_count": null,
      "metadata": {
        "collapsed": false
      },
      "outputs": [],
      "source": [
        "%matplotlib inline"
      ]
    },
    {
      "cell_type": "markdown",
      "metadata": {},
      "source": [
        "\nExample of designing a shielded biplanar coil\n===============================================\n"
      ]
    },
    {
      "cell_type": "code",
      "execution_count": null,
      "metadata": {
        "collapsed": false
      },
      "outputs": [],
      "source": [
        "import numpy as np\nimport matplotlib.pyplot as plt\nfrom mayavi import mlab\nimport trimesh\n\nfrom bfieldtools.mesh_conductor import MeshConductor, StreamFunction\nfrom bfieldtools.contour import scalar_contour\nfrom bfieldtools.viz import plot_3d_current_loops\nfrom bfieldtools.utils import load_example_mesh, combine_meshes\n\n\n# Set unit, e.g. meter or millimeter.\n# This doesn't matter, the problem is scale-invariant\nscaling_factor = 0.1\n\n# Load simple plane mesh that is centered on the origin\nplanemesh = load_example_mesh(\"10x10_plane_hires\")\nplanemesh.apply_scale(scaling_factor)\n\n# Specify coil plane geometry\ncenter_offset = np.array([0, 0, 0]) * scaling_factor\nstandoff = np.array([0, 4, 0]) * scaling_factor\n\n# Create coil plane pairs\ncoil_plus = trimesh.Trimesh(\n    planemesh.vertices + center_offset + standoff, planemesh.faces, process=False\n)\n\ncoil_minus = trimesh.Trimesh(\n    planemesh.vertices + center_offset - standoff, planemesh.faces, process=False\n)\n\nmesh1 = combine_meshes((coil_minus, coil_plus))\nmesh2 = mesh1.copy()\nmesh2.apply_scale(1.4)\n\ncoil1 = MeshConductor(mesh_obj=mesh1, basis_name=\"inner\", N_sph=4)\ncoil2 = MeshConductor(mesh_obj=mesh2, basis_name=\"inner\", N_sph=4)\n\nM11 = coil1.inductance\nM22 = coil2.inductance\nM21 = coil2.mutual_inductance(coil1)\n# Mapping from I1 to I2, constraining flux through mesh2 to zero\nP = -np.linalg.solve(M22, M21)\n\nA1, Beta1 = coil1.sph_couplings\nA2, Beta2 = coil2.sph_couplings\n\n# Use lines below to get coulings with different normalization\n# from bfieldtools.sphtools import compute_sphcoeffs_mesh\n# A1, Beta1 = compute_sphcoeffs_mesh(mesh1, 5, normalization='energy', R=1)\n# A2, Beta2 = compute_sphcoeffs_mesh(mesh2, 5, normalization='energy', R=1)\n\n# Beta1 = Beta1[:, coil1.inner_vertices]\n# Beta2 = Beta2[:, coil2.inner_vertices]\n\nx = y = np.linspace(-0.8, 0.8, 50)  # 150)\nX, Y = np.meshgrid(x, y, indexing=\"ij\")\npoints = np.zeros((X.flatten().shape[0], 3))\npoints[:, 0] = X.flatten()\npoints[:, 1] = Y.flatten()\n\n\nCB1 = coil1.B_coupling(points)\nCB2 = coil2.B_coupling(points)\n\nCU1 = coil1.U_coupling(points)\nCU2 = coil2.U_coupling(points)"
      ]
    },
    {
      "cell_type": "markdown",
      "metadata": {},
      "source": [
        "alpha[15] = 1\nMinimization of magnetic energy with spherical harmonic constraint\n\n"
      ]
    },
    {
      "cell_type": "code",
      "execution_count": null,
      "metadata": {
        "collapsed": false
      },
      "outputs": [],
      "source": [
        "C = Beta1 + Beta2 @ P\nM = M11 + M21.T @ P\n\nfrom scipy.linalg import eigvalsh\n\nssmax = eigvalsh(C.T @ C, M, eigvals=[M.shape[1] - 1, M.shape[1] - 1])"
      ]
    },
    {
      "cell_type": "code",
      "execution_count": null,
      "metadata": {
        "collapsed": false
      },
      "outputs": [],
      "source": [
        "beta = np.zeros(Beta1.shape[0])\nbeta[7] = 1  # Gradient\n# beta[2] = 1  # Homogeneous\n\n# Minimum residual\n_lambda = 1e3\n# Minimum energy\n# _lambda=1e-3\nI1inner = np.linalg.solve(C.T @ C + M * ssmax / _lambda, C.T @ beta)\n\nI2inner = P @ I1inner\n\ns1 = StreamFunction(I1inner, coil1)\ns2 = StreamFunction(I2inner, coil2)\n\n# s = mlab.triangular_mesh(*mesh1.vertices.T, mesh1.faces, scalars=I1)\n# s.enable_contours=True\n# s = mlab.triangular_mesh(*mesh2.vertices.T, mesh2.faces, scalars=I2)\n# s.enable_contours=True\n\nB1 = CB1 @ s1\nB2 = CB2 @ s2\n\nU1 = CU1 @ s1\nU2 = CU2 @ s2"
      ]
    },
    {
      "cell_type": "code",
      "execution_count": null,
      "metadata": {
        "collapsed": false
      },
      "outputs": [],
      "source": [
        "cc1 = scalar_contour(mesh1, mesh1.vertices[:, 2], contours=[-0.001])\ncc2 = scalar_contour(mesh2, mesh2.vertices[:, 2], contours=[-0.001])\ncx10 = cc1[0][:, 1]\ncy10 = cc1[0][:, 0]\ncx20 = cc2[0][:, 1]\ncy20 = cc2[0][:, 0]\n\ncx11 = cc1[1][:, 1]\ncy11 = cc1[1][:, 0]\ncx21 = cc2[1][:, 1]\ncy21 = cc2[1][:, 0]\n\nB = (B1.T + B2.T)[:2].reshape(2, x.shape[0], y.shape[0])\nlw = np.sqrt(B[0] ** 2 + B[1] ** 2)\nlw = 2 * np.log(lw / np.max(lw) * np.e + 1.1)\n\nxx = np.linspace(-1, 1, 16)\n# seed_points = 0.56*np.array([xx, -np.sqrt(1-xx**2)])\n# seed_points = np.hstack([seed_points, (0.56*np.array([xx, np.sqrt(1-xx**2)]))])\n# seed_points = np.hstack([seed_points, (0.56*np.array([np.zeros_like(xx), xx]))])\nseed_points = np.array([cx10 + 0.001, cy10])\nseed_points = np.hstack([seed_points, np.array([cx11 - 0.001, cy11])])\nseed_points = np.hstack([seed_points, (0.56 * np.array([np.zeros_like(xx), xx]))])\n\n# plt.streamplot(x,y, B[1], B[0], density=2, linewidth=lw, color='k',\n#               start_points=seed_points.T, integration_direction='both')\nU = (U1 + U2).reshape(x.shape[0], y.shape[0])\nU /= np.max(U)\nplt.figure()\nplt.contourf(X, Y, U.T, cmap=\"seismic\", levels=40)\n# plt.imshow(U, vmin=-1.0, vmax=1.0, cmap='seismic', interpolation='bicubic',\n#           extent=(x.min(), x.max(), y.min(), y.max()))\nplt.streamplot(\n    x,\n    y,\n    B[1],\n    B[0],\n    density=2,\n    linewidth=lw,\n    color=\"k\",\n    start_points=seed_points.T,\n    integration_direction=\"both\",\n    arrowsize=0.1,\n)\n\n# plt.plot(seed_points[0], seed_points[1], '*')\n\nplt.plot(cx10, cy10, linewidth=3.0, color=\"gray\")\nplt.plot(cx20, cy20, linewidth=3.0, color=\"gray\")\nplt.plot(cx11, cy11, linewidth=3.0, color=\"gray\")\nplt.plot(cx21, cy21, linewidth=3.0, color=\"gray\")\nplt.axis(\"image\")\n\nplt.xticks([])\nplt.yticks([])"
      ]
    },
    {
      "cell_type": "code",
      "execution_count": null,
      "metadata": {
        "collapsed": false
      },
      "outputs": [],
      "source": [
        "N = 20\nmm = max(abs(s1))\ndd = 2 * mm / N\nvmin = -dd * N / 2 + dd / 2\nvmax = dd * N / 2 - dd / 2\ncontour_vals1 = np.arange(vmin, vmax, dd)\nmm = max(abs(s2))\nN2 = (2 * mm - dd) // dd\nif N2 % 2 == 0:\n    N2 -= 1\nvmin = -dd * N2 / 2\nvmax = mm\ncontour_vals2 = np.arange(vmin, vmax, dd)\ncontours1 = scalar_contour(mesh1, s1.vert, contours=contour_vals1)\ncontours2 = scalar_contour(mesh2, s2.vert, contours=contour_vals2)\n\n\ndef setscene(scene1, coil):\n    scene1.actor.mapper.interpolate_scalars_before_mapping = True\n    scene1.module_manager.scalar_lut_manager.number_of_colors = 32\n    scene1.scene.y_plus_view()\n    if coil == 1:\n        scene1.scene.camera.position = [\n            4.7267030067743576e-08,\n            2.660205137153174,\n            8.52196480605194e-08,\n        ]\n        scene1.scene.camera.focal_point = [\n            4.7267030067743576e-08,\n            0.4000000059604645,\n            8.52196480605194e-08,\n        ]\n        scene1.scene.camera.view_angle = 30.0\n        scene1.scene.camera.view_up = [1.0, 0.0, 0.0]\n        scene1.scene.camera.clipping_range = [1.116284842928313, 2.4468228732691104]\n        scene1.scene.camera.compute_view_plane_normal()\n    else:\n        scene1.scene.camera.position = [\n            4.7267030067743576e-08,\n            3.7091663385397116,\n            8.52196480605194e-08,\n        ]\n        scene1.scene.camera.focal_point = [\n            4.7267030067743576e-08,\n            0.4000000059604645,\n            8.52196480605194e-08,\n        ]\n        scene1.scene.camera.view_angle = 30.0\n        scene1.scene.camera.view_up = [1.0, 0.0, 0.0]\n        scene1.scene.camera.clipping_range = [2.948955346473114, 3.40878670176758]\n        scene1.scene.camera.compute_view_plane_normal()\n    scene1.scene.render()\n    scene1.scene.anti_aliasing_frames = 20\n    scene1.scene.magnification = 2\n\n\nfig = mlab.figure(bgcolor=(1, 1, 1), size=(400, 400))\nfig = plot_3d_current_loops(\n    contours1, tube_radius=0.005, colors=(0.9, 0.9, 0.9), figure=fig\n)\nm = abs(s1).max()\nmask = mesh1.triangles_center[:, 1] > 0\nfaces1 = mesh1.faces[mask]\nsurf = mlab.triangular_mesh(\n    *mesh1.vertices.T, faces1, scalars=s1.vert, vmin=-m, vmax=m, colormap=\"seismic\"\n)\nsetscene(surf, 1)\n\nfig = mlab.figure(bgcolor=(1, 1, 1), size=(400, 400))\nfig = plot_3d_current_loops(\n    contours2, tube_radius=0.005, colors=(0.9, 0.9, 0.9), figure=fig\n)\nfaces2 = mesh2.faces[mesh2.triangles_center[:, 1] > 0]\nsurf = mlab.triangular_mesh(\n    *mesh2.vertices.T, faces2, scalars=s2.vert, vmin=-m, vmax=m, colormap=\"seismic\"\n)\nsetscene(surf, 2)"
      ]
    },
    {
      "cell_type": "code",
      "execution_count": null,
      "metadata": {
        "collapsed": false
      },
      "outputs": [],
      "source": [
        "fig = mlab.figure(bgcolor=(1, 1, 1))\nsurf = mlab.triangular_mesh(*mesh1.vertices.T, mesh1.faces, color=(0.8, 0.2, 0.2))\nsurf.actor.property.edge_visibility = True\nsurf.actor.property.render_lines_as_tubes = True\nsurf.actor.property.line_width = 1.2\n\n\nsurf = mlab.triangular_mesh(*mesh2.vertices.T, mesh2.faces, color=(0.2, 0.2, 0.8))\nsurf.actor.property.edge_visibility = True\nsurf.actor.property.render_lines_as_tubes = True\nsurf.actor.property.line_width = 1.2\n# Plot plane\nplane = mlab.triangular_mesh(\n    np.array([x[0], x[-1], x[-1], x[0]]),\n    np.array([x[0], x[0], x[-1], x[-1]]),\n    np.zeros(4),\n    np.array([[0, 1, 2], [2, 3, 0]]),\n    color=(0.7, 0.7, 0.7),\n    opacity=0.7,\n)"
      ]
    }
  ],
  "metadata": {
    "kernelspec": {
      "display_name": "Python 3",
      "language": "python",
      "name": "python3"
    },
    "language_info": {
      "codemirror_mode": {
        "name": "ipython",
        "version": 3
      },
      "file_extension": ".py",
      "mimetype": "text/x-python",
      "name": "python",
      "nbconvert_exporter": "python",
      "pygments_lexer": "ipython3",
      "version": "3.7.6"
    }
  },
  "nbformat": 4,
  "nbformat_minor": 0
}