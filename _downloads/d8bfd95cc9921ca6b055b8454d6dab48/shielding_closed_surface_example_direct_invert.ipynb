{
  "cells": [
    {
      "cell_type": "code",
      "execution_count": null,
      "metadata": {
        "collapsed": false
      },
      "outputs": [],
      "source": [
        "%matplotlib inline"
      ]
    },
    {
      "cell_type": "markdown",
      "metadata": {},
      "source": [
        "\nDesign a field enclosed in a volume\n================================================\n"
      ]
    },
    {
      "cell_type": "code",
      "execution_count": null,
      "metadata": {
        "collapsed": false
      },
      "outputs": [],
      "source": [
        "import numpy as np\nimport matplotlib.pyplot as plt\nfrom mayavi import mlab\n\n# import trimesh\n\nfrom bfieldtools.mesh_conductor import MeshConductor, StreamFunction\nfrom bfieldtools.mesh_magnetics import magnetic_field_coupling as compute_C\nfrom bfieldtools.mesh_magnetics import (\n    magnetic_field_coupling_analytic as compute_C_analytic,\n)\nfrom bfieldtools.mesh_magnetics import scalar_potential_coupling as compute_U\nfrom bfieldtools.mesh_impedance import mutual_inductance_matrix\nfrom bfieldtools.contour import scalar_contour\nfrom bfieldtools import sphtools\nfrom bfieldtools.utils import load_example_mesh\nfrom bfieldtools.mesh_calculus import mass_matrix\n\n# domain = 'sphere'\n# domain = 'cube'\ndomain = \"combined\"\n\nif domain == \"sphere\":\n    from trimesh.creation import icosphere\n\n    mesh1 = icosphere(3, 0.65)\n    mesh2 = icosphere(3, 0.8)\nelif domain == \"cube\":\n    from trimesh.creation import box\n    from trimesh.smoothing import filter_laplacian\n\n    mesh1 = box((1.0, 1.0, 1.0))\n    mesh2 = box((1.5, 1.5, 1.5))\n\n    for i in range(4):\n        mesh1 = mesh1.subdivide()\n        mesh2 = mesh2.subdivide()\n\n    mesh1 = filter_laplacian(mesh1)\n    mesh2 = filter_laplacian(mesh2, 0.9)\nelif domain == \"combined\":\n    from trimesh.creation import icosphere\n\n    mesh1 = icosphere(4, 0.65)\n    mesh2 = load_example_mesh(\"cube_fillet\")\n    mesh2.vertices -= mesh2.vertices.mean(axis=0)\n    mesh2.vertices *= 0.15\n#    mesh2 = mesh2.subdivide()\n\ncoil1 = MeshConductor(\n    mesh_obj=mesh1,\n    N_sph=3,\n    inductance_nchunks=100,\n    fix_normals=False,\n    inductance_quad_degree=2,\n)\ncoil2 = MeshConductor(\n    mesh_obj=mesh2,\n    N_sph=3,\n    inductance_nchunks=100,\n    fix_normals=False,\n    inductance_quad_degree=2,\n)\n\nM11 = coil1.inductance\nM22 = coil2.inductance\n# Add rank-one matrix, so that M22 can be inverted\nM22 += np.ones_like(M22) / M22.shape[0] * np.mean(np.diag(M22))\nM11 += np.ones_like(M11) / M11.shape[0] * np.mean(np.diag(M11))\nM21 = mutual_inductance_matrix(mesh2, mesh1)\n\nM = np.block([[M11, M21.T], [M21, M22]])\n\n\nx = y = np.linspace(-0.85, 0.85, 100)\nX, Y = np.meshgrid(x, y, indexing=\"ij\")\npoints = np.zeros((X.flatten().shape[0], 3))\npoints[:, 0] = X.flatten()\npoints[:, 1] = Y.flatten()\n\nCB1 = compute_C_analytic(mesh1, points)\nCB2 = compute_C_analytic(mesh2, points)\n\nCU1 = compute_U(mesh1, points)\nCU2 = compute_U(mesh2, points)"
      ]
    },
    {
      "cell_type": "markdown",
      "metadata": {},
      "source": [
        "suh = SuhBasis(mesh1, 100)\n\n"
      ]
    },
    {
      "cell_type": "markdown",
      "metadata": {},
      "source": [
        "b10 = mesh1.vertex_normals[:, 0]\nb20 = (\n    mesh1.vertex_normals[:, 0] * mesh1.vertices[:, 0]\n    - mesh1.vertex_normals[:, 1] * mesh1.vertices[:, 1]\n)\n\n"
      ]
    },
    {
      "cell_type": "code",
      "execution_count": null,
      "metadata": {
        "collapsed": false
      },
      "outputs": [],
      "source": [
        "N = mass_matrix(mesh1, lumped=True)\naf, bf = sphtools.basis_fields(mesh1.vertices, 2)\nb1 = N @ np.sum(bf[:, :, 2] * mesh1.vertex_normals, axis=1)\nb2 = N @ np.sum(bf[:, :, 3] * mesh1.vertex_normals, axis=1)\n\n\ndef plot_plane(opacity=0.8):\n    mlab.triangular_mesh(\n        np.array([x[0], x[-1], x[-1], x[0]]),\n        np.array([x[0], x[0], x[-1], x[-1]]),\n        np.zeros(4),\n        np.array([[0, 1, 2], [2, 3, 0]]),\n        color=(0.7, 0.7, 0.7),\n        opacity=opacity,\n    )\n\n\nfor bi in (b1, b2):\n\n    bb = np.zeros(M.shape[1])\n    bb[: M11.shape[1]] = bi\n    I = np.linalg.solve(M, bb)\n    I1 = I[: M11.shape[1]]\n    I2 = I[M11.shape[1] :]\n\n    B1 = CB1 @ I1\n    B2 = CB2 @ I2\n\n    U1 = CU1 @ I1\n    U2 = CU2 @ I2\n\n    # Plot\n    # Extract the cross-sections of the plane and the surfaces\n    cc1 = scalar_contour(mesh1, mesh1.vertices[:, 2], contours=[-0.001])[0]\n    cc2 = scalar_contour(mesh2, mesh2.vertices[:, 2], contours=[-0.001])[0]\n\n    B = (B1.T + B2.T)[:2].reshape(2, x.shape[0], y.shape[0])\n    lw = np.sqrt(B[0] ** 2 + B[1] ** 2)\n    lw = 2 * lw / np.max(lw)\n    xx = np.linspace(-1, 1, 16)\n    # seed_points = 0.51*np.array([xx, -np.sqrt(1-xx**2)])\n    # seed_points = np.hstack([seed_points, (0.51*np.array([xx, np.sqrt(1-xx**2)]))])\n    seed_points = np.array([cc1[:, 0], cc1[:, 1]]) * 1.01\n    # plt.streamplot(x,y, B[1], B[0], density=2, linewidth=lw, color='k',\n    #               start_points=seed_points.T, integration_direction='both')\n    U = (U1 + U2).reshape(x.shape[0], y.shape[0])\n    U /= np.max(U)\n    plt.figure()\n    plt.contourf(X, Y, U.T, cmap=\"seismic\", levels=40)\n    # plt.imshow(U, vmin=-1.0, vmax=1.0, cmap='seismic', interpolation='bicubic',\n    #           extent=(x.min(), x.max(), y.min(), y.max()))\n    plt.streamplot(\n        x,\n        y,\n        B[1],\n        B[0],\n        density=2,\n        linewidth=lw,\n        color=\"k\",\n        start_points=seed_points.T,\n        integration_direction=\"both\",\n    )\n\n    plt.plot(cc1[:, 1], cc1[:, 0], linewidth=3.0, color=\"gray\")\n    plt.plot(cc2[:, 1], cc2[:, 0], linewidth=3.0, color=\"gray\")\n\n    plt.xticks([])\n    plt.yticks([])\n\n    plt.axis(\"image\")\n\n    # Plot \"coils\"\n    mlab.figure(bgcolor=(1, 1, 1))\n    contours1 = scalar_contour(mesh1, I1, 12)\n    contours2 = scalar_contour(mesh2, I2, 12)\n\n    #    fig = plot_3d_current_loops(contours1, tube_radius=0.005, colors=(1,1,1))\n    surf = mlab.triangular_mesh(\n        *mesh1.vertices.T, mesh1.faces, scalars=I1, colormap=\"BrBG\"\n    )\n    surf.actor.mapper.interpolate_scalars_before_mapping = True\n    surf.module_manager.scalar_lut_manager.number_of_colors = 16\n\n    #    plot_3d_current_loops(contours2, tube_radius=0.005, figure=fig, colors=(0,0,0))\n    faces2_masked = mesh2.faces[\n        np.linalg.norm(mesh2.triangles_center - np.array([0.75, 0.75, 0.75]), axis=1)\n        > 1.2\n    ]\n    surf = mlab.triangular_mesh(\n        *(mesh2.vertices * 0.99).T,\n        faces2_masked,\n        scalars=I2,\n        colormap=\"BrBG\",\n        opacity=1.0\n    )\n    surf.actor.mapper.interpolate_scalars_before_mapping = True\n    surf.module_manager.scalar_lut_manager.number_of_colors = 16\n    plot_plane(0.5)"
      ]
    },
    {
      "cell_type": "code",
      "execution_count": null,
      "metadata": {
        "collapsed": false
      },
      "outputs": [],
      "source": [
        "mlab.figure(bgcolor=(1, 1, 1))\ns1 = mlab.triangular_mesh(\n    *mesh1.vertices.T, mesh1.faces[:, ::-1], color=(0.5, 0.5, 0.5), opacity=1.0\n)\ns1.actor.property.backface_culling = True\nw1 = mlab.triangular_mesh(\n    *(mesh1.vertices.T + 0.009 * mesh1.vertex_normals.T),\n    mesh1.faces,\n    color=(1, 0, 0,),\n    representation=\"wireframe\"\n)\nw1.actor.property.render_lines_as_tubes = True\n\ns2 = mlab.triangular_mesh(\n    *mesh2.vertices.T, mesh2.faces[:, ::-1], color=(0.5, 0.5, 0.5), opacity=1.0\n)\ns2.actor.property.backface_culling = True\nfaces2_masked = mesh2.faces[(mesh2.triangles_center @ np.array([1, 1, 1])) < 1]\nw2 = mlab.triangular_mesh(\n    *(mesh2.vertices.T + +0.009 * mesh2.vertex_normals.T),\n    faces2_masked,\n    representation=\"wireframe\",\n    color=(0, 0, 1)\n)\nw2.actor.property.render_lines_as_tubes = True\nplot_plane()"
      ]
    }
  ],
  "metadata": {
    "kernelspec": {
      "display_name": "Python 3",
      "language": "python",
      "name": "python3"
    },
    "language_info": {
      "codemirror_mode": {
        "name": "ipython",
        "version": 3
      },
      "file_extension": ".py",
      "mimetype": "text/x-python",
      "name": "python",
      "nbconvert_exporter": "python",
      "pygments_lexer": "ipython3",
      "version": "3.7.6"
    }
  },
  "nbformat": 4,
  "nbformat_minor": 0
}