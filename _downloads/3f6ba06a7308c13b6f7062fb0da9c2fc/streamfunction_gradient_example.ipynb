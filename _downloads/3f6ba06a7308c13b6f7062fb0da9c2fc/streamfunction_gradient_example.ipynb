{
  "cells": [
    {
      "cell_type": "code",
      "execution_count": null,
      "metadata": {
        "collapsed": false
      },
      "outputs": [],
      "source": [
        "%matplotlib inline"
      ]
    },
    {
      "cell_type": "markdown",
      "metadata": {},
      "source": [
        "\nFigure 1: Stream function example\n==================================\n    \nAn example stream function (red--blue colormap) and its rotated gradient, i.e. the surface current density (arrows; green colormap) on a surface mesh with a hole in it. The surface normal is oriented up towards the reader.\n"
      ]
    },
    {
      "cell_type": "code",
      "execution_count": null,
      "metadata": {
        "collapsed": false
      },
      "outputs": [],
      "source": [
        "from bfieldtools.mesh_conductor import MeshConductor, StreamFunction\nimport pkg_resources\nfrom bfieldtools.mesh_calculus import gradient\nimport numpy as np\n\nSAVE = False\nSAVE_DIR = \".\"\n\n\nc = MeshConductor(\n    mesh_file=pkg_resources.resource_filename(\n        \"bfieldtools\", \"example_meshes/curved_surf_w_hole.stl\"\n    ),\n    process=True,\n    basis_name=\"suh\",\n    N_suh=10,\n    fix_normals=True,\n)\n\n\nT_x = 1.5 * np.pi / 2\nT_z = -1.02 * np.pi\nrotmat = np.array(\n    [\n        [np.cos(T_z), -np.sin(T_z), 0, 0],\n        [np.sin(T_z), np.cos(T_z), 0, 0],\n        [0, 0, 1, 0],\n        [0, 0, 0, 1],\n    ]\n) @ np.array(\n    [\n        [1, 0, 0, 0],\n        [0, np.cos(T_x), -np.sin(T_x), 0],\n        [0, np.sin(T_x), np.cos(T_x), 0],\n        [0, 0, 0, 1],\n    ]\n)\n\n\nc.mesh.apply_transform(rotmat)\n\ns = np.zeros((c.basis.shape[1],))\ns[2] += 1\n# s[63] += 2\n\ns = StreamFunction(s, c)\n\n\nfrom mayavi import mlab\nfrom mayavi.api import Engine\n\nengine = Engine()\nengine.start()\n\nf = mlab.figure(None, bgcolor=(1, 1, 1), fgcolor=(0.5, 0.5, 0.5), size=(800, 700))\ns.plot(figure=f, ncolors=256)\nc.plot_mesh(representation=\"wireframe\", figure=f)\n\n\nj = gradient(s.vert, c.mesh, rotated=True)\n\nLen = np.log(np.linalg.norm(j, axis=0))\n\nvectors = mlab.quiver3d(\n    *c.mesh.triangles_center.T, *j, mode=\"arrow\", colormap=\"Greens\", scalars=Len\n)\n\n# vectors = engine.scenes[0].children[2].children[0].children[0]\nvectors.glyph.glyph.scale_mode = \"scale_by_scalar\"\nvectors.glyph.glyph.scale_factor = 0.6\nf.scene.z_plus_view()\n\n\nmodule_manager2 = vectors.module_manager\nmodule_manager2.scalar_lut_manager.scalar_bar_representation.maximum_size = np.array(\n    [100000, 100000]\n)\nmodule_manager2.scalar_lut_manager.scalar_bar_representation.minimum_size = np.array(\n    [1, 1]\n)\nmodule_manager2.scalar_lut_manager.scalar_bar_representation.position = np.array(\n    [0.82, 0.1]\n)\nmodule_manager2.scalar_lut_manager.scalar_bar_representation.position2 = np.array(\n    [0.17, 0.8]\n)\nmodule_manager2.scalar_lut_manager.show_scalar_bar = True\nmodule_manager2.scalar_lut_manager.show_legend = True\nmodule_manager2.scalar_lut_manager.scalar_bar.height = 0.8\nmodule_manager2.scalar_lut_manager.scalar_bar.position = np.array([0.82, 0.1])\nmodule_manager2.scalar_lut_manager.scalar_bar.position2 = np.array([0.17, 0.8])\nmodule_manager2.scalar_lut_manager.scalar_bar.width = 0.17\n\nf.scene.camera.position = [\n    -0.3696892487983681,\n    0.2840788710848503,\n    3.701830880912346,\n]\nf.scene.camera.focal_point = [\n    -0.3696892487983681,\n    0.2840788710848503,\n    0.8575533408480627,\n]\nf.scene.camera.view_angle = 30.0\nf.scene.camera.view_up = [0.0, 1.0, 0.0]\nf.scene.camera.clipping_range = [2.5164461179149695, 3.263810326333801]\nf.scene.camera.compute_view_plane_normal()\nf.scene.render()\nmodule_manager2.scalar_lut_manager.scalar_bar.position = np.array([0.82, 0.1])\nmodule_manager2.scalar_lut_manager.scalar_bar.position2 = np.array([0.17, 0.8])\nmodule_manager2.scalar_lut_manager.scalar_bar.number_of_labels = 0\nmodule_manager2.scalar_lut_manager.scalar_bar.position = np.array([0.82, 0.1])\nmodule_manager2.scalar_lut_manager.scalar_bar.position2 = np.array([0.17, 0.8])\nmodule_manager2.scalar_lut_manager.number_of_labels = 0\nmodule_manager2.scalar_lut_manager.scalar_bar.position = np.array([0.82, 0.1])\nmodule_manager2.scalar_lut_manager.scalar_bar.position2 = np.array([0.17, 0.8])\nmodule_manager2.scalar_lut_manager.scalar_bar.maximum_number_of_colors = 8\nmodule_manager2.scalar_lut_manager.scalar_bar.position = np.array([0.82, 0.1])\nmodule_manager2.scalar_lut_manager.scalar_bar.position2 = np.array([0.17, 0.8])\nmodule_manager2.scalar_lut_manager.number_of_colors = 8\nmodule_manager2.scalar_lut_manager.use_default_name = False\nmodule_manager2.scalar_lut_manager.scalar_bar.position = np.array([0.82, 0.1])\nmodule_manager2.scalar_lut_manager.scalar_bar.position2 = np.array([0.17, 0.8])\nmodule_manager2.scalar_lut_manager.scalar_bar.title = \"Current density\"\nmodule_manager2.scalar_lut_manager.scalar_bar.position = np.array([0.82, 0.1])\nmodule_manager2.scalar_lut_manager.scalar_bar.position2 = np.array([0.17, 0.8])\nmodule_manager2.scalar_lut_manager.data_name = \"Current density\"\nmodule_manager2.scalar_lut_manager.label_text_property.shadow_offset = np.array([1, -1])\nmodule_manager2.scalar_lut_manager.label_text_property.italic = False\nmodule_manager2.scalar_lut_manager.label_text_property.shadow_offset = np.array([1, -1])\nmodule_manager2.scalar_lut_manager.label_text_property.color = (0.0, 0.0, 0.0)\nmodule_manager2.scalar_lut_manager.title_text_property.shadow_offset = np.array([1, -1])\nmodule_manager2.scalar_lut_manager.title_text_property.italic = False\nmodule_manager2.scalar_lut_manager.title_text_property.shadow_offset = np.array([1, -1])\nmodule_manager2.scalar_lut_manager.title_text_property.color = (0.0, 0.0, 0.0)\nmodule_manager2.scalar_lut_manager.title_text_property.shadow_offset = np.array([1, -1])\nmodule_manager2.scalar_lut_manager.title_text_property.bold = False\n\nif SAVE:\n    mlab.savefig(\n        SAVE_DIR + \"streamfunction_gradient.png\", figure=f, magnification=4,\n    )"
      ]
    }
  ],
  "metadata": {
    "kernelspec": {
      "display_name": "Python 3",
      "language": "python",
      "name": "python3"
    },
    "language_info": {
      "codemirror_mode": {
        "name": "ipython",
        "version": 3
      },
      "file_extension": ".py",
      "mimetype": "text/x-python",
      "name": "python",
      "nbconvert_exporter": "python",
      "pygments_lexer": "ipython3",
      "version": "3.7.6"
    }
  },
  "nbformat": 4,
  "nbformat_minor": 0
}