{
  "cells": [
    {
      "cell_type": "code",
      "execution_count": null,
      "metadata": {
        "collapsed": false
      },
      "outputs": [],
      "source": [
        "%matplotlib inline"
      ]
    },
    {
      "cell_type": "markdown",
      "metadata": {},
      "source": [
        "\nFlatten mesh using conformal mapping\n===========================================\n\nMap 3D mesh to a 2D (complex) plane with angle-preserving (conformal) mapping\n\nBased on these course notes\nhttps://www.cs.cmu.edu/~kmcrane/Projects/DDG/\nsection 7.4.\n"
      ]
    },
    {
      "cell_type": "code",
      "execution_count": null,
      "metadata": {
        "collapsed": false
      },
      "outputs": [],
      "source": [
        "import numpy as np\nfrom bfieldtools.mesh_calculus import laplacian_matrix, mass_matrix\nfrom bfieldtools.utils import find_mesh_boundaries, load_example_mesh\nfrom scipy.sparse.linalg import eigsh\nfrom scipy.sparse import csc_matrix\nimport trimesh\n\n\ndef A_matrix_complex(mesh):\n    \"\"\"\n    Area matrix for complex parametrization\n    See this course:\n    https://www.cs.cmu.edu/~kmcrane/Projects/DDG/\n    section 7.4.\n\n    Parameters\n    ----------\n    mesh : trimesh\n\n    Returns\n    -------\n    A : area matrix\n        u.T.conj() @ A @ u is the area of the mesh\n        where u is the complex coordinates of the vertices \n        (complex parameterization)\n\n    \"\"\"\n    p = mesh.outline().entities[0]\n    b = p.points\n    N = mesh.vertices.shape[0]\n    ii = np.hstack([b, np.roll(b, 1)])\n    jj = np.hstack([np.roll(b, 1), b])\n    vv = np.ones(len(b))\n    data = -0.25 * 1j * np.hstack([vv, -vv])\n    A = csc_matrix((data, (ii, jj)), shape=(N, N))\n\n    return A\n\n\nmesh = load_example_mesh(\"meg_helmet\", process=False)\n\nN = mesh.vertices.shape[0]\n\nL = laplacian_matrix(mesh)\nM = mass_matrix(mesh)\nAc = A_matrix_complex(mesh)\n# lambda <= 1.0\n# if lambda == 1.0 => conformal mapping\n# if lambda == 0.5 =>  not conformal but less area distortion\n# if lambda > 1 (e.g. 1.01-1.1) weird folding effects\n_lambda = 0.5\nvals, uv = eigsh(-0.5 * L.T - _lambda * Ac, 6, M, which=\"LM\", sigma=0)\n\n# Coordinates with initial phase\nu = uv[:, 1].real\nv = uv[:, 1].imag\n\n# Determine \"phase\" by matching the uv coordinate function with mesh coordinates\ntheta = np.linspace(0, 2 * np.pi, 50)\nyy = np.imag(np.exp(1j * theta)[:, None] * uv[:, 1])\n# plt.plot(np.sum(mesh.vertices[:,0]*xx, axis=1))\nii = np.argmax(np.sum(mesh.vertices[:, 1] * yy, axis=1))\n\ntheta = theta[ii]\nu = np.real(np.exp(1j * theta) * uv[:, 1])\nv = np.imag(np.exp(1j * theta) * uv[:, 1])"
      ]
    },
    {
      "cell_type": "code",
      "execution_count": null,
      "metadata": {
        "collapsed": false
      },
      "outputs": [],
      "source": [
        "from mayavi import mlab\nfrom bfieldtools.viz import plot_data_on_vertices, plot_mesh, plot_data_on_faces\n\nplot_data_on_vertices(mesh, u, ncolors=15)\nplot_data_on_vertices(mesh, v, ncolors=15)"
      ]
    },
    {
      "cell_type": "code",
      "execution_count": null,
      "metadata": {
        "collapsed": false
      },
      "outputs": [],
      "source": [
        "mesh2d = trimesh.Trimesh(np.array([u, v, 0 * u]).T, mesh.faces, process=False)\nplot_data_on_faces(mesh2d, mesh2d.area_faces / mesh.area_faces)"
      ]
    },
    {
      "cell_type": "code",
      "execution_count": null,
      "metadata": {
        "collapsed": false
      },
      "outputs": [],
      "source": [
        "from bfieldtools.mesh_calculus import gradient\n\ngx = gradient(u, mesh)\ngy = gradient(v, mesh)\ncos = np.sum(gx * gy, axis=0) / (\n    np.linalg.norm(gx, axis=0) * np.linalg.norm(gy, axis=0)\n)\nplot_data_on_faces(mesh, cos, vmin=-1, vmax=1)\nmlab.quiver3d(*mesh.triangles_center.T, *gx, color=(1, 0, 0), mode=\"arrow\")\nmlab.quiver3d(*mesh.triangles_center.T, *gy, color=(0, 0, 1), mode=\"arrow\")"
      ]
    },
    {
      "cell_type": "code",
      "execution_count": null,
      "metadata": {
        "collapsed": false
      },
      "outputs": [],
      "source": [
        "import trimesh\n\n\ndef mesh2plane(points3d, mesh, u, v):\n    c, d, f = trimesh.proximity.closest_point(mesh, points3d)\n    tris = mesh.vertices[mesh.faces[f]]\n    barys = trimesh.triangles.points_to_barycentric(tris, c)\n    print(barys)\n    p1 = np.sum(u[mesh.faces[f]] * barys, axis=1)\n    p2 = np.sum(v[mesh.faces[f]] * barys, axis=1)\n    return np.array([p1, p2]).T\n\n\ndef plane2mesh(points2d, mesh, u, v):\n    mesh2d = trimesh.Trimesh(np.array([u, v, 0 * u]).T, mesh.faces)\n    c, d, f = trimesh.proximity.closest_point(mesh2d, points2d)\n    c = c[d < 1e-8]\n    f = f[d < 1e-8]\n    # Homogeneous coordinates\n    c[:, 2] = 1\n    p = []\n    for ci, fi in zip(c, f):\n        R = np.ones((3, 3))\n        R[0] = u[mesh.faces[fi]]\n        R[1] = v[mesh.faces[fi]]\n        bary = np.linalg.solve(R, ci)\n        p.append(mesh.vertices[mesh.faces[fi], :].T @ bary)\n\n    return np.array(p)"
      ]
    },
    {
      "cell_type": "code",
      "execution_count": null,
      "metadata": {
        "collapsed": false
      },
      "outputs": [],
      "source": [
        "d = np.sqrt(3 / 4)\nm = np.min((u.min(), v.min()))\nmm = np.min((u.max(), v.max()))\nxx = np.linspace(m * 1.05, mm * 1.05, 12)\nyy = np.linspace(m * 1.05, mm * 1.05, 12) * d\np = np.array(np.meshgrid(xx, yy, 0, indexing=\"ij\"))\np[0, :, ::2] += (xx[1] - xx[0]) * d / 2\n\np = p.reshape(3, -1).T\n\npp = plane2mesh(p, mesh, u, v)\n\nplot_data_on_vertices(mesh, u, ncolors=15)\nmlab.points3d(*pp.T, scale_factor=0.01)"
      ]
    }
  ],
  "metadata": {
    "kernelspec": {
      "display_name": "Python 3",
      "language": "python",
      "name": "python3"
    },
    "language_info": {
      "codemirror_mode": {
        "name": "ipython",
        "version": 3
      },
      "file_extension": ".py",
      "mimetype": "text/x-python",
      "name": "python",
      "nbconvert_exporter": "python",
      "pygments_lexer": "ipython3",
      "version": "3.7.6"
    }
  },
  "nbformat": 4,
  "nbformat_minor": 0
}