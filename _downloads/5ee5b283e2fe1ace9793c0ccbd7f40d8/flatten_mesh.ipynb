{
  "cells": [
    {
      "cell_type": "code",
      "execution_count": null,
      "metadata": {
        "collapsed": false
      },
      "outputs": [],
      "source": [
        "%matplotlib inline"
      ]
    },
    {
      "cell_type": "markdown",
      "metadata": {},
      "source": [
<<<<<<< HEAD
        "\nFlatten mesh using conformal mapping\n=============================================\n\nMap 3D mesh to a 2D (complex) plane with angle-preserving (conformal) mapping\n\nBased on these course notes\nhttps://www.cs.cmu.edu/~kmcrane/Projects/DDG/\nsection 7.4.\n"
=======
        "\nFlatten mesh using conformal mapping\n===========================================\n\nMap 3D mesh to a 2D (complex) plane with angle-preserving (conformal) mapping\n\nBased on these course notes\nhttps://www.cs.cmu.edu/~kmcrane/Projects/DDG/\nsection 7.4.\n\n\n"
>>>>>>> tmp
      ]
    },
    {
      "cell_type": "code",
      "execution_count": null,
      "metadata": {
        "collapsed": false
      },
      "outputs": [],
      "source": [
<<<<<<< HEAD
        "import numpy as np\nfrom bfieldtools.flatten_mesh import flatten_mesh\nfrom bfieldtools.flatten_mesh import mesh2plane\nfrom bfieldtools.flatten_mesh import plane2mesh\nfrom bfieldtools.utils import load_example_mesh"
      ]
    },
    {
      "cell_type": "code",
      "execution_count": null,
      "metadata": {
        "collapsed": false
      },
      "outputs": [],
      "source": [
        "from mayavi import mlab\nfrom bfieldtools.viz import plot_data_on_vertices, plot_mesh, plot_data_on_faces\n\nmesh = load_example_mesh(\"meg_helmet\", process=False)\nu, v, mesh2d = flatten_mesh(mesh, _lambda=0.80)\n\nplot_data_on_vertices(mesh, u, ncolors=15)\nplot_data_on_vertices(mesh, v, ncolors=15)"
      ]
    },
    {
      "cell_type": "markdown",
      "metadata": {},
      "source": [
        "lls = np.linspace(0.01,1.0, 100)\nmm = []\nfor ll in lls:\n    u, v, mesh2d = flatten_mesh(mesh, _lambda=ll)\n    d = mesh2d.area_faces / mesh.area_faces\n    mm.append(np.std(d)/np.mean(d))\n    print(np.std(d)/np.mean(d))\nplt.plot(lls, mm)\n\n"
      ]
    },
    {
      "cell_type": "code",
      "execution_count": null,
      "metadata": {
        "collapsed": false
      },
      "outputs": [],
      "source": [
        "plot_data_on_faces(mesh2d, mesh2d.area_faces / mesh.area_faces)"
      ]
    },
    {
      "cell_type": "code",
      "execution_count": null,
      "metadata": {
        "collapsed": false
      },
      "outputs": [],
      "source": [
        "from bfieldtools.mesh_calculus import gradient\n\ngx = gradient(u, mesh)\ngy = gradient(v, mesh)\ncos = np.sum(gx * gy, axis=0) / (\n    np.linalg.norm(gx, axis=0) * np.linalg.norm(gy, axis=0)\n)\nplot_data_on_faces(mesh, cos, vmin=-1, vmax=1)\nmlab.quiver3d(*mesh.triangles_center.T, *gx, color=(1, 0, 0), mode=\"arrow\")\nq = mlab.quiver3d(*mesh.triangles_center.T, *gy, color=(0, 0, 1), mode=\"arrow\")\nq.scene.isometric_view()"
      ]
    },
    {
      "cell_type": "code",
      "execution_count": null,
      "metadata": {
        "collapsed": false
      },
      "outputs": [],
      "source": [
        "d = np.sqrt(3 / 4)\nm = np.min((u.min(), v.min()))\nmm = np.min((u.max(), v.max()))\nxx = np.linspace(m * 1.05, mm * 1.05, 12)\nyy = np.linspace(m * 1.05, mm * 1.05, 12) * d\np = np.array(np.meshgrid(xx, yy, 0, indexing=\"ij\"))\np[0, :, ::2] += (xx[1] - xx[0]) * 0.5\n\np = p.reshape(3, -1).T\n\npp = plane2mesh(p, mesh, u, v)\n\nplot_data_on_vertices(mesh, u, ncolors=15)\nmlab.points3d(*pp.T, scale_factor=0.01)"
=======
        "import numpy as np\nfrom bfieldtools.flatten_mesh import flatten_mesh\nfrom bfieldtools.flatten_mesh import mesh2plane\nfrom bfieldtools.flatten_mesh import plane2mesh\nfrom bfieldtools.utils import load_example_mesh\n\n#%% Determine 2D parameterization and plot coordinate function on the 3D mesh\nfrom mayavi import mlab\nfrom bfieldtools.viz import plot_data_on_vertices, plot_mesh, plot_data_on_faces\n\nmesh = load_example_mesh(\"meg_helmet\", process=False)\nu, v, mesh2d = flatten_mesh(mesh, _lambda=0.80)\n\nplot_data_on_vertices(mesh, u, ncolors=15)\nplot_data_on_vertices(mesh, v, ncolors=15)\n\n#%% Determine lambda with smallest area distortion\n# lls = np.linspace(0.01,1.0, 100)\n# mm = []\n# for ll in lls:\n#     u, v, mesh2d = flatten_mesh(mesh, _lambda=ll)\n#     d = mesh2d.area_faces / mesh.area_faces\n#     mm.append(np.std(d)/np.mean(d))\n#     print(np.std(d)/np.mean(d))\n# plt.plot(lls, mm)\n\n#%% Plot flattened mesh and area distortion on faces\nplot_data_on_faces(mesh2d, mesh2d.area_faces / mesh.area_faces)\n\n#%% Plot gradient of the two coordinate functions and the cosine of the angle between the gradients\nfrom bfieldtools.mesh_calculus import gradient\n\ngx = gradient(u, mesh)\ngy = gradient(v, mesh)\ncos = np.sum(gx * gy, axis=0) / (\n    np.linalg.norm(gx, axis=0) * np.linalg.norm(gy, axis=0)\n)\nplot_data_on_faces(mesh, cos, vmin=-1, vmax=1)\nmlab.quiver3d(*mesh.triangles_center.T, *gx, color=(1, 0, 0), mode=\"arrow\")\nq = mlab.quiver3d(*mesh.triangles_center.T, *gy, color=(0, 0, 1), mode=\"arrow\")\nq.scene.isometric_view()\n\n#%% Map hexagonal grid from 2d to the 3D mesh\nd = np.sqrt(3 / 4)\nm = np.min((u.min(), v.min()))\nmm = np.min((u.max(), v.max()))\nxx = np.linspace(m * 1.05, mm * 1.05, 12)\nyy = np.linspace(m * 1.05, mm * 1.05, 12) * d\np = np.array(np.meshgrid(xx, yy, 0, indexing=\"ij\"))\np[0, :, ::2] += (xx[1] - xx[0]) * 0.5\n\np = p.reshape(3, -1).T\n\npp = plane2mesh(p, mesh, u, v)\n\nplot_data_on_vertices(mesh, u, ncolors=15)\nmlab.points3d(*pp.T, scale_factor=0.01)"
>>>>>>> tmp
      ]
    }
  ],
  "metadata": {
    "kernelspec": {
      "display_name": "Python 3",
      "language": "python",
      "name": "python3"
    },
    "language_info": {
      "codemirror_mode": {
        "name": "ipython",
        "version": 3
      },
      "file_extension": ".py",
      "mimetype": "text/x-python",
      "name": "python",
      "nbconvert_exporter": "python",
      "pygments_lexer": "ipython3",
      "version": "3.6.7"
    }
  },
  "nbformat": 4,
  "nbformat_minor": 0
}