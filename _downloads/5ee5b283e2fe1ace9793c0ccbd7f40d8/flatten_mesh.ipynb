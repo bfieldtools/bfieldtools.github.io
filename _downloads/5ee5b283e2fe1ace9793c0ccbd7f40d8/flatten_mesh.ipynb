{
  "cells": [
    {
      "cell_type": "code",
      "execution_count": null,
      "metadata": {
        "collapsed": false
      },
      "outputs": [],
      "source": [
        "%matplotlib inline"
      ]
    },
    {
      "cell_type": "markdown",
      "metadata": {},
      "source": [
        "\nFlatten mesh using conformal mapping\n===========================================\n\nMap 3D mesh to a 2D (complex) plane with angle-preserving (conformal) mapping\n\nBased on these course notes\nhttps://www.cs.cmu.edu/~kmcrane/Projects/DDG/\nsection 7.4.\n"
      ]
    },
    {
      "cell_type": "code",
      "execution_count": null,
      "metadata": {
        "collapsed": false
      },
      "outputs": [],
      "source": [
        "import numpy as np\nfrom bfieldtools.mesh_calculus import laplacian_matrix, mass_matrix\nfrom bfieldtools.utils import find_mesh_boundaries, load_example_mesh\nfrom scipy.sparse.linalg import eigsh\nfrom scipy.sparse import csc_matrix\n\n\ndef A_matrix_complex(mesh):\n    \"\"\"\n    Area matrix for complex parametrization\n    See this course:\n    https://www.cs.cmu.edu/~kmcrane/Projects/DDG/\n    section 7.4.\n\n    Parameters\n    ----------\n    mesh : trimesh\n\n    Returns\n    -------\n    A : area matrix\n        u.T.conj() @ A @ u is the area of the mesh\n        where u is the complex coordinates of the vertices \n        (complex parameterization)\n\n    \"\"\"\n    p = mesh.outline().entities[0]\n    b = p.points\n    N = mesh.vertices.shape[0]\n    ii = np.hstack([b, np.roll(b, 1)])\n    jj = np.hstack([np.roll(b, 1), b])\n    vv = np.ones(len(b))\n    data = -0.25 * 1j * np.hstack([vv, -vv])\n    A = csc_matrix((data, (ii, jj)), shape=(N, N))\n\n    return A\n\n\nmesh = load_example_mesh(\"meg_helmet\", process=False)\n\nN = mesh.vertices.shape[0]\n\nL = laplacian_matrix(mesh)\nM = mass_matrix(mesh)\nAc = A_matrix_complex(mesh)\nvals, uv = eigsh(-L.T - Ac, 6, M, which=\"LM\", sigma=0)\n\n# Coordinates with inital phase\nx = uv[:, 1].real\ny = uv[:, 1].imag"
      ]
    },
    {
      "cell_type": "code",
      "execution_count": null,
      "metadata": {
        "collapsed": false
      },
      "outputs": [],
      "source": [
        "theta = np.linspace(0, 2 * np.pi, 50)\nxx = np.real(np.exp(1j * theta)[:, None] * uv[:, 1])\n# plt.plot(np.sum(mesh.vertices[:,0]*xx, axis=1))\nii = np.argmax(np.sum(mesh.vertices[:, 0] * xx, axis=1))\n\ntheta = theta[ii]\nx = np.real(np.exp(1j * theta) * uv[:, 1])\ny = np.imag(np.exp(1j * theta) * uv[:, 1])"
      ]
    },
    {
      "cell_type": "code",
      "execution_count": null,
      "metadata": {
        "collapsed": false
      },
      "outputs": [],
      "source": [
        "from mayavi import mlab\nfrom bfieldtools.viz import plot_data_on_vertices, plot_mesh\n\nplot_data_on_vertices(mesh, x, ncolors=15)\nplot_data_on_vertices(mesh, y, ncolors=15)"
      ]
    },
    {
      "cell_type": "code",
      "execution_count": null,
      "metadata": {
        "collapsed": false
      },
      "outputs": [],
      "source": [
        "mlab.figure()\nmlab.triangular_mesh(\n    x,\n    y,\n    np.zeros_like(x),\n    mesh.faces,\n    scalars=x,\n    representation=\"wireframe\",\n    colormap=\"bwr\",\n)"
      ]
    },
    {
      "cell_type": "code",
      "execution_count": null,
      "metadata": {
        "collapsed": false
      },
      "outputs": [],
      "source": [
        "from bfieldtools.mesh_calculus import gradient\n\ngx = gradient(x, mesh)\ngy = gradient(y, mesh)\nplot_mesh(mesh)\nmlab.quiver3d(*mesh.triangles_center.T, *gx, color=(1, 0, 0), mode=\"arrow\")\nmlab.quiver3d(*mesh.triangles_center.T, *gy, color=(0, 0, 1), mode=\"arrow\")"
      ]
    }
  ],
  "metadata": {
    "kernelspec": {
      "display_name": "Python 3",
      "language": "python",
      "name": "python3"
    },
    "language_info": {
      "codemirror_mode": {
        "name": "ipython",
        "version": 3
      },
      "file_extension": ".py",
      "mimetype": "text/x-python",
      "name": "python",
      "nbconvert_exporter": "python",
      "pygments_lexer": "ipython3",
      "version": "3.7.6"
    }
  },
  "nbformat": 4,
  "nbformat_minor": 0
}