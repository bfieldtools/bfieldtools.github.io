{
  "cells": [
    {
      "cell_type": "code",
      "execution_count": null,
      "metadata": {
        "collapsed": false
      },
      "outputs": [],
      "source": [
        "%matplotlib inline"
      ]
    },
    {
      "cell_type": "markdown",
      "metadata": {},
      "source": [
        "\nTriangle dipole density approximation error\n==================================================\n\nCompare the exact solution for the potential of dipolar density with magnitude of a\nlinear shape function on a triangle with two approximations.\n"
      ]
    },
    {
      "cell_type": "code",
      "execution_count": null,
      "metadata": {
        "collapsed": false
      },
      "outputs": [],
      "source": [
        "from bfieldtools.integrals import (\n    potential_vertex_dipoles,\n    triangle_potential_dipole_linear,\n    potential_dipoles,\n)\n\nfrom bfieldtools.mesh_calculus import mass_matrix\nfrom bfieldtools.utils import load_example_mesh\n\nimport matplotlib.pyplot as plt\n\n\nimport numpy as np\nfrom scipy.sparse import csc_matrix\n\nmesh = load_example_mesh(\"unit_disc\")\n\n\nz = np.linspace(0, 10, 101)[1:]\nx = np.zeros_like(z)\ny = np.zeros_like(z)\n\npoints = np.array([x, y, z]).T\n\nR = points[:, None, None, :] - mesh.vertices[mesh.faces][None, :, :, :]\nR_v = points[:, None, :] - mesh.vertices[None, :, :]\n\nvertex_areas = mass_matrix(mesh, lumped=True).diagonal()\n\napprox_pot_v = potential_vertex_dipoles(R_v, mesh.vertex_normals, vertex_areas)\n\napprox_pot_f = potential_dipoles(R, mesh.face_normals, mesh.area_faces)\nexact_pot_f = triangle_potential_dipole_linear(R, mesh.face_normals, mesh.area_faces)\n\n# Map faces -> vertices\nNf = len(mesh.faces)\nNv = len(mesh.vertices)\nM0 = csc_matrix((np.ones(Nf), (np.arange(Nf), mesh.faces[:, 0])), (Nf, Nv))\nM1 = csc_matrix((np.ones(Nf), (np.arange(Nf), mesh.faces[:, 1])), (Nf, Nv))\nM2 = csc_matrix((np.ones(Nf), (np.arange(Nf), mesh.faces[:, 2])), (Nf, Nv))\nexact_pot_v = (\n    exact_pot_f[:, :, 0] @ M0 + exact_pot_f[:, :, 1] @ M1 + exact_pot_f[:, :, 2] @ M2\n)\napprox_pot_fv = (\n    approx_pot_f[:, :, 0] @ M0 + approx_pot_f[:, :, 1] @ M1 + approx_pot_f[:, :, 2] @ M2\n)\n\nmask = np.linalg.norm(mesh.vertices, axis=1) < 0.9\nmask[5:] = False\nRE_fv = (\n    np.abs((approx_pot_fv[:, mask] - exact_pot_v[:, mask]) / exact_pot_v[1, mask]) * 100\n)\nRE_v = (\n    np.abs((approx_pot_v[:, mask] - exact_pot_v[:, mask]) / exact_pot_v[1, mask]) * 100\n)\n\nplt.semilogy(z, approx_pot_fv[:, mask], \"--\", label=\"potential_dipoles\")\nplt.gca().set_prop_cycle(None)\nplt.semilogy(z, approx_pot_v[:, mask], \"-.\", label=\"potential_vertex_dipoles\")\nplt.gca().set_prop_cycle(None)\nplt.semilogy(z, exact_pot_v[:, mask], label=\"exact_vertex_dipoles\")\nplt.ylabel(\"Potential\")\nplt.xlabel(\"Distance\")\n\n\nplt.figure()\nplt.semilogy(z, (approx_pot_fv - exact_pot_v)[:, mask], \"--\", label=\"potential_dipoles\")\nplt.gca().set_prop_cycle(None)\nplt.semilogy(\n    z, (approx_pot_v - exact_pot_v)[:, mask], \"-.\", label=\"potential_vertex_dipoles\"\n)\nplt.ylabel(\"Error\")\nplt.xlabel(\"Distance\")\n\n\nplt.figure()\nplt.semilogy(z, RE_fv, \"--\", label=\"potential_dipoles\")\nplt.gca().set_prop_cycle(None)\nplt.semilogy(z, RE_v, \"-.\", label=\"potential_vertex_dipoles\")\nplt.ylabel(\"Relative error (%)\")\nplt.xlabel(\"Distance\")"
      ]
    }
  ],
  "metadata": {
    "kernelspec": {
      "display_name": "Python 3",
      "language": "python",
      "name": "python3"
    },
    "language_info": {
      "codemirror_mode": {
        "name": "ipython",
        "version": 3
      },
      "file_extension": ".py",
      "mimetype": "text/x-python",
      "name": "python",
      "nbconvert_exporter": "python",
      "pygments_lexer": "ipython3",
      "version": "3.7.6"
    }
  },
  "nbformat": 4,
  "nbformat_minor": 0
}