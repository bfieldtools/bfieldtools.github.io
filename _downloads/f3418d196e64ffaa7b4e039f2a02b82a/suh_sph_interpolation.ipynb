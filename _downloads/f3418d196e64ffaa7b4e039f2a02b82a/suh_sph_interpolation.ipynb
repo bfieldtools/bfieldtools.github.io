{
  "cells": [
    {
      "cell_type": "code",
      "execution_count": null,
      "metadata": {
        "collapsed": false
      },
      "outputs": [],
      "source": [
        "%matplotlib inline"
      ]
    },
    {
      "cell_type": "markdown",
      "metadata": {},
      "source": [
        "\nSUH-SPH interpolation comparison\n==================================\n"
      ]
    },
    {
      "cell_type": "code",
      "execution_count": null,
      "metadata": {
        "collapsed": false
      },
      "outputs": [],
      "source": [
        "import numpy as np\nfrom bfieldtools.mesh_conductor import MeshConductor, StreamFunction\nfrom mayavi import mlab\nimport trimesh\nimport matplotlib.pyplot as plt\n\nfrom bfieldtools.sphtools import basis_fields as sphfield\nfrom bfieldtools.sphtools import basis_potentials, potential\nimport mne"
      ]
    },
    {
      "cell_type": "code",
      "execution_count": null,
      "metadata": {
        "collapsed": false
      },
      "outputs": [],
      "source": [
        "SAVE_DIR = \"./MNE interpolation/\""
      ]
    },
    {
      "cell_type": "code",
      "execution_count": null,
      "metadata": {
        "collapsed": false
      },
      "outputs": [],
      "source": [
        "with np.load(SAVE_DIR + \"mne_data.npz\", allow_pickle=True) as data:\n    mesh = data[\"mesh\"]\n    p = data[\"p\"]\n    n = data[\"n\"]\n    mesh = trimesh.Trimesh(vertices=data[\"vertices\"], faces=data[\"faces\"])\n\nevoked = mne.Evoked(SAVE_DIR + \"left_auditory-ave.fif\")\n\ni0, i1 = evoked.time_as_index(0.08)[0], evoked.time_as_index(0.09)[0]\nfield = evoked.data[:, i0:i1].mean(axis=1)"
      ]
    },
    {
      "cell_type": "code",
      "execution_count": null,
      "metadata": {
        "collapsed": false
      },
      "outputs": [],
      "source": [
        "R = np.min(np.linalg.norm(p, axis=1)) - 0.02"
      ]
    },
    {
      "cell_type": "code",
      "execution_count": null,
      "metadata": {
        "collapsed": false
      },
      "outputs": [],
      "source": [
        "lmax = 6  # maximum degree\nBca, Bcb = sphfield(p, lmax, normalization=\"energy\", R=R)\n\n# sph-components at sensors\nBca_sensors = np.einsum(\"ijk,ij->ik\", Bca, n)\nBcb_sensors = np.einsum(\"ijk,ij->ik\", Bcb, n)"
      ]
    },
    {
      "cell_type": "code",
      "execution_count": null,
      "metadata": {
        "collapsed": false
      },
      "outputs": [],
      "source": [
        "idx = 20\n\nevoked1 = evoked.copy()\nevoked1.data[:, :] = np.tile(Bca_sensors[:, idx].T, (evoked.times.shape[0], 1)).T\nevoked1.plot_topomap(times=0.080, ch_type=\"mag\", colorbar=False)\n\nevoked1 = evoked.copy()\nevoked1.data[:, :] = np.tile(Bcb_sensors[:, idx].T, (evoked.times.shape[0], 1)).T\nevoked1.plot_topomap(times=0.080, ch_type=\"mag\", colorbar=False)"
      ]
    },
    {
      "cell_type": "code",
      "execution_count": null,
      "metadata": {
        "collapsed": false
      },
      "outputs": [],
      "source": [
        "alpha = np.linalg.pinv(Bca_sensors, rcond=1e-15) @ field"
      ]
    },
    {
      "cell_type": "code",
      "execution_count": null,
      "metadata": {
        "collapsed": false
      },
      "outputs": [],
      "source": [
        "reco_sph = np.zeros(field.shape)\n\ni = 0\nfor l in range(1, lmax + 1):\n    for m in range(-1 * l, l + 1):\n        reco_sph += alpha[i] * Bca_sensors[:, i]\n        i += 1"
      ]
    },
    {
      "cell_type": "markdown",
      "metadata": {},
      "source": [
        "#%% Fit the surface current for the auditory evoked response using pinv\n c = MeshConductor(mesh_obj=mesh, basis_name=\"suh\", N_suh=35)\n M = c.mass\n B_sensors = np.einsum(\"ijk,ij->ik\", c.B_coupling(p), n)\n\n\n asuh = np.linalg.pinv(B_sensors, rcond=1e-15) @ field\n\n s = StreamFunction(asuh, c)\n b_filt = B_sensors @ s\n\n"
      ]
    },
    {
      "cell_type": "code",
      "execution_count": null,
      "metadata": {
        "collapsed": false
      },
      "outputs": [],
      "source": [
        "c = MeshConductor(mesh_obj=mesh, basis_name=\"suh\", N_suh=250)\nM = c.mass\n\nB_sensors = np.einsum(\"ijk,ij->ik\", c.B_coupling(p), n)\nss = np.linalg.svd(B_sensors @ B_sensors.T, False, False)\n\nreg_exp = 1\nplot_this = True\nrel_errors = []\n_lambda = np.max(ss) * (10 ** (-reg_exp))\n# Laplacian in the suh basis is diagonal\nBB = B_sensors.T @ B_sensors + _lambda * (-c.laplacian) / np.max(abs(c.laplacian))\na = np.linalg.solve(BB, B_sensors.T @ field)\n\ns = StreamFunction(a, c)\n\nreco_suh = B_sensors @ s\n\nsurf = s.plot(False)\nsurf.actor.mapper.interpolate_scalars_before_mapping = True\nsurf.module_manager.scalar_lut_manager.number_of_colors = 16"
      ]
    },
    {
      "cell_type": "code",
      "execution_count": null,
      "metadata": {
        "collapsed": false
      },
      "outputs": [],
      "source": [
        "evoked1 = evoked.copy()\nevoked1.data[:, :] = np.tile(field.T, (evoked.times.shape[0], 1)).T\nevoked1.plot_topomap(times=0.080, ch_type=\"mag\")\n\nevoked1 = evoked.copy()\nevoked1.data[:, :] = np.tile(reco_sph.T, (evoked.times.shape[0], 1)).T\nevoked1.plot_topomap(times=0.080, ch_type=\"mag\")\n\n\nevoked1 = evoked.copy()\nevoked1.data[:, :] = np.tile(reco_suh.T, (evoked.times.shape[0], 1)).T\nevoked1.plot_topomap(times=0.080, ch_type=\"mag\")"
      ]
    },
    {
      "cell_type": "code",
      "execution_count": null,
      "metadata": {
        "collapsed": false
      },
      "outputs": [],
      "source": [
        "plt.figure()\nplt.plot(alpha ** 2)\n\nplt.figure()\nplt.plot(a ** 2)"
      ]
    },
    {
      "cell_type": "code",
      "execution_count": null,
      "metadata": {
        "collapsed": false
      },
      "outputs": [],
      "source": [
        "U_sph = potential(\n    p, alpha, np.zeros(alpha.shape), lmax=lmax, normalization=\"energy\", R=R\n)\n\nU_suh = c.U_coupling(p) @ a"
      ]
    },
    {
      "cell_type": "code",
      "execution_count": null,
      "metadata": {
        "collapsed": false
      },
      "outputs": [],
      "source": [
        "evoked1 = evoked.copy()\nevoked1.data[:, :] = np.tile(U_sph.T, (evoked.times.shape[0], 1)).T\nevoked1.plot_topomap(times=0.080, ch_type=\"mag\")\n\nevoked1 = evoked.copy()\nevoked1.data[:, :] = np.tile(U_suh.T, (evoked.times.shape[0], 1)).T\nevoked1.plot_topomap(times=0.080, ch_type=\"mag\")"
      ]
    }
  ],
  "metadata": {
    "kernelspec": {
      "display_name": "Python 3",
      "language": "python",
      "name": "python3"
    },
    "language_info": {
      "codemirror_mode": {
        "name": "ipython",
        "version": 3
      },
      "file_extension": ".py",
      "mimetype": "text/x-python",
      "name": "python",
      "nbconvert_exporter": "python",
      "pygments_lexer": "ipython3",
      "version": "3.7.6"
    }
  },
  "nbformat": 4,
  "nbformat_minor": 0
}