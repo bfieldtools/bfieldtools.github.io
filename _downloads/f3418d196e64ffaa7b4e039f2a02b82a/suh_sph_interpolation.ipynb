{
  "cells": [
    {
      "cell_type": "code",
      "execution_count": null,
      "metadata": {
        "collapsed": false
      },
      "outputs": [],
      "source": [
        "%matplotlib inline"
      ]
    },
    {
      "cell_type": "markdown",
      "metadata": {},
      "source": [
        "\nSUH-SPH interpolation comparison\n==================================\n"
      ]
    },
    {
      "cell_type": "code",
      "execution_count": null,
      "metadata": {
        "collapsed": false
      },
      "outputs": [],
      "source": [
        "import numpy as np\nfrom bfieldtools.mesh_conductor import MeshConductor, StreamFunction\nfrom mayavi import mlab\nimport trimesh\nimport matplotlib.pyplot as plt\n\nfrom bfieldtools.sphtools import basis_fields as sphfield\nfrom bfieldtools.sphtools import basis_potentials, potential\nimport mne"
      ]
    },
    {
      "cell_type": "code",
      "execution_count": null,
      "metadata": {
        "collapsed": false
      },
      "outputs": [],
      "source": [
        "SAVE_DIR = \"./MNE interpolation/\""
      ]
    },
    {
      "cell_type": "code",
      "execution_count": null,
      "metadata": {
        "collapsed": false
      },
      "outputs": [],
      "source": [
        "EVOKED = True\n\nwith np.load(SAVE_DIR + \"mne_data.npz\", allow_pickle=True) as data:\n    mesh = data[\"mesh\"]\n    p = data[\"p\"]\n    n = data[\"n\"]\n    mesh = trimesh.Trimesh(vertices=data[\"vertices\"], faces=data[\"faces\"])\n\nif EVOKED:\n    evoked = mne.Evoked(SAVE_DIR + \"left_auditory-ave.fif\")\n\n    i0, i1 = evoked.time_as_index(0.08)[0], evoked.time_as_index(0.09)[0]\n    field = evoked.data[:, i0:i1].mean(axis=1)\n\nelse:\n    # take \"data\" from lead field matrix, i.e, topography of a single dipole\n    from mne.datasets import sample\n    import os\n\n    data_path = sample.data_path()\n\n    raw_fname = data_path + \"/MEG/sample/sample_audvis_raw.fif\"\n    trans = data_path + \"/MEG/sample/sample_audvis_raw-trans.fif\"\n    src = data_path + \"/subjects/sample/bem/sample-oct-6-src.fif\"\n    bem = data_path + \"/subjects/sample/bem/sample-5120-5120-5120-bem-sol.fif\"\n    subjects_dir = os.path.join(data_path, \"subjects\")\n\n    # Note that forward solutions can also be read with read_forward_solution\n    fwd = mne.make_forward_solution(\n        raw_fname, trans, src, bem, meg=True, eeg=False, mindist=5.0, n_jobs=2\n    )\n    # Take only magnetometers\n    mags = np.array([n[-1] == \"1\" for n in fwd[\"sol\"][\"row_names\"]])\n    L = fwd[\"sol\"][\"data\"][mags, :]\n    # Take the first dipole\n    field = L[:, 56]"
      ]
    },
    {
      "cell_type": "code",
      "execution_count": null,
      "metadata": {
        "collapsed": false
      },
      "outputs": [],
      "source": [
        "R = np.min(np.linalg.norm(p, axis=1)) - 0.02"
      ]
    },
    {
      "cell_type": "code",
      "execution_count": null,
      "metadata": {
        "collapsed": false
      },
      "outputs": [],
      "source": [
        "lmax = 9  # maximum degree\nBca, Bcb = sphfield(p, lmax, normalization=\"energy\", R=R)\n\n# sph-components at sensors\nBca_sensors = np.einsum(\"ijk,ij->ik\", Bca, n)\nBcb_sensors = np.einsum(\"ijk,ij->ik\", Bcb, n)"
      ]
    },
    {
      "cell_type": "markdown",
      "metadata": {},
      "source": [
        "idx = 20\n\n"
      ]
    },
    {
      "cell_type": "code",
      "execution_count": null,
      "metadata": {
        "collapsed": false
      },
      "outputs": [],
      "source": [
        "# evoked1 = evoked.copy()\n# evoked1.data[:, :] = np.tile(Bca_sensors[:, idx].T, (evoked.times.shape[0], 1)).T\n# evoked1.plot_topomap(times=0.080, ch_type=\"mag\", colorbar=False)\n\n# evoked1 = evoked.copy()\n# evoked1.data[:, :] = np.tile(Bcb_sensors[:, idx].T, (evoked.times.shape[0], 1)).T\n# evoked1.plot_topomap(times=0.080, ch_type=\"mag\", colorbar=False)"
      ]
    },
    {
      "cell_type": "code",
      "execution_count": null,
      "metadata": {
        "collapsed": false
      },
      "outputs": [],
      "source": [
        "PINV = False\nif PINV:\n    alpha = np.linalg.pinv(Bca_sensors, rcond=1e-15) @ field\nelse:\n    # Calculate using regularization\n    ssa = np.linalg.svd(Bca_sensors @ Bca_sensors.T, False, False)\n    reg_exp = 6\n    _lambda = np.max(ssa) * (10 ** (-reg_exp))\n    # angular-Laplacian in the sph basis is diagonal\n    La = np.diag([l * (l + 1) for l in range(1, lmax + 1) for m in range(-l, l + 1)])\n    BB = Bca_sensors.T @ Bca_sensors + _lambda * La\n    alpha = np.linalg.solve(BB, Bca_sensors.T @ field)\n\n# Reconstruct field in helmet\n\n# reco_sph = np.zeros(field.shape)\n# i = 0\n# for l in range(1, lmax + 1):\n#     for m in range(-1 * l, l + 1):\n#         reco_sph += alpha[i] * Bca_sensors[:, i]\n#         i += 1\n\n# Produces the same result as the loop\nreco_sph = Bca_sensors @ alpha\n\nprint(\n    \"SPH-reconstruction relative error:\",\n    np.linalg.norm(reco_sph - field) / np.linalg.norm(field),\n)"
      ]
    },
    {
      "cell_type": "markdown",
      "metadata": {},
      "source": [
        "#%% Fit the surface current for the auditory evoked response using pinv\n c = MeshConductor(mesh_obj=mesh, basis_name=\"suh\", N_suh=35)\n M = c.mass\n B_sensors = np.einsum(\"ijk,ij->ik\", c.B_coupling(p), n)\n\n\n asuh = np.linalg.pinv(B_sensors, rcond=1e-15) @ field\n\n s = StreamFunction(asuh, c)\n b_filt = B_sensors @ s\n\n"
      ]
    },
    {
      "cell_type": "code",
      "execution_count": null,
      "metadata": {
        "collapsed": false
      },
      "outputs": [],
      "source": [
        "c = MeshConductor(mesh_obj=mesh, basis_name=\"suh\", N_suh=250)\nM = c.mass\n\nB_sensors = np.einsum(\"ijk,ij->ik\", c.B_coupling(p), n)\nss = np.linalg.svd(B_sensors @ B_sensors.T, False, False)\n\nreg_exp = 1\nplot_this = True\nrel_errors = []\n_lambda = np.max(ss) * (10 ** (-reg_exp))\n# Laplacian in the suh basis is diagonal\nBB = B_sensors.T @ B_sensors + _lambda * (-c.laplacian) / np.max(abs(c.laplacian))\na = np.linalg.solve(BB, B_sensors.T @ field)\n\ns = StreamFunction(a, c)\n\nreco_suh = B_sensors @ s\n\nprint(\n    \"SUH-reconstruction relative error:\",\n    np.linalg.norm(reco_suh - field) / np.linalg.norm(field),\n)\n\nf = mlab.figure()\nsurf = s.plot(False, figure=f)\nsurf.actor.mapper.interpolate_scalars_before_mapping = True\nsurf.module_manager.scalar_lut_manager.number_of_colors = 16"
      ]
    },
    {
      "cell_type": "markdown",
      "metadata": {},
      "source": [
        "evoked1 = evoked.copy()\nevoked1.data[:, :] = np.tile(field.T, (evoked.times.shape[0], 1)).T\nevoked1.plot_topomap(times=0.080, ch_type=\"mag\")\n\n"
      ]
    },
    {
      "cell_type": "code",
      "execution_count": null,
      "metadata": {
        "collapsed": false
      },
      "outputs": [],
      "source": [
        "# evoked1 = evoked.copy()\n# evoked1.data[:, :] = np.tile(reco_sph.T, (evoked.times.shape[0], 1)).T\n# evoked1.plot_topomap(times=0.080, ch_type=\"mag\")\n\n\n# evoked1 = evoked.copy()\n# evoked1.data[:, :] = np.tile(reco_suh.T, (evoked.times.shape[0], 1)).T\n# evoked1.plot_topomap(times=0.080, ch_type=\"mag\")"
      ]
    },
    {
      "cell_type": "code",
      "execution_count": null,
      "metadata": {
        "collapsed": false
      },
      "outputs": [],
      "source": [
        "plt.figure()\nplt.plot(alpha ** 2)\n\nplt.figure()\nplt.plot(a ** 2)"
      ]
    },
    {
      "cell_type": "code",
      "execution_count": null,
      "metadata": {
        "collapsed": false
      },
      "outputs": [],
      "source": [
        "U_sph = potential(\n    p, alpha, np.zeros(alpha.shape), lmax=lmax, normalization=\"energy\", R=R\n)\n\nU_suh = c.U_coupling(p) @ a"
      ]
    },
    {
      "cell_type": "markdown",
      "metadata": {},
      "source": [
        "evoked1 = evoked.copy()\nevoked1.data[:, :] = np.tile(U_sph.T, (evoked.times.shape[0], 1)).T\nevoked1.plot_topomap(times=0.080, ch_type=\"mag\")\n\n"
      ]
    },
    {
      "cell_type": "code",
      "execution_count": null,
      "metadata": {
        "collapsed": false
      },
      "outputs": [],
      "source": [
        "# evoked1 = evoked.copy()\n# evoked1.data[:, :] = np.tile(U_suh.T, (evoked.times.shape[0], 1)).T\n# evoked1.plot_topomap(times=0.080, ch_type=\"mag\")"
      ]
    },
    {
      "cell_type": "code",
      "execution_count": null,
      "metadata": {
        "collapsed": false
      },
      "outputs": [],
      "source": [
        "from bfieldtools.utils import load_example_mesh\nfrom bfieldtools.mesh_calculus import gradient\n\nplane = load_example_mesh(\"10x10_plane_hires\")\nscaling_factor = 0.03\nplane.apply_scale(scaling_factor)\n# Rotate to x-plane\nt = np.eye(4)\ntheta = np.pi / 2 * 1.2\nt[1:3, 1:3] = np.array(\n    [[np.cos(theta), np.sin(theta)], [-np.sin(theta), np.cos(theta)]]\n)\nplane.apply_transform(t)\n\nc.U_coupling.reset()\nU_suh = c.U_coupling(plane.vertices) @ a\n# Adapt mesh to the function and calculate new points\nfor i in range(2):\n    g = np.linalg.norm(gradient(U_suh, plane), axis=0)\n    face_ind = np.flatnonzero(g > g.max() * 0.05)\n    plane = plane.subdivide(face_ind)\n    U_suh = c.U_coupling(plane.vertices) @ a\n\nU_sph = potential(\n    plane.vertices, alpha, np.zeros(alpha.shape), lmax=lmax, normalization=\"energy\", R=R\n)"
      ]
    },
    {
      "cell_type": "code",
      "execution_count": null,
      "metadata": {
        "collapsed": false
      },
      "outputs": [],
      "source": [
        "from bfieldtools.viz import plot_data_on_vertices\nfrom bfieldtools.viz import plot_mesh\n\n# Mask inside/outside using solid angle\nmask = abs(c.U_coupling.matrix.sum(axis=1)) < 1e-6\nf = plot_data_on_vertices(plane, U_suh * mask, ncolors=15)\n# plot_mesh(mesh, figure=f)\nf = plot_data_on_vertices(plane, U_sph * mask, ncolors=15)\n# plot_mesh(mesh, figure=f)\nf = plot_data_on_vertices(plane, (U_suh - U_sph) * mask, ncolors=15)\nplot_mesh(mesh, figure=f)"
      ]
    }
  ],
  "metadata": {
    "kernelspec": {
      "display_name": "Python 3",
      "language": "python",
      "name": "python3"
    },
    "language_info": {
      "codemirror_mode": {
        "name": "ipython",
        "version": 3
      },
      "file_extension": ".py",
      "mimetype": "text/x-python",
      "name": "python",
      "nbconvert_exporter": "python",
      "pygments_lexer": "ipython3",
      "version": "3.7.6"
    }
  },
  "nbformat": 4,
  "nbformat_minor": 0
}