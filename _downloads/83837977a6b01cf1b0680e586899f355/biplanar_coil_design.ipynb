{
  "cells": [
    {
      "cell_type": "code",
      "execution_count": null,
      "metadata": {
        "collapsed": false
      },
      "outputs": [],
      "source": [
        "%matplotlib inline"
      ]
    },
    {
      "cell_type": "markdown",
      "metadata": {},
      "source": [
        "\nBiplanar coil design\n====================\n\nExample showing a basic biplanar coil producing homogeneous field in a target\nregion between the two coil planes.\n"
      ]
    },
    {
      "cell_type": "code",
      "execution_count": null,
      "metadata": {
        "collapsed": false
      },
      "outputs": [],
      "source": [
        "import numpy as np\nimport matplotlib.pyplot as plt\nfrom mayavi import mlab\nimport trimesh\n\n\nfrom bfieldtools.mesh_conductor import MeshConductor\nfrom bfieldtools.coil_optimize import optimize_streamfunctions\nfrom bfieldtools.viz import plot_cross_section\nfrom bfieldtools.utils import combine_meshes, load_example_mesh\n\n\n# Load simple plane mesh that is centered on the origin\nplanemesh = load_example_mesh(\"10x10_plane_hires\")\n\n# Specify coil plane geometry\ncenter_offset = np.array([0, 0, 0])\nstandoff = np.array([0, 3, 0])\n\n# Create coil plane pairs\ncoil_plus = trimesh.Trimesh(\n    planemesh.vertices + center_offset + standoff, planemesh.faces, process=False\n)\n\ncoil_minus = trimesh.Trimesh(\n    planemesh.vertices + center_offset - standoff, planemesh.faces, process=False\n)\n\njoined_planes = combine_meshes((coil_plus, coil_minus))\n\n# Create mesh class object\ncoil = MeshConductor(\n    mesh_obj=joined_planes, fix_normals=True, basis_name=\"suh\", N_suh=100\n)"
      ]
    },
    {
      "cell_type": "markdown",
      "metadata": {},
      "source": [
        "Set up target and stray field points\n\n"
      ]
    },
    {
      "cell_type": "code",
      "execution_count": null,
      "metadata": {
        "collapsed": false
      },
      "outputs": [],
      "source": [
        "# Here, the target points are on a volumetric grid within a sphere\n\ncenter = np.array([0, 0, 0])\n\nsidelength = 1.5\nn = 8\nxx = np.linspace(-sidelength / 2, sidelength / 2, n)\nyy = np.linspace(-sidelength / 2, sidelength / 2, n)\nzz = np.linspace(-sidelength / 2, sidelength / 2, n)\nX, Y, Z = np.meshgrid(xx, yy, zz, indexing=\"ij\")\n\nx = X.ravel()\ny = Y.ravel()\nz = Z.ravel()\n\ntarget_points = np.array([x, y, z]).T\n\n# Turn cube into sphere by rejecting points \"in the corners\"\ntarget_points = (\n    target_points[np.linalg.norm(target_points, axis=1) < sidelength / 2] + center\n)\n\n\n# Here, the stray field points are on a spherical surface\nstray_radius = 20\nstray_points_mesh = trimesh.creation.icosphere(subdivisions=3, radius=stray_radius)\nstray_points = stray_points_mesh.vertices + center\n\nn_stray_points = len(stray_points)"
      ]
    },
    {
      "cell_type": "markdown",
      "metadata": {},
      "source": [
        "Create bfield specifications used when optimizing the coil geometry\n\n"
      ]
    },
    {
      "cell_type": "code",
      "execution_count": null,
      "metadata": {
        "collapsed": false
      },
      "outputs": [],
      "source": [
        "# The absolute target field amplitude is not of importance,\n# and it is scaled to match the C matrix in the optimization function\n\ntarget_field = np.zeros(target_points.shape)\ntarget_field[:, 0] += 1\n\ntarget_spec = {\n    \"coupling\": coil.B_coupling(target_points),\n    \"abs_error\": 0.01,\n    \"target\": target_field,\n}\nstray_spec = {\n    \"coupling\": coil.B_coupling(stray_points),\n    \"abs_error\": 0.01,\n    \"target\": np.zeros((n_stray_points, 3)),\n}\n\nbfield_specification = [target_spec, stray_spec]"
      ]
    },
    {
      "cell_type": "markdown",
      "metadata": {},
      "source": [
        "# Compute the optimal stream function, either using a numerical solver or regularized least squares\n\n"
      ]
    },
    {
      "cell_type": "code",
      "execution_count": null,
      "metadata": {
        "collapsed": false
      },
      "outputs": [],
      "source": [
        "import mosek\n\ncoil.s, prob = optimize_streamfunctions(\n    coil,\n    [target_spec, stray_spec],\n    objective=\"minimum_ohmic_power\",\n    solver=\"MOSEK\",\n    solver_opts={\"mosek_params\": {mosek.iparam.num_threads: 8}},\n)"
      ]
    },
    {
      "cell_type": "markdown",
      "metadata": {},
      "source": [
        "Plot the optimized stream function, then discretize it and plot coil windings and the resultant magnetic field\n\n"
      ]
    },
    {
      "cell_type": "code",
      "execution_count": null,
      "metadata": {
        "collapsed": false
      },
      "outputs": [],
      "source": [
        "coil.s.plot()\n\nloops = coil.s.discretize(N_contours=10)\n\nloops.plot_loops()\n\nB_target = loops.magnetic_field(target_points)\nmlab.quiver3d(*target_points.T, *B_target.T)"
      ]
    },
    {
      "cell_type": "markdown",
      "metadata": {},
      "source": [
        "Lets also do the same coil optimization using regularized least-squares.\nNow we can't specify inequality constraints (e.g. use error margins in the specification).\n\n"
      ]
    },
    {
      "cell_type": "code",
      "execution_count": null,
      "metadata": {
        "collapsed": false
      },
      "outputs": [],
      "source": [
        "from bfieldtools.coil_optimize import optimize_lsq\n\ncoil.s2 = optimize_lsq(\n    coil, [target_spec, stray_spec], objective=\"minimum_ohmic_power\", reg=1e6\n)"
      ]
    },
    {
      "cell_type": "markdown",
      "metadata": {},
      "source": [
        "Plot the optimized stream function, then discretize it and plot coil windings and the resultant magnetic field\n\n"
      ]
    },
    {
      "cell_type": "code",
      "execution_count": null,
      "metadata": {
        "collapsed": false
      },
      "outputs": [],
      "source": [
        "coil.s2.plot()\n\nloops2 = coil.s2.discretize(N_contours=10)\n\nloops2.plot_loops()\n\nB_target = loops2.magnetic_field(target_points)\nmlab.quiver3d(*target_points.T, *B_target.T)"
      ]
    },
    {
      "cell_type": "markdown",
      "metadata": {},
      "source": [
        "Plot cross-section of magnetic field and magnetic potential of the discretized loops\n\n"
      ]
    },
    {
      "cell_type": "code",
      "execution_count": null,
      "metadata": {
        "collapsed": false
      },
      "outputs": [],
      "source": [
        "x = y = np.linspace(-12, 12, 250)\nX, Y = np.meshgrid(x, y, indexing=\"ij\")\n\n\npoints = np.zeros((X.flatten().shape[0], 3))\npoints[:, 0] = X.flatten()\npoints[:, 1] = Y.flatten()\n\nB = loops2.magnetic_field(points)\nU = loops2.scalar_potential(points)\n\nU = U.reshape(x.shape[0], y.shape[0])\nB = B.T[:2].reshape(2, x.shape[0], y.shape[0])\n\nlw = np.sqrt(B[0] ** 2 + B[1] ** 2)\n\nlw = 2 * lw / np.max(lw)\n\nplot_cross_section(X, Y, U, log=False, contours=False)\n\nseed_points = points[:, :2] * 0.3\n\nplt.streamplot(\n    x,\n    y,\n    B[0],\n    B[1],\n    density=2,\n    linewidth=lw,\n    color=\"k\",\n    integration_direction=\"both\",\n    start_points=seed_points,\n)\nplt.axis(\"equal\")\nplt.axis(\"off\")\n\nplt.plot([-5, 5], [-3, -3], \"k\", linewidth=3, alpha=1)\nplt.plot([-5, 5], [3, 3], \"k\", linewidth=3, alpha=1)\n\nplt.tight_layout()"
      ]
    }
  ],
  "metadata": {
    "kernelspec": {
      "display_name": "Python 3",
      "language": "python",
      "name": "python3"
    },
    "language_info": {
      "codemirror_mode": {
        "name": "ipython",
        "version": 3
      },
      "file_extension": ".py",
      "mimetype": "text/x-python",
      "name": "python",
      "nbconvert_exporter": "python",
      "pygments_lexer": "ipython3",
      "version": "3.7.6"
    }
  },
  "nbformat": 4,
  "nbformat_minor": 0
}