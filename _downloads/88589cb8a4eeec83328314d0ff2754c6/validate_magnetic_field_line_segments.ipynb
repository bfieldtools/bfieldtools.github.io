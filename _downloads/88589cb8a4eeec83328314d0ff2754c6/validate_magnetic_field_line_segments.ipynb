{
  "cells": [
    {
      "cell_type": "code",
      "execution_count": null,
      "metadata": {
        "collapsed": false
      },
      "outputs": [],
      "source": [
        "%matplotlib inline"
      ]
    },
    {
      "cell_type": "markdown",
      "metadata": {},
      "source": [
        "\nValidate calculation bfield calculation from line segments\n=================================================================\n\n"
      ]
    },
    {
      "cell_type": "code",
      "execution_count": null,
      "metadata": {
        "collapsed": false
      },
      "outputs": [],
      "source": [
        "import numpy as np\nimport matplotlib.pyplot as plt\nimport time as t\nfrom bfieldtools.line_magnetics import magnetic_field\n\n\"\"\" Bfield calculation from circular current loops using elliptic integrals\n\"\"\"\n\n\ndef double_factorial(n):\n    if n <= 0:\n        return 1\n    else:\n        return n * double_factorial(n - 2)\n\n\ndef bfield_iterative(x, y, z, x_c, y_c, z_c, r, I, n):\n    \"\"\" Compute b field of a current loop using an iterative method to estimate \n        elliptic integrals.\n        \n        Parameters:\n            x, y, z: Evaluation points in 3D space. Accepts matrices and integers.\n            x_c, y_c, z_c: Coordinates of the center point of the current loop.\n            r: Radius of the current loop.\n            I: Current of the current loop.\n            n: Number of terms in the serie expansion.\n            \n        Returns:\n            bfiels (N_points, 3) at evaluation points.\n        \n        This calculation is based on paper by Robert A. Schill, Jr (General \n        Relation for the Vector Magnetic Field of aCircular Current Loop: \n        A Closer Look). DOI: 10.1109/TMAG.2003.808597 \n    \"\"\"\n\n    st2 = t.time()\n    np.seterr(divide=\"ignore\", invalid=\"ignore\")\n    u0 = 4 * np.pi * 1e-7\n    Y = u0 * I / (2 * np.pi)\n\n    # Change to cylideric coordinates\n    rc = np.sqrt(np.power(x - x_c, 2) + np.power(y - y_c, 2))\n\n    # Coefficients for estimating elliptic integrals with nth degree series\n    # expansion using Legendre polynomials\n    m = 4 * r * rc / (np.power((rc + r), 2) + np.power((z - z_c), 2))\n    K = 1\n    E = 1\n    for i in range(1, n + 1):\n        K = K + np.square(\n            double_factorial(2 * i - 1) / double_factorial(2 * i)\n        ) * np.power(m, i)\n        E = E - np.square(\n            double_factorial(2 * i - 1) / double_factorial(2 * i)\n        ) * np.power(m, i) / (2 * i - 1)\n\n    K = K * np.pi / 2\n    E = E * np.pi / 2\n\n    # Calculation of radial and axial components of B-field\n    Brc = (\n        Y\n        * (z - z_c)\n        / (rc * np.sqrt(np.power((rc + r), 2) + np.power((z - z_c), 2)))\n        * (\n            -K\n            + E\n            * (np.power(rc, 2) + np.power(r, 2) + np.power((z - z_c), 2))\n            / (np.power((rc - r), 2) + np.power((z - z_c), 2))\n        )\n    )\n\n    Bz = (\n        Y\n        / (np.sqrt(np.power((rc + r), 2) + np.power((z - z_c), 2)))\n        * (\n            K\n            - E\n            * (np.power(rc, 2) - np.power(r, 2) + np.power((z - z_c), 2))\n            / (np.power((rc - r), 2) + np.power((z - z_c), 2))\n        )\n    )\n\n    # Set nan and inf values to 0\n    Brc[np.isinf(Brc)] = 0\n    Bz[np.isnan(Bz)] = 0\n    Brc[np.isnan(Brc)] = 0\n    Bz[np.isinf(Bz)] = 0\n\n    # Change back to cartesian coordinates\n    Bx = Brc * (x - x_c) / rc\n    By = Brc * (y - y_c) / rc\n\n    # Change nan values from coordinate transfer to 0\n    Bx[np.isnan(Bx)] = 0\n    By[np.isnan(By)] = 0\n\n    B = np.zeros((3, X.size), dtype=np.float64)\n    B[0] = Bx.flatten()\n    B[1] = By.flatten()\n    B[2] = Bz.flatten()\n\n    et2 = t.time()\n    print(\"Execution time for iterative method is:\", et2 - st2)\n\n    return B.T\n\n\n\"\"\" Plot field of a circular current path\n\"\"\"\nx = np.linspace(-1, 1, 100)\nNtheta = 10000\ntheta = np.linspace(0, 2 * np.pi, Ntheta)\nvertices = np.zeros((Ntheta, 3), dtype=np.float64)\nvertices[:, 0] = np.cos(theta) * 0.1\nvertices[:, 1] = np.sin(theta) * 0.1\nvertices[:, 2] = 0.2\n\nX, Y = np.meshgrid(x, x, indexing=\"ij\")\nZ = np.zeros((x.size, x.size))\n\npoints = np.zeros((3, X.size), dtype=np.float64)\npoints[0] = X.flatten()\npoints[1] = Y.flatten()\n\nb1 = magnetic_field(vertices, points.T)  # Calculates discretised bfield\nb2 = bfield_iterative(X, Y, Z, 0, 0, 0.2, 0.1, 1, 25)  # Calculates bfield iteratively\n\n# Error between two calculation methods.\nberr = (b2 - b1) / b1 * 100\nBE = berr.T[2]  # By changing the index, errors in different components can be obtained\nind = np.where(np.abs(BE) > 0.1)  # The limit for significant error is set to 0.1%\nbpoints = points.T[ind]\n\nfrom mayavi import mlab\n\nmlab.figure(1)\nq = mlab.quiver3d(*points, *b1.T)\nq.glyph.glyph_source.glyph_position = \"center\"\nmlab.plot3d(*vertices.T)\n\nmlab.figure(2)\nq = mlab.quiver3d(*points, *b2.T)\nq.glyph.glyph_source.glyph_position = \"center\"\nmlab.plot3d(*vertices.T)\n\nplt.figure(3)\nplt.hist(berr.T[2], bins=50, density=True, histtype=\"bar\")\nplt.title(\"Histogram of error between calculation methods.\")\nplt.xlabel(\"%\")"
      ]
    },
    {
      "cell_type": "code",
      "execution_count": null,
      "metadata": {
        "collapsed": false
      },
      "outputs": [],
      "source": [
        "if len(bpoints > 0):\n\n    from mayavi import mlab\n\n    mlab.figure(3)\n    q = mlab.quiver3d(*bpoints.T, *b1[ind].T)\n    q.glyph.glyph_source.glyph_position = \"center\"\n    mlab.plot3d(*vertices.T)\n\n    q = mlab.quiver3d(*bpoints.T, *b2[ind].T)\n    q.glyph.glyph_source.glyph_position = \"center\""
      ]
    }
  ],
  "metadata": {
    "kernelspec": {
      "display_name": "Python 3",
      "language": "python",
      "name": "python3"
    },
    "language_info": {
      "codemirror_mode": {
        "name": "ipython",
        "version": 3
      },
      "file_extension": ".py",
      "mimetype": "text/x-python",
      "name": "python",
      "nbconvert_exporter": "python",
      "pygments_lexer": "ipython3",
      "version": "3.6.7"
    }
  },
  "nbformat": 4,
  "nbformat_minor": 0
}