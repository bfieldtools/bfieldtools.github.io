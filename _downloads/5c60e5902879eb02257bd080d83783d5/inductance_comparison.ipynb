{
  "cells": [
    {
      "cell_type": "code",
      "execution_count": null,
      "metadata": {
        "collapsed": false
      },
      "outputs": [],
      "source": [
        "%matplotlib inline"
      ]
    },
    {
      "cell_type": "markdown",
      "metadata": {},
      "source": [
        "\nTest diagonal of inductance matrix\n===================================================\n\nUse different number of quadrature points and two different implementations\n\n"
      ]
    },
    {
      "cell_type": "code",
      "execution_count": null,
      "metadata": {
        "collapsed": false
      },
      "outputs": [],
      "source": [
        "import numpy as np\nimport matplotlib.pyplot as plt\n\nfrom bfieldtools.utils import load_example_mesh\n\ncoilmesh = load_example_mesh(\"10x10_plane\")\n\nfrom bfieldtools.mesh_impedance import self_inductance_matrix, mutual_inductance_matrix\n\n\nM5 = mutual_inductance_matrix(coilmesh, coilmesh, quad_degree=5)\nM6 = mutual_inductance_matrix(coilmesh, coilmesh, quad_degree=6)\nM7 = mutual_inductance_matrix(coilmesh, coilmesh, quad_degree=7)\n\nplt.figure()\nfor m in (M5, M6, M7):\n    plt.plot(np.diag(m))\n\nMM5 = self_inductance_matrix(coilmesh, quad_degree=5, analytic_self_coupling=True)\nMM6 = self_inductance_matrix(coilmesh, quad_degree=6, analytic_self_coupling=True)\nMM7 = self_inductance_matrix(coilmesh, quad_degree=7, analytic_self_coupling=True)"
      ]
    },
    {
      "cell_type": "code",
      "execution_count": null,
      "metadata": {
        "collapsed": false
      },
      "outputs": [],
      "source": [
        "plt.gca().set_prop_cycle(None)\nfor m in (MM5, MM6, MM7):\n    plt.plot(np.diag(m), \"--\")"
      ]
    }
  ],
  "metadata": {
    "kernelspec": {
      "display_name": "Python 3",
      "language": "python",
      "name": "python3"
    },
    "language_info": {
      "codemirror_mode": {
        "name": "ipython",
        "version": 3
      },
      "file_extension": ".py",
      "mimetype": "text/x-python",
      "name": "python",
      "nbconvert_exporter": "python",
      "pygments_lexer": "ipython3",
      "version": "3.6.7"
    }
  },
  "nbformat": 4,
  "nbformat_minor": 0
}