{
  "cells": [
    {
      "cell_type": "code",
      "execution_count": null,
      "metadata": {
        "collapsed": false
      },
      "outputs": [],
      "source": [
        "%matplotlib inline"
      ]
    },
    {
      "cell_type": "markdown",
      "metadata": {},
      "source": [
        "\nMagnetically shielded  coil\n===========================\nCompact example of design of a biplanar coil within a cylindrical shield.\nThe effect of the shield is prospectively taken into account while designing the coil.\nThe coil is positioned close to the end of the shield to demonstrate the effect\n"
      ]
    },
    {
      "cell_type": "code",
      "execution_count": null,
      "metadata": {
        "collapsed": false
      },
      "outputs": [],
      "source": [
        "PLOT = True\nSAVE_FIGURES = False\nSAVE_STREAMFUNCTION = False\n\nSAVE_DIR = \"./Shielded coil/\"\n\nimport numpy as np\nfrom mayavi import mlab\nimport trimesh\n\n\nfrom bfieldtools.mesh_conductor import MeshConductor, StreamFunction\nfrom bfieldtools.coil_optimize import optimize_streamfunctions\nfrom bfieldtools.utils import load_example_mesh, combine_meshes\n\nfrom bfieldtools.contour import scalar_contour\nfrom bfieldtools.viz import plot_3d_current_loops\n\nimport pkg_resources\n\n\n# Set unit, e.g. meter or millimeter.\n# This doesn't matter, the problem is scale-invariant\nscaling_factor = 1\n\n\n# Load simple plane mesh that is centered on the origin\nplanemesh = load_example_mesh(\"10x10_plane_hires\")\nplanemesh.apply_scale(scaling_factor)\n\n# Specify coil plane geometry\ncenter_offset = np.array([9, 0, 0]) * scaling_factor\nstandoff = np.array([0, 4, 0]) * scaling_factor\n\n# Create coil plane pairs\ncoil_plus = trimesh.Trimesh(\n    planemesh.vertices + center_offset + standoff, planemesh.faces, process=False\n)\n\ncoil_minus = trimesh.Trimesh(\n    planemesh.vertices + center_offset - standoff, planemesh.faces, process=False\n)\n\njoined_planes = combine_meshes((coil_minus, coil_plus))\n\n\n# Create mesh class object\ncoil = MeshConductor(mesh_obj=joined_planes, fix_normals=True, basis_name=\"inner\")\n\n# Separate object for shield geometry\nshieldmesh = trimesh.load(\n    file_obj=pkg_resources.resource_filename(\n        \"bfieldtools\", \"example_meshes/closed_cylinder_remeshed.stl\"\n    ),\n    process=True,\n)\nshieldmesh.apply_scale(15)\n\nshield = MeshConductor(\n    mesh_obj=shieldmesh, process=True, fix_normals=True, basis_name=\"vertex\"\n)"
      ]
    },
    {
      "cell_type": "markdown",
      "metadata": {},
      "source": [
        "Set up target  points and plot geometry\n\n"
      ]
    },
    {
      "cell_type": "code",
      "execution_count": null,
      "metadata": {
        "collapsed": false
      },
      "outputs": [],
      "source": [
        "# Here, the target points are on a volumetric grid within a sphere\n# Set up target and stray field points\n\n# Here, the target points are on a volumetric grid within a sphere\n\ncenter = np.array([9, 0, 0]) * scaling_factor\n\nsidelength = 3 * scaling_factor\nn = 12\nxx = np.linspace(-sidelength / 2, sidelength / 2, n)\nyy = np.linspace(-sidelength / 2, sidelength / 2, n)\nzz = np.linspace(-sidelength / 2, sidelength / 2, n)\nX, Y, Z = np.meshgrid(xx, yy, zz, indexing=\"ij\")\n\nx = X.ravel()\ny = Y.ravel()\nz = Z.ravel()\n\ntarget_points = np.array([x, y, z]).T\n\n# Turn cube into sphere by rejecting points \"in the corners\"\ntarget_points = (\n    target_points[np.linalg.norm(target_points, axis=1) < sidelength / 2] + center\n)\n\n\n# Plot coil, shield and target points\nif PLOT:\n    f = mlab.figure(None, bgcolor=(1, 1, 1), fgcolor=(0.5, 0.5, 0.5), size=(800, 800))\n\n    coil.plot_mesh(representation=\"surface\", figure=f, opacity=0.15)\n    shield.plot_mesh(representation=\"surface\", cull_front=True, color=(0.9, 0.9, 0.9), figure=f)\n    mlab.points3d(*target_points.T)\n\n    f.scene.isometric_view()\n    f.scene.camera.zoom(1.2)\n\n    if SAVE_FIGURES:\n        mlab.savefig(\n            SAVE_DIR + \"shielded_biplanar_geometry.png\", figure=f, magnification=4,\n        )\n        mlab.close()"
      ]
    },
    {
      "cell_type": "markdown",
      "metadata": {},
      "source": [
        "Let's design a coil without taking the magnetic shield into account\n\n"
      ]
    },
    {
      "cell_type": "code",
      "execution_count": null,
      "metadata": {
        "collapsed": false
      },
      "outputs": [],
      "source": [
        "# The absolute target field amplitude is not of importance,\n# and it is scaled to match the C matrix in the optimization function\ntarget_field = np.zeros(target_points.shape)\ntarget_field[:, 0] = target_field[:, 0] + 1  # Homogeneous Y-field\n\n\ntarget_abs_error = np.zeros_like(target_field)\ntarget_abs_error[:, 0] += 0.005\ntarget_abs_error[:, 1:3] += 0.01\n\ntarget_spec = {\n    \"coupling\": coil.B_coupling(target_points),\n    \"abs_error\": target_abs_error,\n    \"target\": target_field,\n}\n\nimport mosek\n\ncoil.s, coil.prob = optimize_streamfunctions(\n    coil,\n    [target_spec],\n    objective=\"minimum_inductive_energy\",\n    solver=\"MOSEK\",\n    solver_opts={\"mosek_params\": {mosek.iparam.num_threads: 8}},\n)\n\n\nif SAVE_STREAMFUNCTION:\n    np.save(SAVE_DIR + \"biplanar_streamfunction.npy\", coil.s.vert)"
      ]
    },
    {
      "cell_type": "markdown",
      "metadata": {},
      "source": [
        "Plot coil windings and target points\n\n"
      ]
    },
    {
      "cell_type": "code",
      "execution_count": null,
      "metadata": {
        "collapsed": false
      },
      "outputs": [],
      "source": [
        "loops = scalar_contour(coil.mesh, coil.s.vert, N_contours=10)\n\nif PLOT:\n    f = mlab.figure(None, bgcolor=(1, 1, 1), fgcolor=(0.5, 0.5, 0.5), size=(800, 800))\n    mlab.clf()\n\n    plot_3d_current_loops(loops, colors=\"auto\", figure=f)\n\n    B_target = coil.B_coupling(target_points) @ coil.s\n\n    mlab.quiver3d(*target_points.T, *B_target.T, mode=\"arrow\", scale_factor=0.75)\n\n    f.scene.isometric_view()\n    f.scene.camera.zoom(0.95)\n\n    if SAVE_FIGURES:\n        mlab.savefig(\n            SAVE_DIR + \"shielded_biplanar_ignored.png\", figure=f, magnification=4,\n        )\n        mlab.close()"
      ]
    },
    {
      "cell_type": "markdown",
      "metadata": {},
      "source": [
        "Now, let's compute the effect of the shield on the field produced by the coil\n\n"
      ]
    },
    {
      "cell_type": "code",
      "execution_count": null,
      "metadata": {
        "collapsed": false
      },
      "outputs": [],
      "source": [
        "# Points slightly inside the shield\nd = (\n    np.mean(np.diff(shield.mesh.vertices[shield.mesh.faces[:, 0:2]], axis=1), axis=0)\n    / 10\n)\npoints = shield.mesh.vertices - d * shield.mesh.vertex_normals\n\n\n# Solve equivalent stream function for the perfect linear mu-metal layer.\n# This is the equivalent surface current in the shield that would cause its\n# scalar magnetic potential to be constant\nshield.s = StreamFunction(\n    np.linalg.solve(shield.U_coupling(points), coil.U_coupling(points) @ coil.s), shield\n)"
      ]
    },
    {
      "cell_type": "markdown",
      "metadata": {},
      "source": [
        "Plot the difference in field when taking the shield into account\n\n"
      ]
    },
    {
      "cell_type": "code",
      "execution_count": null,
      "metadata": {
        "collapsed": false
      },
      "outputs": [],
      "source": [
        "if PLOT:\n    f = mlab.figure(None, bgcolor=(1, 1, 1), fgcolor=(0.5, 0.5, 0.5), size=(800, 800))\n    mlab.clf()\n\n    B_target = coil.B_coupling(target_points) @ coil.s\n\n    B_target_w_shield = (\n        coil.B_coupling(target_points) @ coil.s\n        + shield.B_coupling(target_points) @ shield.s\n    )\n\n    B_quiver = mlab.quiver3d(\n        *target_points.T,\n        *(B_target_w_shield - B_target).T,\n        colormap=\"viridis\",\n        mode=\"arrow\"\n    )\n    f.scene.isometric_view()\n    mlab.colorbar(B_quiver, title=\"Difference in magnetic field (a.u.)\")"
      ]
    },
    {
      "cell_type": "markdown",
      "metadata": {},
      "source": [
        "Let's redesign the coil taking the shield into account prospectively\n\n"
      ]
    },
    {
      "cell_type": "code",
      "execution_count": null,
      "metadata": {
        "collapsed": false
      },
      "outputs": [],
      "source": [
        "shield.coupling = np.linalg.solve(shield.U_coupling(points), coil.U_coupling(points))\n\nsecondary_C = shield.B_coupling(target_points) @ shield.coupling\n\ntotal_C = coil.B_coupling(target_points) + secondary_C\n\ntarget_spec_w_shield = {\n    \"coupling\": total_C,\n    \"abs_error\": target_abs_error,\n    \"target\": target_field,\n}\n\n\ncoil.s2, coil.prob2 = optimize_streamfunctions(\n    coil,\n    [target_spec_w_shield],\n    objective=\"minimum_inductive_energy\",\n    solver=\"MOSEK\",\n    solver_opts={\"mosek_params\": {mosek.iparam.num_threads: 8}},\n)"
      ]
    },
    {
      "cell_type": "markdown",
      "metadata": {},
      "source": [
        "Plot the newly designed coil windings and field at the target points\n\n"
      ]
    },
    {
      "cell_type": "code",
      "execution_count": null,
      "metadata": {
        "collapsed": false
      },
      "outputs": [],
      "source": [
        "loops = scalar_contour(coil.mesh, coil.s2.vert, N_contours=10)\n\nif PLOT:\n    f = mlab.figure(None, bgcolor=(1, 1, 1), fgcolor=(0.5, 0.5, 0.5), size=(800, 800))\n    mlab.clf()\n\n    plot_3d_current_loops(loops, colors=\"auto\", figure=f)\n\n    B_target2 = total_C @ coil.s2\n    mlab.quiver3d(*target_points.T, *B_target2.T, mode=\"arrow\", scale_factor=0.75)\n\n    f.scene.isometric_view()\n    f.scene.camera.zoom(0.95)\n    if SAVE_FIGURES:\n        mlab.savefig(\n            SAVE_DIR + \"shielded_biplanar_prospective.png\", figure=f, magnification=4,\n        )\n        mlab.close()"
      ]
    },
    {
      "cell_type": "markdown",
      "metadata": {},
      "source": [
        "Plot difference in field\n\n"
      ]
    },
    {
      "cell_type": "code",
      "execution_count": null,
      "metadata": {
        "collapsed": false
      },
      "outputs": [],
      "source": [
        "import seaborn as sns\nimport matplotlib.pyplot as plt\n\n\nif PLOT:\n    fig, axes = plt.subplots(1, 3, figsize=(12, 3))\n\n    axnames = [\"X\", \"Y\", \"Z\"]\n\n    # fig.suptitle('Component-wise effect of magnetic shield on target field amplitude distribution')\n    for ax_idx, ax in enumerate(axes):\n\n        sns.kdeplot(\n            B_target[:, ax_idx],\n            label=\"Coil without shield\",\n            ax=ax,\n            shade=True,\n            legend=False,\n        )\n        sns.kdeplot(\n            B_target_w_shield[:, ax_idx],\n            label=\"Coil with shield\",\n            ax=ax,\n            shade=True,\n            legend=False,\n        )\n        sns.kdeplot(\n            B_target2[:, ax_idx],\n            label=\"Coil designed with shield\",\n            ax=ax,\n            shade=True,\n            legend=False,\n        )\n        #    ax.set_title(axnames[ax_idx])\n        ax.get_yaxis().set_visible(False)\n\n        ax.spines[\"top\"].set_visible(False)\n        ax.spines[\"right\"].set_visible(False)\n        ax.spines[\"left\"].set_visible(False)\n\n        ax.set_xlabel(\"Magnetic field on %s-axis\" % axnames[ax_idx])\n\n        if ax_idx == 0:\n            ax.legend()\n\n    fig.tight_layout(rect=[0, 0.03, 1, 0.95])\n\n    if SAVE_FIGURES:\n        plt.savefig(SAVE_DIR + \"shielding_effect.pdf\")"
      ]
    }
  ],
  "metadata": {
    "kernelspec": {
      "display_name": "Python 3",
      "language": "python",
      "name": "python3"
    },
    "language_info": {
      "codemirror_mode": {
        "name": "ipython",
        "version": 3
      },
      "file_extension": ".py",
      "mimetype": "text/x-python",
      "name": "python",
      "nbconvert_exporter": "python",
      "pygments_lexer": "ipython3",
      "version": "3.7.6"
    }
  },
  "nbformat": 4,
  "nbformat_minor": 0
}