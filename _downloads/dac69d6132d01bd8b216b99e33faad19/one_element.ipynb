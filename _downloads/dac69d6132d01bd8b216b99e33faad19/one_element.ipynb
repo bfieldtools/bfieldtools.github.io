{
  "cells": [
    {
      "cell_type": "code",
      "execution_count": null,
      "metadata": {
        "collapsed": false
      },
      "outputs": [],
      "source": [
        "%matplotlib inline"
      ]
    },
    {
      "cell_type": "markdown",
      "metadata": {},
      "source": [
        "\nOne-element fields\n======================\n\n\n"
      ]
    },
    {
      "cell_type": "code",
      "execution_count": null,
      "metadata": {
        "collapsed": false
      },
      "outputs": [],
      "source": [
        "import numpy as np\n\nfrom bfieldtools.mesh_magnetics import (\n    scalar_potential_coupling,\n    vector_potential_coupling,\n)\nfrom bfieldtools.mesh_magnetics import (\n    magnetic_field_coupling,\n    magnetic_field_coupling_analytic,\n)\n\nimport trimesh\nfrom mayavi import mlab\n\n# Define the element\nx = np.sin(np.pi / 6)\ny = np.cos(np.pi / 6)\npoints0 = np.array(\n    [[0, 0, 0], [1, 0, 0], [x, y, 0], [-x, y, 0], [-1, 0, 0], [-x, -y, 0], [x, -y, 0]]\n)\n\ntris0 = np.array([[0, 1, 2], [0, 2, 3], [0, 3, 4], [0, 4, 5], [0, 5, 6], [0, 6, 1]])\nmesh = trimesh.Trimesh(points0, tris0)\nscalars = np.zeros(7)\nscalars[0] = 1"
      ]
    },
    {
      "cell_type": "markdown",
      "metadata": {},
      "source": [
        "%% Plot element\n\n"
      ]
    },
    {
      "cell_type": "code",
      "execution_count": null,
      "metadata": {
        "collapsed": false
      },
      "outputs": [],
      "source": [
        "def plot_element():\n    # Stream function\n    s1 = mlab.triangular_mesh(*points0.T, tris0, scalars=scalars, colormap=\"viridis\")\n    # Stream lines\n    s2 = mlab.triangular_mesh(*points0.T, tris0, scalars=scalars, colormap=\"viridis\")\n    s2.enable_contours = True\n    s2.actor.mapper.scalar_range = np.array([0.0, 1.0])\n    s2.actor.mapper.scalar_visibility = False\n    s2.actor.property.render_lines_as_tubes = True\n    s2.actor.property.line_width = 3.0\n\n\nmlab.figure(bgcolor=(1, 1, 1))\nplot_element()"
      ]
    },
    {
      "cell_type": "markdown",
      "metadata": {},
      "source": [
        "%% Scalar potential\n\n"
      ]
    },
    {
      "cell_type": "code",
      "execution_count": null,
      "metadata": {
        "collapsed": false
      },
      "outputs": [],
      "source": [
        "points = np.array([[0.01, 1, 1], [0.01, 1, -1], [0.01, -1, -1], [0.01, -1, 1]]) * 2\ntris = np.array([[0, 1, 2], [2, 3, 0]])\nmesh2 = trimesh.Trimesh(points, tris)\nfor ii in range(7):\n    mesh2 = mesh2.subdivide()\n\nU = scalar_potential_coupling(mesh, mesh2.vertices, multiply_coeff=True) @ scalars\nmlab.figure(bgcolor=(1, 1, 1))\ns3 = mlab.triangular_mesh(*mesh2.vertices.T, mesh2.faces, scalars=U, colormap=\"bwr\")\ns3.enable_contours = True\ns3.contour.minimum_contour = -5.2e-07\ns3.contour.maximum_contour = 5.2e-07\ns3.actor.property.render_lines_as_tubes = True\ns3.actor.property.line_width = 3.0\ns3.scene.x_plus_view()\nplot_element()"
      ]
    },
    {
      "cell_type": "markdown",
      "metadata": {},
      "source": [
        "%% Vector potential\n\n"
      ]
    },
    {
      "cell_type": "code",
      "execution_count": null,
      "metadata": {
        "collapsed": false
      },
      "outputs": [],
      "source": [
        "points = np.array([[1, 1, 0.01], [1, -1, 0.01], [-1, -1, 0.01], [-1, 1, 0.01]]) * 2\ntris = np.array([[0, 1, 2], [2, 3, 0]])\nmesh3 = trimesh.Trimesh(points, tris)\nfor ii in range(5):\n    mesh3 = mesh3.subdivide()\nA = vector_potential_coupling(mesh, mesh3.vertices) @ scalars\nmlab.figure(bgcolor=(1, 1, 1))\nvectors = mlab.quiver3d(*mesh3.vertices.T, *A, mode=\"2ddash\", color=(0, 0, 1))\nvectors.glyph.glyph_source.glyph_position = \"center\"\nvectors.actor.property.render_lines_as_tubes = True\nvectors.actor.property.line_width = 3.0\nplot_element()"
      ]
    },
    {
      "cell_type": "markdown",
      "metadata": {},
      "source": [
        "%% Magnetic field and its magnitude\n\n"
      ]
    },
    {
      "cell_type": "code",
      "execution_count": null,
      "metadata": {
        "collapsed": false
      },
      "outputs": [],
      "source": [
        "from bfieldtools.viz import plot_data_on_vertices\n\npoints = (\n    np.array([[0.0, 1, 1.001], [0.0, 1, -1], [0.0, -1, -1], [0.0, -1, 1.001]]) * 1.1\n)\ntris = np.array([[0, 1, 2], [2, 3, 0]])\nmesh2 = trimesh.Trimesh(points, tris)\nfor ii in range(6):\n    mesh2 = mesh2.subdivide()\n\n# B0 = magnetic_field_coupling(mesh, mesh2.vertices) @ scalars\nB1 = magnetic_field_coupling_analytic(mesh, mesh2.vertices) @ scalars\nplot_data_on_vertices(\n    mesh2, np.linalg.norm(B1, axis=1), ncolors=32, colormap=\"viridis\", vmax=1.5e-6\n)\nvectors = mlab.quiver3d(\n    *mesh2.vertices.T, *B1.T, mode=\"arrow\", color=(1, 0, 1), scale_factor=5e4\n)\nvectors.glyph.glyph_source.glyph_position = \"center\"\n# vectors = mlab.quiver3d(*mesh2.vertices.T, *B0.T, mode=\"arrow\", color=(1, 0, 0))\n# vectors.glyph.glyph_source.glyph_position = \"center\"\nplot_element()\nvectors.scene.x_plus_view()"
      ]
    }
  ],
  "metadata": {
    "kernelspec": {
      "display_name": "Python 3",
      "language": "python",
      "name": "python3"
    },
    "language_info": {
      "codemirror_mode": {
        "name": "ipython",
        "version": 3
      },
      "file_extension": ".py",
      "mimetype": "text/x-python",
      "name": "python",
      "nbconvert_exporter": "python",
      "pygments_lexer": "ipython3",
      "version": "3.6.7"
    }
  },
  "nbformat": 4,
  "nbformat_minor": 0
}