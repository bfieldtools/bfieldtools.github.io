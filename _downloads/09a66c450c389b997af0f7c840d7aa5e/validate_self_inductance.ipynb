{
  "cells": [
    {
      "cell_type": "code",
      "execution_count": null,
      "metadata": {
        "collapsed": false
      },
      "outputs": [],
      "source": [
        "%matplotlib inline"
      ]
    },
    {
      "cell_type": "markdown",
      "metadata": {},
      "source": [
        "\nValidation of self inductance using spherical harmonics\n====================================================================\n\nStudy the eigenvalue spectrum of the discretize self-inductance operator\non a spherical mesh. Compare the spectrum to analytical solution\n\n"
      ]
    },
    {
      "cell_type": "code",
      "execution_count": null,
      "metadata": {
        "collapsed": false
      },
      "outputs": [],
      "source": [
        "import numpy as np\nfrom bfieldtools.mesh_impedance import self_inductance_matrix, mutual_inductance_matrix\nfrom bfieldtools.mesh_calculus import mass_matrix\nfrom bfieldtools.utils import load_example_mesh\nfrom scipy.linalg import eigh\nimport matplotlib.pyplot as plt\nimport trimesh\n\n# This is icosphere(4)?\n# mesh = load_example_mesh(\"unit_sphere\")\n# The test is faster with a smaller number of vertices\nmesh = trimesh.creation.icosphere(3)\n\nNvals = 150\nuu1 = []\nuu2 = []\nvv1 = []\nvv2 = []\nM = mass_matrix(mesh)\n\nfor q in range(4):\n    L = self_inductance_matrix(mesh, analytic_self_coupling=True, quad_degree=q + 1)\n    uu, vv = eigh(L, M.toarray(), eigvals=(0, Nvals - 1))\n    uu1.append(uu)\n    vv1.append(vv)\n\n    # L = self_inductance_matrix(mesh, analytic_self_coupling=False,\n    # quad_degree=q+1)\n    L = mutual_inductance_matrix(mesh, mesh, quad_degree=q + 1)\n    uu, vv = eigh(L, M.toarray(), eigvals=(0, Nvals - 1))\n    uu2.append(uu)\n    vv2.append(vv)"
      ]
    },
    {
      "cell_type": "code",
      "execution_count": null,
      "metadata": {
        "collapsed": false
      },
      "outputs": [],
      "source": [
        "\"\"\" \n Spherical harmonics are the eigenfunctions of self-inductance operator\n The correct eigenvalues derived using Taulu 2005 Eqs. (22, 23, A1, A5, A6)\n By considering the normal component of the magnetic field produced by \n a single Y_lm. The result is\n e = mu_0*(l*(l+1)/(2*l+1))/R\n\"\"\"\nR = np.linalg.norm(mesh.vertices[mesh.faces].mean(axis=1), axis=-1).mean()\nmu0 = (1e-7) * 4 * np.pi\nll = np.array([l for l in range(20) for m in range(-l, l + 1)])\nll = ll[:Nvals]\nevals = ll * (ll + 1) / (2 * ll + 1)"
      ]
    },
    {
      "cell_type": "markdown",
      "metadata": {},
      "source": [
        "plt.plot(evals, 'k')\n\n"
      ]
    },
    {
      "cell_type": "code",
      "execution_count": null,
      "metadata": {
        "collapsed": false
      },
      "outputs": [],
      "source": [
        "for u in uu1:\n    uu_scaled = u / mu0 * R\n    plt.plot(abs(evals[1:] - uu_scaled[1:]) / evals[1:], \"-\")\n    # plt.plot(uu_scaled)\nplt.legend((\"qd=1\", \"qd=2\", \"qd=3\", \"qd=4\"))\nplt.gca().set_prop_cycle(None)\nfor u in uu2:\n    uu_scaled = u / mu0 * R\n    plt.plot(abs(evals[1:] - uu_scaled[1:]) / evals[1:], \"--\")\nplt.title(\"solid using self_inductance, dashed using mutual_inductance\")\nplt.xlabel(\"# eigenvalue\")\nplt.ylabel(\"Relative error\")"
      ]
    },
    {
      "cell_type": "code",
      "execution_count": null,
      "metadata": {
        "collapsed": false
      },
      "outputs": [],
      "source": [
        "from bfieldtools.utils import MeshProjection\nfrom bfieldtools.sphtools import ylm\nfrom bfieldtools.sphtools import cartesian2spherical\n\nylm_on_hats = []\ni1 = 0\nvv1_projs = np.zeros((len(vv1), vv1[0].shape[1]))\nvv2_projs = np.zeros((len(vv2), vv2[0].shape[1]))\nmp = MeshProjection(mesh, 4)\n\n\nfor l in range(0, 13):\n    i0 = i1\n    print(f\"l={l}\")\n    for m in range(-l, l + 1):\n\n        def func(r):\n            sphcoords = cartesian2spherical(r)\n            return ylm(l, m, sphcoords[:, 1], sphcoords[:, 2])\n\n        ylm_on_hats.append(mp.hatfunc_innerproducts(func))\n        i1 += 1\n    for ii, vv in enumerate(vv1):\n        # Project self-inductance eigenfunctions to l-subspace\n        p = np.sum((np.array(ylm_on_hats[i0:i1]) @ vv[:, i0:i1]) ** 2, axis=0)\n        vv1_projs[ii, i0:i1] = p\n    for ii, vv in enumerate(vv2):\n        # Project self-inductance eigenfunctions to l-subspace\n        p = np.sum((np.array(ylm_on_hats[i0:i1]) @ vv[:, i0:i1]) ** 2, axis=0)\n        vv2_projs[ii, i0:i1] = p"
      ]
    },
    {
      "cell_type": "code",
      "execution_count": null,
      "metadata": {
        "collapsed": false
      },
      "outputs": [],
      "source": [
        "plt.figure()\neff_R2 = 1  # np.sum(mesh.area_faces) / (4 * np.pi)\nplt.plot(vv1_projs.T / eff_R2, \"-\")\nplt.legend((\"qd=1\", \"qd=2\", \"qd=3\", \"qd=4\"))\nplt.gca().set_prop_cycle(None)\nplt.plot(vv2_projs.T / eff_R2, \"--\")\nplt.title(\"solid using self_inductance, dashed using mutual_inductance\")\n\nplt.xlabel(\"# eigenfunction\")\nplt.ylabel(\"Squared norm in L-subspace\")"
      ]
    }
  ],
  "metadata": {
    "kernelspec": {
      "display_name": "Python 3",
      "language": "python",
      "name": "python3"
    },
    "language_info": {
      "codemirror_mode": {
        "name": "ipython",
        "version": 3
      },
      "file_extension": ".py",
      "mimetype": "text/x-python",
      "name": "python",
      "nbconvert_exporter": "python",
      "pygments_lexer": "ipython3",
      "version": "3.6.7"
    }
  },
  "nbformat": 4,
  "nbformat_minor": 0
}