{
  "cells": [
    {
      "cell_type": "code",
      "execution_count": null,
      "metadata": {
        "collapsed": false
      },
      "outputs": [],
      "source": [
        "%matplotlib inline"
      ]
    },
    {
      "cell_type": "markdown",
      "metadata": {},
      "source": [
        "\nCompare SUH and SPH basis functions for the magnetic field\n=============================================================\n"
      ]
    },
    {
      "cell_type": "code",
      "execution_count": null,
      "metadata": {
        "collapsed": false
      },
      "outputs": [],
      "source": [
        "import numpy as np\nimport matplotlib.pyplot as plt\nfrom mayavi import mlab\nimport trimesh\nimport pkg_resources\nfrom pyface.api import GUI\n\n_gui = GUI()\n\n\nfrom bfieldtools.mesh_magnetics import magnetic_field_coupling\nfrom bfieldtools.mesh_magnetics import magnetic_field_coupling_analytic\nfrom bfieldtools.mesh_magnetics import scalar_potential_coupling\nfrom bfieldtools.sphtools import compute_sphcoeffs_mesh, basis_fields\nfrom bfieldtools.suhtools import SuhBasis\nfrom bfieldtools.utils import load_example_mesh\n\n\nmesh = load_example_mesh(\"bunny_repaired\")\n\nmesh.vertices -= mesh.vertices.mean(axis=0)\n\nmesh_field = mesh.copy()\nmesh_field.vertices += 0.005 * mesh_field.vertex_normals\nmesh_field = trimesh.smoothing.filter_laplacian(mesh_field, iterations=1)\n\nCa, Cb = basis_fields(mesh_field.vertices, 4)\n\nbsuh = SuhBasis(mesh, 25)\nCsuh = magnetic_field_coupling_analytic(mesh, mesh_field.vertices) @ bsuh.basis"
      ]
    },
    {
      "cell_type": "code",
      "execution_count": null,
      "metadata": {
        "collapsed": false
      },
      "outputs": [],
      "source": [
        "def plot_basis_fields(C, comps):\n    d = 0.2\n    i = 0\n    j = 0\n    for n in comps:\n        p = 1.05 * mesh_field.vertices.copy()\n        p2 = mesh_field.vertices.copy()\n        #        p[:,1] -= i*d\n        #        p2[:,1] -= i*d\n        p[:, 0] += i * d\n        p2[:, 0] += i * d\n        m = np.max(np.linalg.norm(C[:, :, n], axis=0))\n        vectors = mlab.quiver3d(\n            *p.T, *C[:, :, n].T, mode=\"arrow\", colormap=\"Greys\", vmin=0, vmax=m\n        )\n        vectors.glyph.mask_input_points = True\n        vectors.glyph.mask_points.maximum_number_of_points = 1800\n        vectors.glyph.mask_points.random_mode_type = 1\n        vectors.glyph.glyph_source.glyph_position = \"center\"\n        vectors.glyph.glyph_source.glyph_source.shaft_radius = 0.02\n        vectors.glyph.glyph_source.glyph_source.tip_radius = 0.06\n        vectors.glyph.glyph.scale_factor = 0.025\n        #        m = np.max(abs((C[:,:,n].T*mesh_field.vertex_normals.T).sum(axis=0)))\n        #        s =mlab.triangular_mesh(*p.T, mesh_field.faces,\n        #                             scalars=(C[:,:,n].T*mesh_field.vertex_normals.T).sum(axis=0),\n        #                             colormap='seismic', vmin=-m, vmax=m, opacity=0.7)\n        #        s.actor.property.backface_culling = True\n        m = np.max(abs((C[:, :, n].T * mesh_field.vertex_normals.T).sum(axis=0)))\n        s = mlab.triangular_mesh(\n            *p2.T,\n            mesh.faces,\n            scalars=(C[:, :, n].T * mesh_field.vertex_normals.T).sum(axis=0),\n            colormap=\"bwr\",\n            vmin=-m,\n            vmax=m\n        )\n        s.actor.mapper.interpolate_scalars_before_mapping = True\n        s.module_manager.scalar_lut_manager.number_of_colors = 15\n        i += 1\n\n\ncomps = [0, 4, 10, 15]\nscene = mlab.figure(bgcolor=(1, 1, 1), size=(1200, 350))\nplot_basis_fields(Ca, comps)\nscene.scene.parallel_projection = True\nscene.scene.z_plus_view()\nscene.scene.camera.zoom(4)\nwhile scene.scene.light_manager is None:\n    _gui.process_events()\nscene.scene.light_manager.lights[2].intensity = 0.2\n\n\nscene = mlab.figure(bgcolor=(1, 1, 1), size=(1200, 350))\nplot_basis_fields(Csuh, comps)\nscene.scene.parallel_projection = True\nscene.scene.z_plus_view()\nscene.scene.camera.zoom(4)\nwhile scene.scene.light_manager is None:\n    _gui.process_events()\nscene.scene.light_manager.lights[2].intensity = 0.2"
      ]
    },
    {
      "cell_type": "markdown",
      "metadata": {},
      "source": [
        "from bfieldtools.mesh_magnetics import scalar_potential_coupling\n scaling_factor = 0.02\n#Load simple plane mesh that is centered on the origin\n file_obj=pkg_resources.resource_filename('bfieldtools', 'example_meshes/10x10_plane_hires.obj')\n plane = trimesh.load(file_obj=file_obj, process=False)\n plane.apply_scale(scaling_factor)\n# Rotate to x-plane\n t = np.eye(4)\n t[1:3,1:3] = np.array([[0,1],[-1,0]])\n plane.apply_transform(t)\n plane = plane.subdivide()\n\n u = scalar_potential_coupling(mesh, plane.vertices, multiply_coeff=False)\n mask = 1 + np.sum(u, axis=1)/(4*np.pi)\n mask[mask < 1e-6]  = 0\n\n\n Ca, Cb = basis_fields(plane.vertices, 6)\n bsuh = SuhBasis(mesh, 48)\n CB = magnetic_field_coupling_analytic(mesh, plane.vertices)\n Csuh = CB @ bsuh.basis\n\n A,B = compute_sphcoeffs_mesh(mesh, 6)\n b1 = np.einsum('ij,lik->lkj', A , Ca) # Mapping from verts to alpha to field\n b2 = np.einsum('ij,klj->lki', bsuh.mass @ bsuh.basis  , Csuh) # Mapping from verts to suh to field\n\n ind=1932\n scalars = np.zeros(mesh.vertices.shape[0])\n scalars[ind] = 1\n mlab.triangular_mesh(*mesh.vertices.T, mesh.faces, scalars=scalars, colormap='Blues')\n surf= mlab.triangular_mesh(*plane.vertices.T, plane.faces, colormap='viridis',\n                     scalars = mask*np.linalg.norm(CB[:,:,ind], axis=1))\n surf.actor.mapper.interpolate_scalars_before_mapping = True\n surf.module_manager.scalar_lut_manager.number_of_colors = 16\n\n mlab.figure()\n mlab.triangular_mesh(*mesh.vertices.T, mesh.faces, scalars=scalars, colormap='Blues')\n surf = mlab.triangular_mesh(*plane.vertices.T, plane.faces, colormap='viridis',\n                     scalars = mask*np.linalg.norm(b1[:,:,ind], axis=0))\n surf.actor.mapper.interpolate_scalars_before_mapping = True\n surf.module_manager.scalar_lut_manager.number_of_colors = 16\n\n mlab.figure()\n mlab.triangular_mesh(*mesh.vertices.T, mesh.faces, scalars=scalars, colormap='Blues')\n surf = mlab.triangular_mesh(*plane.vertices.T, plane.faces, colormap='viridis',\n                     scalars = mask*np.linalg.norm(b2[:,:,ind], axis=0))\n surf.actor.mapper.interpolate_scalars_before_mapping = True\n surf.module_manager.scalar_lut_manager.number_of_colors = 16\n\n"
      ]
    }
  ],
  "metadata": {
    "kernelspec": {
      "display_name": "Python 3",
      "language": "python",
      "name": "python3"
    },
    "language_info": {
      "codemirror_mode": {
        "name": "ipython",
        "version": 3
      },
      "file_extension": ".py",
      "mimetype": "text/x-python",
      "name": "python",
      "nbconvert_exporter": "python",
      "pygments_lexer": "ipython3",
      "version": "3.7.6"
    }
  },
  "nbformat": 4,
  "nbformat_minor": 0
}