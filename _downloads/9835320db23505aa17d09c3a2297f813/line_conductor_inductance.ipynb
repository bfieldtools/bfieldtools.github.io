{
  "cells": [
    {
      "cell_type": "code",
      "execution_count": null,
      "metadata": {
        "collapsed": false
      },
      "outputs": [],
      "source": [
        "%matplotlib inline"
      ]
    },
    {
      "cell_type": "markdown",
      "metadata": {},
      "source": [
        "\nMutual inductance of wire loops\n===============================\n\nIn this example, we demonstrate how to compute the mutual inductance between two sets of polyline wire loops.\n\n\n"
      ]
    },
    {
      "cell_type": "code",
      "execution_count": null,
      "metadata": {
        "collapsed": false
      },
      "outputs": [],
      "source": [
        "from bfieldtools.line_conductor import LineConductor\nfrom bfieldtools.mesh_conductor import StreamFunction\nfrom bfieldtools.suhtools import SuhBasis\nfrom bfieldtools.utils import load_example_mesh\n\nimport numpy as np\nfrom mayavi import mlab"
      ]
    },
    {
      "cell_type": "markdown",
      "metadata": {},
      "source": [
        "We create a set of wire loops by picking a single (arbitrary) surface-harmonic mode\nfrom a plane mesh.  Finally, we discretize the  mode into a set of wire loops, which we plot.\n\n"
      ]
    },
    {
      "cell_type": "code",
      "execution_count": null,
      "metadata": {
        "collapsed": false
      },
      "outputs": [],
      "source": [
        "mesh = load_example_mesh(\"10x10_plane\")\nmesh.apply_scale(0.1)  # Downsize from 10 meters to 1 meter\nN_contours = 20\n\nsb = SuhBasis(mesh, 10)  # Construct surface-harmonics basis\nsf = StreamFunction(\n    sb.basis[:, 1], sb.mesh_conductor\n)  # Turn single mode into a stream function\nc = LineConductor(\n    mesh=mesh, scalars=sf, N_contours=N_contours\n)  # Discretize the stream function into wire loops\n\n\n# Plot loops for testing\nc.plot_loops(origin=np.array([0, -100, 0]))"
      ]
    },
    {
      "cell_type": "markdown",
      "metadata": {},
      "source": [
        "Now, we create a shifted copy of the wire loops, and the calculate the\nmutual_inductance between two sets of line conductors\n\n"
      ]
    },
    {
      "cell_type": "code",
      "execution_count": null,
      "metadata": {
        "collapsed": false
      },
      "outputs": [],
      "source": [
        "mesh2 = mesh.copy()\nmesh2.vertices[:, 1] += 1\nc2 = LineConductor(mesh=mesh2, scalars=sf, N_contours=N_contours)\nfig = c.plot_loops(origin=np.array([0, -100, 0]))\nc2.plot_loops(figure=fig, origin=np.array([0, -100, 0]))\n\nMself = c.line_mutual_inductance(c, separate_loops=True, radius=1e-3)\nM2 = c.line_mutual_inductance(c2, separate_loops=True)"
      ]
    },
    {
      "cell_type": "markdown",
      "metadata": {},
      "source": [
        "Now, we plot the inductance matrices\n\n"
      ]
    },
    {
      "cell_type": "code",
      "execution_count": null,
      "metadata": {
        "collapsed": false
      },
      "outputs": [],
      "source": [
        "import matplotlib.pyplot as plt\n\nff, ax = plt.subplots(1, 2, figsize=(12, 8))\nplt.sca(ax[0])\nplt.matshow(Mself, fignum=0)\nplt.title(\"Inductance matrix of the first set of wire loops\")\nplt.sca(ax[1])\nplt.matshow(M2, fignum=0)\nplt.title(\"Mutual inductance matrix between the sets of wire loops\")\n\nff.tight_layout()"
      ]
    },
    {
      "cell_type": "markdown",
      "metadata": {},
      "source": [
        "The inductance derived from the continous current density\n---------------------------------------------------------\n1) Magnetic energy of a inductor is E = 0.5*L*I^2\n2) For unit current I=1 the inductance is L=2*E\n3) The total current of a stream function (sf) integrated over\n   the from minimum to maximum is dsf = max(sf) - min(sf)\n4) When discretized to N conductors the current per conductor is\n   I =  dsf / N\n5) When sf is normalized such that I=1, i.e., dsf = N\n   the inductance approximated by the continous stream function is\n   L = 2*sf.magnetic_energy\n\n"
      ]
    },
    {
      "cell_type": "code",
      "execution_count": null,
      "metadata": {
        "collapsed": false
      },
      "outputs": [],
      "source": [
        "scaling = N_contours / (sf.max() - sf.min())\nL_approx = 2 * sf.magnetic_energy * (scaling ** 2)\n\nprint(\"Inductance based on the continuous current density\", L_approx)\nprint(\"Inductance based on r=1mm wire\", np.sum(Mself))"
      ]
    }
  ],
  "metadata": {
    "kernelspec": {
      "display_name": "Python 3",
      "language": "python",
      "name": "python3"
    },
    "language_info": {
      "codemirror_mode": {
        "name": "ipython",
        "version": 3
      },
      "file_extension": ".py",
      "mimetype": "text/x-python",
      "name": "python",
      "nbconvert_exporter": "python",
      "pygments_lexer": "ipython3",
      "version": "3.6.7"
    }
  },
  "nbformat": 4,
  "nbformat_minor": 0
}