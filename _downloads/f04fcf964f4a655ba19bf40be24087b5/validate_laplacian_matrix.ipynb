{
  "cells": [
    {
      "cell_type": "code",
      "execution_count": null,
      "metadata": {
        "collapsed": false
      },
      "outputs": [],
      "source": [
        "%matplotlib inline"
      ]
    },
    {
      "cell_type": "markdown",
      "metadata": {},
      "source": [
        "\nValidation of Laplacian using spherical harmonics\n====================================================================\n\nStudy the eigenvalue spectrum of the discretize laplace-beltrami operator\non a spherical mesh. Compare the spectrum to analytical solution.\n"
      ]
    },
    {
      "cell_type": "code",
      "execution_count": null,
      "metadata": {
        "collapsed": false
      },
      "outputs": [],
      "source": [
        "import numpy as np\nfrom bfieldtools.mesh_calculus import mass_matrix, laplacian_matrix\nfrom bfieldtools.utils import load_example_mesh\nfrom scipy.sparse.linalg import eigsh\nimport matplotlib.pyplot as plt\nimport trimesh\n\n# This is icosphere(4)?\n# mesh = load_example_mesh(\"unit_sphere\")\n# The test is faster with a smaller number of vertices\nmesh = trimesh.creation.icosphere(3)\n\nNvals = 150\nuu1 = []\nvv1 = []\nM = mass_matrix(mesh)\n\n# for q in range(4):\nL = laplacian_matrix(mesh)\nuu, vv = eigsh(-L, Nvals, M, which=\"SM\")\nuu1.append(uu)\nvv1.append(vv)"
      ]
    },
    {
      "cell_type": "code",
      "execution_count": null,
      "metadata": {
        "collapsed": false
      },
      "outputs": [],
      "source": [
        "\"\"\" \n Spherical harmonics are the eigenfunctions of the LB operator\n The correct eigenvalues are l*(l+1)\n\"\"\"\nR = np.linalg.norm(mesh.vertices[mesh.faces].mean(axis=1), axis=-1).mean()\nll = np.array([l for l in range(20) for m in range(-l, l + 1)])\nll = ll[:Nvals]\nevals = ll * (ll + 1)"
      ]
    },
    {
      "cell_type": "markdown",
      "metadata": {},
      "source": [
        "plt.plot(evals, 'k')\n\n"
      ]
    },
    {
      "cell_type": "code",
      "execution_count": null,
      "metadata": {
        "collapsed": false
      },
      "outputs": [],
      "source": [
        "for u in uu1:\n    plt.plot(abs(evals[1:] - u[1:]) / evals[1:], \"-\")\n\nplt.xlabel(\"# eigenvalue\")\nplt.ylabel(\"Relative error\")"
      ]
    },
    {
      "cell_type": "code",
      "execution_count": null,
      "metadata": {
        "collapsed": false
      },
      "outputs": [],
      "source": [
        "from bfieldtools.utils import MeshProjection\nfrom bfieldtools.sphtools import ylm\nfrom bfieldtools.sphtools import cartesian2spherical\n\nylm_on_hats = []\ni1 = 0\nvv1_projs = np.zeros((len(vv1), vv1[0].shape[1]))\nmp = MeshProjection(mesh, 4)\n\n# N < L*(L+2)\nfor l in range(0, 13):\n    i0 = i1\n    print(f\"l={l}\")\n    for m in range(-l, l + 1):\n\n        def func(r):\n            sphcoords = cartesian2spherical(r)\n            return ylm(l, m, sphcoords[:, 1], sphcoords[:, 2])\n\n        ylm_on_hats.append(mp.hatfunc_innerproducts(func))\n        i1 += 1\n    for ii, vv in enumerate(vv1):\n        # Project self-inductance eigenfunctions to l-subspace\n        p = np.sum((np.array(ylm_on_hats[i0:i1]) @ vv[:, i0:i1]) ** 2, axis=0)\n        vv1_projs[ii, i0:i1] = p"
      ]
    },
    {
      "cell_type": "code",
      "execution_count": null,
      "metadata": {
        "collapsed": false
      },
      "outputs": [],
      "source": [
        "\"\"\"\nPlot the norm of a projection of the eigenfunctions into the L-subspaces\ncorresponding to the same degenerate eigenvalue.\nThe correct values should be 1, if they are less than one the eigenfunctions\nspan also to other subspaces\n\"\"\"\nplt.figure()\neff_R2 = np.sum(mesh.area_faces) / (4 * np.pi)\nplt.plot(np.sqrt(vv1_projs.T / eff_R2), \"-\")\n\nplt.xlabel(\"# eigenfunction\")\nplt.ylabel(\"Squared norm in L-subspace\")"
      ]
    }
  ],
  "metadata": {
    "kernelspec": {
      "display_name": "Python 3",
      "language": "python",
      "name": "python3"
    },
    "language_info": {
      "codemirror_mode": {
        "name": "ipython",
        "version": 3
      },
      "file_extension": ".py",
      "mimetype": "text/x-python",
      "name": "python",
      "nbconvert_exporter": "python",
      "pygments_lexer": "ipython3",
      "version": "3.7.6"
    }
  },
  "nbformat": 4,
  "nbformat_minor": 0
}