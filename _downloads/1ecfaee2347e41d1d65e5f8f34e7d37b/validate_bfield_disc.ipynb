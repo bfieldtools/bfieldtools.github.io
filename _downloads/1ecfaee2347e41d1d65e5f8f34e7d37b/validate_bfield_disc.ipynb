{
  "cells": [
    {
      "cell_type": "code",
      "execution_count": null,
      "metadata": {
        "collapsed": false
      },
      "outputs": [],
      "source": [
        "%matplotlib inline"
      ]
    },
    {
      "cell_type": "markdown",
      "metadata": {},
      "source": [
        "\nB-field on the symmetry axis of a disc\n===========================================\n\nCompare a analytic expression and the numerical computation of\nthe B-field of a symmetric current distribution \n"
      ]
    },
    {
      "cell_type": "code",
      "execution_count": null,
      "metadata": {
        "collapsed": false
      },
      "outputs": [],
      "source": [
        "import numpy as np\nimport matplotlib.pyplot as plt\nimport trimesh\nfrom mayavi import mlab\nfrom bfieldtools.mesh_magnetics import magnetic_field_coupling\nfrom bfieldtools.mesh_conductor import MeshConductor, StreamFunction\nfrom bfieldtools.utils import load_example_mesh\n\n\ndef field_disc(z, a):\n    \"\"\" Bfield z-component of streamfunction psi=r**2 z-axis\n        for a disk with radius \"a\" on the xy plane\n    \"\"\"\n\n    coeff = 1e-7\n    field = -2 * (a ** 2 + 2 * z ** 2) / np.sqrt((a ** 2 + z ** 2)) + 4 * abs(z)\n    field *= coeff * 2 * np.pi\n\n    return field\n\n\n# Load disc and subdivide\ndisc = load_example_mesh(\"unit_disc\")\nfor i in range(4):\n    disc = disc.subdivide()\ndisc.vertices -= disc.vertices.mean(axis=0)\n\n# Stream functions\ns = disc.vertices[:, 0] ** 2 + disc.vertices[:, 1] ** 2"
      ]
    },
    {
      "cell_type": "code",
      "execution_count": null,
      "metadata": {
        "collapsed": false
      },
      "outputs": [],
      "source": [
        "Np = 50\nz = np.linspace(-1, 10, Np) + 0.001\npoints = np.zeros((Np, 3))\npoints[:, 2] = z\nmlab.triangular_mesh(*disc.vertices.T, disc.faces, scalars=s, colormap=\"viridis\")\nmlab.points3d(*points.T, scale_factor=0.1)\n\nbfield_mesh = magnetic_field_coupling(disc, points, analytic=True) @ s"
      ]
    },
    {
      "cell_type": "code",
      "execution_count": null,
      "metadata": {
        "collapsed": false
      },
      "outputs": [],
      "source": [
        "Nr = 100\ndrs = np.linspace(-0.0035, -0.0034, Nr)\nfrom matplotlib import cm\n\ncolors = cm.viridis(np.linspace(0, 1, Nr))\nerr = []\nfor c, dr in zip(colors, drs):\n    err.append(\n        (abs((bfield_mesh[:, 2] - field_disc(z, 1 + dr)) / field_disc(z, 1 + dr)))[-1]\n    )\nplt.plot(1 + drs, err)\nplt.ylabel(\"error\")\nplt.xlabel(\"disc radius\")"
      ]
    },
    {
      "cell_type": "code",
      "execution_count": null,
      "metadata": {
        "collapsed": false
      },
      "outputs": [],
      "source": [
        "plt.figure()\n# Solve zero-crossing\npp = np.polyfit(drs[:30], err[:30], deg=1)\ndr0 = -pp[1] / pp[0]\n\nplt.semilogy(z, -field_disc(z, 1 + dr0))\nplt.semilogy(z, -bfield_mesh[:, 2])\nplt.xlabel(\"$z$\")\nplt.ylabel(\"$B_z$\")\n\n\nplt.figure()\n# Plot the relative error\nplt.plot(z, (abs(bfield_mesh[:, 2] - field_disc(z, 1 + dr0)) / field_disc(z, 1 + dr0)))\nplt.xlabel(\"$z$\")\nplt.ylabel(\"relative error\")"
      ]
    }
  ],
  "metadata": {
    "kernelspec": {
      "display_name": "Python 3",
      "language": "python",
      "name": "python3"
    },
    "language_info": {
      "codemirror_mode": {
        "name": "ipython",
        "version": 3
      },
      "file_extension": ".py",
      "mimetype": "text/x-python",
      "name": "python",
      "nbconvert_exporter": "python",
      "pygments_lexer": "ipython3",
      "version": "3.7.6"
    }
  },
  "nbformat": 4,
  "nbformat_minor": 0
}