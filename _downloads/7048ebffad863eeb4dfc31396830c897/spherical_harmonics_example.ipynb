{
  "cells": [
    {
      "cell_type": "code",
      "execution_count": null,
      "metadata": {
        "collapsed": false
      },
      "outputs": [],
      "source": [
        "%matplotlib inline"
      ]
    },
    {
      "cell_type": "markdown",
      "metadata": {},
      "source": [
        "\nExample of spherical harmonics tools and visualization\n============================================================\n\n"
      ]
    },
    {
      "cell_type": "code",
      "execution_count": null,
      "metadata": {
        "collapsed": false
      },
      "outputs": [],
      "source": [
        "import numpy as np\nfrom mayavi import mlab\nimport matplotlib.pyplot as plt\n\nfrom bfieldtools.sphtools import SphBasis\nfrom bfieldtools import sphtools\n\n# Create basis object for plotting, evaluation of inner products etc.\nsph = SphBasis(40)"
      ]
    },
    {
      "cell_type": "markdown",
      "metadata": {},
      "source": [
        "Plot Spherical harmonics Ylms on the sphere\nPlot Ylms up to l = 4\n\n"
      ]
    },
    {
      "cell_type": "code",
      "execution_count": null,
      "metadata": {
        "collapsed": false
      },
      "outputs": [],
      "source": [
        "mlab.figure(bgcolor=(1, 1, 1))\nobj = sphtools.plotYlms(sph, lmax=4)\n\n# Plot Ylm with l=3, m=3\nmlab.figure(bgcolor=(1, 1, 1))\nobj = sphtools.plotYlm(sph, l=3, m=3)"
      ]
    },
    {
      "cell_type": "markdown",
      "metadata": {},
      "source": [
        "Plot vector spherical harmonics Vlms / Wlms / Xlms on the sphere\n\n"
      ]
    },
    {
      "cell_type": "code",
      "execution_count": null,
      "metadata": {
        "collapsed": false
      },
      "outputs": [],
      "source": [
        "# Plot Vlm with l=2, m=2\nmlab.figure(bgcolor=(1, 1, 1))\nobj = sphtools.plotVlm(sph, l=2, m=2)\nobj.scene.z_plus_view()\n\n# Plot Wlm with the same order and degree, l=2, m=2\nmlab.figure(bgcolor=(1, 1, 1))\nobj = sphtools.plotWlm(sph, l=2, m=2)\nobj.scene.z_plus_view()\n\n# Plot Xlm with the same order and degree, l=2, m=2\nmlab.figure(bgcolor=(1, 1, 1))\nobj = sphtools.plotXlm(sph, l=2, m=2)\nobj.scene.z_plus_view()"
      ]
    },
    {
      "cell_type": "markdown",
      "metadata": {},
      "source": [
        "Plot fields of vector spherical harmonics Vlms / Wlms on a volume\n\n"
      ]
    },
    {
      "cell_type": "code",
      "execution_count": null,
      "metadata": {
        "collapsed": false
      },
      "outputs": [],
      "source": [
        "# Plot BVlm with l=2, m=2\noffset = np.array((0, 0, 3))  # add offset due to divergence in origin\nmlab.figure(bgcolor=(1, 1, 1))\nobj = sphtools.plotBVlm_volume(sph, l=2, m=2, lim=1, Np=10, offset=offset)\n\n# Plot BWlm with l=2, m=2\noffset = np.array((0, 0, 0))  # include origin\nmlab.figure(bgcolor=(1, 1, 1))\nobj = sphtools.plotBWlm_volume(sph, l=2, m=2, lim=1, Np=10, offset=offset)"
      ]
    },
    {
      "cell_type": "markdown",
      "metadata": {},
      "source": [
        "Test inner products in quadrature points defined in sph-object\n\n"
      ]
    },
    {
      "cell_type": "code",
      "execution_count": null,
      "metadata": {
        "collapsed": false
      },
      "outputs": [],
      "source": [
        "Ylm1 = sphtools.ylm(2, 1, sph.sqp[:, 1], sph.sqp[:, 2])\nYlm2 = sphtools.ylm(2, 0, sph.sqp[:, 1], sph.sqp[:, 2])\nprint(\n    \"Inner product between Ylm_20 and Ylm_21 is %f\"\n    % sph.innerproduct(Ylm1[:, None], Ylm2[:, None])\n)\nprint(\n    \"Inner product between Ylm_20 and Ylm_20 is %f\"\n    % sph.innerproduct(Ylm2[:, None], Ylm2[:, None])\n)\n\nVlm1 = sphtools.Vlm(1, 0, sph.sqp[:, 1], sph.sqp[:, 2])\nVlm2 = sphtools.Vlm(2, 0, sph.sqp[:, 1], sph.sqp[:, 2])\nprint(\"Inner product between V_10 and V_20 is %f\" % sph.innerproduct(Vlm1, Vlm2))\nprint(\"Inner product between V_10 and V_10 is %f\" % sph.innerproduct(Vlm1, Vlm1))\n\nWlm1 = sphtools.Wlm(1, 0, sph.sqp[:, 1], sph.sqp[:, 2])\nWlm2 = sphtools.Wlm(2, 0, sph.sqp[:, 1], sph.sqp[:, 2])\nprint(\"Inner product between W_10 and W_20 is %f\" % sph.innerproduct(Wlm1, Wlm2))\nprint(\"Inner product between W_10 and W_10 is %f\" % sph.innerproduct(Wlm1, Wlm1))\n\nXlm1 = sphtools.Xlm(1, 0, sph.sqp[:, 1], sph.sqp[:, 2])\nXlm2 = sphtools.Xlm(2, 0, sph.sqp[:, 1], sph.sqp[:, 2])\nprint(\"Inner product between X_10 and X_20 is %f\" % sph.innerproduct(Xlm1, Xlm2))\nprint(\"Inner product between X_10 and X_10 is %f\" % sph.innerproduct(Xlm1, Xlm1))\n\nprint(\"Inner product between W_10 and V_10 is %f\" % sph.innerproduct(Wlm1, Vlm1))\nprint(\"Inner product between X_10 and V_10 is %f\" % sph.innerproduct(Xlm1, Vlm1))\nprint(\"Inner product between X_10 and W_10 is %f\" % sph.innerproduct(Xlm1, Vlm1))"
      ]
    },
    {
      "cell_type": "markdown",
      "metadata": {},
      "source": [
        "Simple example of the calculation of sph spectrum of magnetic field\ndefined on the sphere using the inner product.\n\n"
      ]
    },
    {
      "cell_type": "code",
      "execution_count": null,
      "metadata": {
        "collapsed": false
      },
      "outputs": [],
      "source": [
        "# define homogeneous magnetic field along z-axis\nB = np.zeros(sph.sqp.shape)\nB[:, 2] = sph.qp.points[:, 0] / np.max(sph.qp.points[:, 0])\n\n# add noise\nB += 0.1 * np.random.randn(B.shape[0], B.shape[1])\n\nB = sphtools.cartvec2sph(sph.sqp, B)  # transform to spherical coordinates\n\ncoeffs = sph.avsphspectra(B, 7)  # calculate spectra of the r**l terms\n\n# Plot the spectra\nplt.figure()\nplt.semilogy(coeffs ** 2)"
      ]
    }
  ],
  "metadata": {
    "kernelspec": {
      "display_name": "Python 3",
      "language": "python",
      "name": "python3"
    },
    "language_info": {
      "codemirror_mode": {
        "name": "ipython",
        "version": 3
      },
      "file_extension": ".py",
      "mimetype": "text/x-python",
      "name": "python",
      "nbconvert_exporter": "python",
      "pygments_lexer": "ipython3",
      "version": "3.6.7"
    }
  },
  "nbformat": 4,
  "nbformat_minor": 0
}