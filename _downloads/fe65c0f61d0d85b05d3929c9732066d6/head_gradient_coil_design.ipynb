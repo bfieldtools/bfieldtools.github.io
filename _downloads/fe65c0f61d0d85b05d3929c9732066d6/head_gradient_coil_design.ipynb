{
  "cells": [
    {
      "cell_type": "code",
      "execution_count": null,
      "metadata": {
        "collapsed": false
      },
      "outputs": [],
      "source": [
        "%matplotlib inline"
      ]
    },
    {
      "cell_type": "markdown",
      "metadata": {},
      "source": [
        "\nHead gradient coil\n==================\n\nExample showing a gradient coil designed on the surface of a MEG system helmet\n"
      ]
    },
    {
      "cell_type": "code",
      "execution_count": null,
      "metadata": {
        "collapsed": false
      },
      "outputs": [],
      "source": [
        "import numpy as np\nfrom mayavi import mlab\n\nfrom bfieldtools.mesh_conductor import MeshConductor\nfrom bfieldtools.coil_optimize import optimize_streamfunctions\nfrom bfieldtools.utils import load_example_mesh\nfrom bfieldtools import sphtools\n\n\n# Load simple plane mesh that is centered on the origin\nhelmetmesh = load_example_mesh(\"meg_helmet\")\ncoil = MeshConductor(mesh_obj=helmetmesh, fix_normals=True)"
      ]
    },
    {
      "cell_type": "markdown",
      "metadata": {},
      "source": [
        "Set up target and stray field points.\nHere, the target points are on a volumetric grid within a sphere\n\n"
      ]
    },
    {
      "cell_type": "code",
      "execution_count": null,
      "metadata": {
        "collapsed": false
      },
      "outputs": [],
      "source": [
        "offset = np.array([0, 0, 0.04])\ncenter = offset\n\nsidelength = 0.05\nn = 12\nxx = np.linspace(-sidelength / 2, sidelength / 2, n)\nyy = np.linspace(-sidelength / 2, sidelength / 2, n)\nzz = np.linspace(-sidelength / 2, sidelength / 2, n)\nX, Y, Z = np.meshgrid(xx, yy, zz, indexing=\"ij\")\n\nx = X.ravel()\ny = Y.ravel()\nz = Z.ravel()\n\ntarget_points = np.array([x, y, z]).T\n\n# Turn cube into sphere by rejecting points \"in the corners\"\ntarget_points = (\n    target_points[np.linalg.norm(target_points, axis=1) < sidelength / 2] + center\n)"
      ]
    },
    {
      "cell_type": "markdown",
      "metadata": {},
      "source": [
        "Specify target field and run solver.\nHere, we specify the target field through the use of spherical harmonics.\nWe want to produce the field corresponding to a specific beta_l,m-component.\n\n"
      ]
    },
    {
      "cell_type": "code",
      "execution_count": null,
      "metadata": {
        "collapsed": false
      },
      "outputs": [],
      "source": [
        "lmax = 3\nalm = np.zeros((lmax * (lmax + 2),))\nblm = np.zeros((lmax * (lmax + 2),))\n\n# Set one specific component to one\nblm[3] += 1\n\nsphfield = sphtools.field(target_points, alm, blm, lmax)\n\ntarget_field = sphfield / np.max(sphfield[:, 0])\n\ntarget_field[:, 2] = 0\n\ncoil.plot_mesh(opacity=0.5)\nmlab.quiver3d(*target_points.T, *sphfield.T)\nmlab.gcf().scene.isometric_view()\n\nabs_error = np.zeros_like(target_field)\nabs_error[:, 0] += 0.05\nabs_error[:, 1:3] += 0.1\n\n\ntarget_spec = {\n    \"coupling\": coil.B_coupling(target_points),\n    \"abs_error\": abs_error,\n    \"target\": target_field,\n}\n\nimport mosek\n\ncoil.s, prob = optimize_streamfunctions(\n    coil,\n    [target_spec],\n    objective=\"minimum_inductive_energy\",\n    solver=\"MOSEK\",\n    solver_opts={\"mosek_params\": {mosek.iparam.num_threads: 8}},\n)"
      ]
    },
    {
      "cell_type": "markdown",
      "metadata": {},
      "source": [
        "Plot coil windings\n\n"
      ]
    },
    {
      "cell_type": "code",
      "execution_count": null,
      "metadata": {
        "collapsed": false
      },
      "outputs": [],
      "source": [
        "loops = coil.s.discretize(N_contours=10)\nloops.plot_loops()"
      ]
    }
  ],
  "metadata": {
    "kernelspec": {
      "display_name": "Python 3",
      "language": "python",
      "name": "python3"
    },
    "language_info": {
      "codemirror_mode": {
        "name": "ipython",
        "version": 3
      },
      "file_extension": ".py",
      "mimetype": "text/x-python",
      "name": "python",
      "nbconvert_exporter": "python",
      "pygments_lexer": "ipython3",
      "version": "3.7.6"
    }
  },
  "nbformat": 4,
  "nbformat_minor": 0
}