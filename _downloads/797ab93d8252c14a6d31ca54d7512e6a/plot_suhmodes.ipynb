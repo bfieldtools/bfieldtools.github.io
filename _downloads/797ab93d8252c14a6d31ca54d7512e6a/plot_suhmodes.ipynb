{
  "cells": [
    {
      "cell_type": "code",
      "execution_count": null,
      "metadata": {
        "collapsed": false
      },
      "outputs": [],
      "source": [
        "%matplotlib inline"
      ]
    },
    {
      "cell_type": "markdown",
      "metadata": {},
      "source": [
        "\nFigure 2: Surface harmonics modes\n==================================\n\nFirst 15 surface harmonics of a triangle mesh. The index (and spatial frequency) increases from left to right, row by row. The hole and outer boundary have zero tangential derivative. The mesh discretization is shown in the magnified inset to the right.\n"
      ]
    },
    {
      "cell_type": "code",
      "execution_count": null,
      "metadata": {
        "collapsed": false
      },
      "outputs": [],
      "source": [
        "from bfieldtools.mesh_conductor import MeshConductor\n\nimport numpy as np\n\nSAVE = False\nSAVE_DIR = \"./Surface harmonics/\"\n\n\nc = MeshConductor(\n    mesh_file=SAVE_DIR + \"arbitrary_surface.stl\",\n    process=True,\n    basis_name=\"suh\",\n    N_suh=15,\n    fix_normals=True,\n)\n\n\nT_x = 1.5 * np.pi / 2\nT_z = -1.02 * np.pi\nrotmat = np.array(\n    [\n        [np.cos(T_z), -np.sin(T_z), 0, 0],\n        [np.sin(T_z), np.cos(T_z), 0, 0],\n        [0, 0, 1, 0],\n        [0, 0, 0, 1],\n    ]\n) @ np.array(\n    [\n        [1, 0, 0, 0],\n        [0, np.cos(T_x), -np.sin(T_x), 0],\n        [0, np.sin(T_x), np.cos(T_x), 0],\n        [0, 0, 0, 1],\n    ]\n)\n\n\nc.mesh.apply_transform(rotmat)\n\n\nfrom mayavi import mlab\nfrom mayavi.api import Engine\n\ne = Engine()\ne.start()\n\n\nf = mlab.figure(None, bgcolor=(1, 1, 1), fgcolor=(0.5, 0.5, 0.5), size=(750, 900))\n\nsurfaces = c.suh_basis.plot(\n    Nfuncs=c.basis.shape[1], Ncols=2, dist=0.1, colormap=\"RdBu\", figure=f, ncolors=256\n)\n\nf.scene.z_plus_view()\n1 + 1\n#\nfor surface in surfaces:\n    surface.actor.mapper.interpolate_scalars_before_mapping = True\n\n\n# f.scene.camera.parallel_projection=1\n# mlab.view(0,160)\nf.scene.camera.zoom(1.2)\n# f.scene.camera.roll(270)\n\nif SAVE:\n    mlab.savefig(\n        SAVE_DIR + \"surface_harmonics.png\", figure=f, magnification=4,\n    )\n\n    mlab.close()\n\nf = mlab.figure(None, bgcolor=(1, 1, 1), fgcolor=(0.5, 0.5, 0.5), size=(750, 600))\n\nc.plot_mesh(representation=\"wireframe\", figure=f)\nc.plot_mesh(opacity=0.2, figure=f)\n#\n# f.scene.camera.parallel_projection=1\n# mlab.view(0,160)\nf.scene.camera.zoom(1.5)\nf.scene.z_plus_view()\n# f.scene.camera.roll(270)\n\nif SAVE:\n    mlab.savefig(\n        SAVE_DIR + \"suhmesh.png\", figure=f, magnification=6,\n    )\n    mlab.close()"
      ]
    }
  ],
  "metadata": {
    "kernelspec": {
      "display_name": "Python 3",
      "language": "python",
      "name": "python3"
    },
    "language_info": {
      "codemirror_mode": {
        "name": "ipython",
        "version": 3
      },
      "file_extension": ".py",
      "mimetype": "text/x-python",
      "name": "python",
      "nbconvert_exporter": "python",
      "pygments_lexer": "ipython3",
      "version": "3.7.6"
    }
  },
  "nbformat": 4,
  "nbformat_minor": 0
}