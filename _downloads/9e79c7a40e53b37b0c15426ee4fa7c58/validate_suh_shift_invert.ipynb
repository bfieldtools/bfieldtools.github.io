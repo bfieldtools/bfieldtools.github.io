{
  "cells": [
    {
      "cell_type": "code",
      "execution_count": null,
      "metadata": {
        "collapsed": false
      },
      "outputs": [],
      "source": [
        "%matplotlib inline"
      ]
    },
    {
      "cell_type": "markdown",
      "metadata": {},
      "source": [
        "\nComputation time for shiftinvert eigenvalue decomp\n===========================================================\n"
      ]
    },
    {
      "cell_type": "code",
      "execution_count": null,
      "metadata": {
        "collapsed": false
      },
      "outputs": [],
      "source": [
        "import numpy as np\nfrom bfieldtools.suhtools import SuhBasis\nfrom mayavi import mlab\nimport trimesh\nimport matplotlib.pyplot as plt\nfrom time import clock\n\n\n# Create basis for a sphere (basis.eigenvals shere the same structure\n# as spherical harmonic eigenvalues)\nmesh = trimesh.creation.icosphere(4)\n\nclosed = False\nbasis = SuhBasis(mesh, 1)\n\n# Choose Nc and recalculate basis with shift-invert and without\nbasis.Nc = 100\nt0 = clock()\nbasis.calculate_basis(shiftinvert=True)\nprint(\"Time with shift invert:\", clock() - t0)\nf = mlab.figure()\nbasis.plot(15, figure=f)\ne1 = basis.eigenvals\nb1 = basis.basis\nt0 = clock()\nbasis.calculate_basis(shiftinvert=False)\nprint(\"Time without shift invert:\", clock() - t0)\nb2 = basis.basis\nf = mlab.figure()\nbasis.plot(15, figure=f)\ne2 = basis.eigenvals\n\nplt.plot(e1)\nplt.plot(e2)"
      ]
    }
  ],
  "metadata": {
    "kernelspec": {
      "display_name": "Python 3",
      "language": "python",
      "name": "python3"
    },
    "language_info": {
      "codemirror_mode": {
        "name": "ipython",
        "version": 3
      },
      "file_extension": ".py",
      "mimetype": "text/x-python",
      "name": "python",
      "nbconvert_exporter": "python",
      "pygments_lexer": "ipython3",
      "version": "3.7.6"
    }
  },
  "nbformat": 4,
  "nbformat_minor": 0
}