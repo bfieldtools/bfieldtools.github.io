{
  "cells": [
    {
      "cell_type": "code",
      "execution_count": null,
      "metadata": {
        "collapsed": false
      },
      "outputs": [],
      "source": [
        "%matplotlib inline"
      ]
    },
    {
      "cell_type": "markdown",
      "metadata": {},
      "source": [
        "\nSolving linearly polarizing material in a homogenenous field\n------------------------------------------------------------\n\nThe example is based on the following integral equation of \na piecewise harmonic potential $U$ on the boundary of the polarizing material\n\n\\begin{align}\\frac{\\mu_0 + \\mu}{2} U(\\vec{r}) = \\mu_0 U_\\infty(\\vec{r}) + \\frac{\\mu_0 - \\mu}{4\\pi}\\int_{S} U(\\vec{r}\\,') (\\hat{n}' \\cdot \\nabla') \\frac{1}{|\\vec{r}-\\vec{r}\\,'|} dS'\\,.\\end{align}\n* $U$ is the magnetic scalar potential to be solved\n* $\\mu_0$ is the permeability of the free space\n* $\\mu$ is the permeability of the material\n* $U_\\infty$ is the magnetic scalar potential without the material\n* $S$ is the surface of the material\n\nAfter discretization $U(\\vec{r})=\\sum_n u_n h_n(\\vec{r})$ and integrating the integral equation over every hat $h_n(\\vec{r})$,\na linear system of equations is obtained\n\n\\begin{align}\\mathbf{N}\\mathbf{u} = \\frac{2}{1+\\mu_\\mathrm{r}} \\mathbf{u}_\\infty + \\frac{1 - \\mu_\\mathrm{r}}{4\\pi(1 + \\mu_\\mathrm{r})}\\mathbf{D}\\mathbf{u}\\,.\\end{align}\n\n* $\\mathbf{u}$ is $U$ at the mesh nodes\n* $\\mathbf{u}_\\infty$ is the potential $U_\\infty$ integrated over hat functions\n* $\\mu_\\mathrm{r}$ is the relative permeability of the material\n* $\\mathbf{D}$ is the double-layer coupling matrix\n* $\\mathbf{N}$ is the mesh mass matrix\n"
      ]
    },
    {
      "cell_type": "code",
      "execution_count": null,
      "metadata": {
        "collapsed": false
      },
      "outputs": [],
      "source": [
        "import numpy as np\nimport matplotlib.pyplot as plt\nfrom mayavi import mlab\n\nfrom bfieldtools.mesh_conductor import MeshConductor as Conductor\nfrom bfieldtools.mesh_magnetics import magnetic_field_coupling\nfrom bfieldtools.mesh_magnetics import scalar_potential_coupling\nfrom bfieldtools.mesh_calculus import mass_matrix\nfrom bfieldtools.utils import load_example_mesh\n\n\nfrom trimesh.creation import icosphere\n\n# Use a sphere\n# mesh = icosphere(3, 1)\n\n# Use a cube\nmesh = load_example_mesh(\"cube\")\nmesh.vertices -= mesh.vertices.mean(axis=0)\nmesh.apply_scale(0.2)\n\n\ndef Dmatrix(mesh1, mesh2, Nchunks=100):\n    \"\"\"\n    \"Double-layer potential\" coupling between two meshes\n    using a Galerkin method with hat basis\n    \n    Discretize integral equations using hat functions\n    on on both meshes. Potential from mesh1 hat functions\n    is calculated analytically and integrated over the \n    hat functions of mesh2 numerically\n\n    Parameters\n    ----------\n    mesh1 : Trimesh object\n    mesh2 : Trimesh object\n    Nchunks : int, optional\n        Number of chunks in the potential calculation. The default is 100.\n\n    Returns\n    -------\n    None.\n\n    \"\"\"\n    face_points = mesh2.vertices[mesh2.faces]\n    weights = np.array([[0.5, 0.25, 0.25], [0.25, 0.5, 0.25], [0.25, 0.25, 0.5]])\n    # Combine vertices for quadrature points\n    Rquad = np.einsum(\"...ij,ik->...kj\", face_points, weights)\n    R = Rquad.reshape(-1, 3)\n    U = scalar_potential_coupling(\n        mesh1, R, Nchunks, multiply_coeff=False, approx_far=True\n    )\n\n    face_areas = mesh2.area_faces\n    # Reshape and multiply by quadrature weights\n    Dcomps = U.reshape(Rquad.shape[:2] + (len(mesh2.vertices),)) * (\n        face_areas[:, None, None] / 3\n    )\n    # Sum up the quadrature points\n    D = mesh2.faces_sparse @ Dcomps[:, 0, :]\n    D += mesh2.faces_sparse @ Dcomps[:, 1, :]\n    D += mesh2.faces_sparse @ Dcomps[:, 2, :]\n\n    if mesh1 is mesh2:\n        # Recalculate diagonals\n        d = np.diag(D)\n        D -= np.diag(d)\n        # Make rows sum to -2*pi*(vertex area), should be more accurate\n        d2 = -2 * np.pi * mass_matrix(mesh2, lumped=False) - np.diag(D.sum(axis=1))\n        D += d2\n        # Make D solvable by adding rank-1 matrix\n        D += np.ones_like(D) * np.max(np.linalg.svd(D, False, False)) / D.shape[1]\n\n    return D\n\n\n# Some linear input potentials -> uniform field\ndef phi0x(r):\n    return r[:, 0]\n\n\ndef phi0y(r):\n    return r[:, 1]\n\n\ndef phi0z(r):\n    return r[:, 2]\n\n\ndef project_to_hats(mesh, func):\n    \"\"\"\n    Numerically integrate func over hat functions\n\n    Parameters\n    ----------\n    mesh : Trimesh object\n        the domain for hat functions\n    func : function\n        potential function for phi0, takes (N,3) array \n        of points as input\n\n    Returns\n    -------\n    p_mat : (Nvertices,) array\n        func projected on the hat functions\n\n    \"\"\"\n    # Index vertex points for each faces\n    face_points = mesh.vertices[mesh.faces]\n    weights = np.array([[0.5, 0.25, 0.25], [0.25, 0.5, 0.25], [0.25, 0.25, 0.5]])\n    # Combine vertices for quadrature points\n    Rquad = np.einsum(\"...ij,ik->...kj\", face_points, weights)\n    R = Rquad.reshape(-1, 3)\n\n    # Evaluation func at quadrature points\n    p = func(R)\n    face_areas = mesh.area_faces\n    # Reshape and multiply by quadrature weights\n    pcomps = p.reshape(Rquad.shape[:2]) * (face_areas[:, None] / 3)\n    # Sum up the quadrature points\n    p_mat = mesh.faces_sparse @ pcomps[:, 0]\n    p_mat += mesh.faces_sparse @ pcomps[:, 1]\n    p_mat += mesh.faces_sparse @ pcomps[:, 2]\n\n    return p_mat"
      ]
    },
    {
      "cell_type": "code",
      "execution_count": null,
      "metadata": {
        "collapsed": false
      },
      "outputs": [],
      "source": [
        "print(\"Computing D matrix\")\nD = Dmatrix(mesh, mesh)\nprint(\"Computing mass matrix\")\nM = mass_matrix(mesh)\nMl = mass_matrix(mesh, lumped=True)"
      ]
    },
    {
      "cell_type": "code",
      "execution_count": null,
      "metadata": {
        "collapsed": false
      },
      "outputs": [],
      "source": [
        "print(\"Computing input potential\")\npp = project_to_hats(mesh, phi0x)\nmu_r = 100\nc1 = (1 - mu_r) / (1 + mu_r)\nu = np.linalg.solve(M - 1 / (2 * np.pi) * c1 * D, -2 * pp / (mu_r + 1))\n\n# Plot potential on the mesh\nmlab.figure(\"Potential on the boundary\", bgcolor=(1, 1, 1))\nm = mlab.triangular_mesh(*mesh.vertices.T, mesh.faces, scalars=u, colormap=\"bwr\")\nm.actor.mapper.interpolate_scalars_before_mapping = True\nm.module_manager.scalar_lut_manager.number_of_colors = 32"
      ]
    },
    {
      "cell_type": "markdown",
      "metadata": {},
      "source": [
        "Load plane for the visualization of the potential\n\n"
      ]
    },
    {
      "cell_type": "code",
      "execution_count": null,
      "metadata": {
        "collapsed": false
      },
      "outputs": [],
      "source": [
        "plane = load_example_mesh(\"10x10_plane_hires\", process=True)\nt = np.eye(4)\nt[1:3, 1:3] = np.array([[0, 1], [-1, 0]])\nplane.apply_transform(t)\nplane.apply_scale(0.3)\nplane = plane.subdivide()\n\nUplane = scalar_potential_coupling(\n    mesh, plane.vertices, multiply_coeff=False, approx_far=True\n)\n\nuprim = phi0x(plane.vertices)\nusec = (mu_r - 1) / (4 * np.pi) * Uplane @ u\nuplane = uprim + usec\n\n# Meshgrid on the same plane for the bfield\nX, Y = np.meshgrid(\n    np.linspace(-1.5, 1.5, 50), np.linspace(-1.5, 1.5, 50), indexing=\"ij\"\n)\npp = np.zeros((50 * 50, 3))\npp[:, 0] = X.flatten()\npp[:, 1] = Y.flatten()\n\nBplane = magnetic_field_coupling(mesh, pp, analytic=True)\nbprim = pp * 0  # copy pp\n# add x directional field\nmu0 = 1e-7 * 4 * np.pi\nbprim[:, 0] = -1\n# In this simulation mu0==1 is assumed\n# magnetic_field_coupling uses mu0 in SI units\nbplane = (mu_r - 1) / (4 * np.pi) / mu0 * Bplane @ u + bprim\n# uplane[Uplane.sum(axis=1)]"
      ]
    },
    {
      "cell_type": "code",
      "execution_count": null,
      "metadata": {
        "collapsed": false
      },
      "outputs": [],
      "source": [
        "mlab.figure(\"Potential for B\", bgcolor=(1, 1, 1), size=(1000, 1000))\nm = mlab.triangular_mesh(*plane.vertices.T, plane.faces, scalars=uplane, colormap=\"bwr\")\nm.actor.mapper.interpolate_scalars_before_mapping = True\nm.module_manager.scalar_lut_manager.number_of_colors = 32\n# vectors = mlab.quiver3d(*(plane.triangles_center + np.array([0,0,0.001])).T,\n#                         *(-gradient(uplane, plane)), color=(0,0,0),\n#               scale_mode='none', scale_factor=0.01, mode='arrow')\n# vectors.glyph.mask_input_points = True\n# vectors.glyph.mask_points.random_mode_type = 0\n# vectors.glyph.mask_points.on_ratio = 4\n# vectors.glyph.glyph_source.glyph_position = 'center'\nm.scene.z_plus_view()\n\nmlab.figure(\"B field\", bgcolor=(1, 1, 1), size=(1000, 1000))\nvectors2 = mlab.quiver3d(\n    *pp.T,\n    *bplane.T,\n    color=(1, 0, 0),\n    scale_mode=\"vector\",\n    scale_factor=0.02,\n    mode=\"arrow\"\n)\nvectors2.glyph.glyph.scale_factor = 0.08\nvectors2.glyph.mask_input_points = True\nvectors2.glyph.mask_points.random_mode_type = 0\nvectors2.glyph.mask_points.on_ratio = 4\nvectors2.glyph.glyph_source.glyph_position = \"center\"\nvectors2.scene.z_plus_view()\n\n# Streamline plot for the cube\nbplane[:, 2] = 0\nvecfield = mlab.pipeline.vector_field(\n    *pp.T.reshape(3, 50, 50, 1), *bplane.T.reshape(3, 50, 50, 1)\n)\nvecnorm = mlab.pipeline.extract_vector_norm(vecfield)\nstreams = []\n\nNq = 40\nq = np.zeros((Nq, 3))\nq[:, 1] = np.linspace(-1.5, 1.5, Nq)\nq[:, 0] = 1.5\nextent = np.array([-1.5, 1.5, -1.5, 1.5, 0, 0])\nfor qi in q:\n    stream = mlab.pipeline.streamline(\n        vecnorm,\n        seed_scale=0.01,\n        seedtype=\"point\",\n        integration_direction=\"both\",\n        extent=np.array([-1.5, 1.5, -1.5, 1.5, 0, 0]),\n        colormap=\"viridis\",\n    )\n    stream.stream_tracer.initial_integration_step = 0.1\n    stream.stream_tracer.maximum_propagation = 200.0\n    stream.seed.widget = stream.seed.widget_list[3]\n    stream.seed.widget.position = qi\n    stream.seed.widget.enabled = False  # hide the widget itself\n    streams.append(stream)"
      ]
    }
  ],
  "metadata": {
    "kernelspec": {
      "display_name": "Python 3",
      "language": "python",
      "name": "python3"
    },
    "language_info": {
      "codemirror_mode": {
        "name": "ipython",
        "version": 3
      },
      "file_extension": ".py",
      "mimetype": "text/x-python",
      "name": "python",
      "nbconvert_exporter": "python",
      "pygments_lexer": "ipython3",
      "version": "3.7.6"
    }
  },
  "nbformat": 4,
  "nbformat_minor": 0
}