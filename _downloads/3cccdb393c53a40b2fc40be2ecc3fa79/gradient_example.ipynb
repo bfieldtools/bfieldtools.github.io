{
  "cells": [
    {
      "cell_type": "code",
      "execution_count": null,
      "metadata": {
        "collapsed": false
      },
      "outputs": [],
      "source": [
        "%matplotlib inline"
      ]
    },
    {
      "cell_type": "markdown",
      "metadata": {},
      "source": [
        "\nGradient computation example\n============================\n\nMinimal example visualizing the gradient of a scalar function on a mesh\n"
      ]
    },
    {
      "cell_type": "code",
      "execution_count": null,
      "metadata": {
        "collapsed": false
      },
      "outputs": [],
      "source": [
        "import numpy as np\nfrom mayavi import mlab\nimport trimesh\n\nfrom bfieldtools.viz import plot_data_on_vertices\nfrom bfieldtools.mesh_calculus import gradient\nimport pkg_resources\n\n# Load simple plane mesh that is centered on the origin\nfile_obj = file_obj = pkg_resources.resource_filename(\n    \"bfieldtools\", \"example_meshes/10x10_plane.obj\"\n)\nplanemesh = trimesh.load(file_obj, process=False)\n\n# Generate a simple scalar function\nr = np.linalg.norm(planemesh.vertices, axis=1)\nvals = np.exp(-0.5 * (r / r.max()))\n\n# triangle centers for plotting\ntri_centers = planemesh.vertices[planemesh.faces].mean(axis=1).T\ntri_centers[1] += 0.1"
      ]
    },
    {
      "cell_type": "markdown",
      "metadata": {},
      "source": [
        "Calculate the gradient (e.g., flow from potential)\n\n"
      ]
    },
    {
      "cell_type": "code",
      "execution_count": null,
      "metadata": {
        "collapsed": false
      },
      "outputs": [],
      "source": [
        "g = gradient(vals, planemesh, rotated=False)\n\n# Plot function and its gradient as arrows\n\nscene = mlab.figure(None, bgcolor=(1, 1, 1), fgcolor=(0.5, 0.5, 0.5), size=(800, 800))\n\nplot_data_on_vertices(planemesh, vals, ncolors=15, figure=scene)\nvecs = mlab.quiver3d(*tri_centers, *g, color=(1, 1, 1), mode=\"arrow\", scale_factor=5)\nvecs.glyph.glyph_source.glyph_position = \"center\""
      ]
    },
    {
      "cell_type": "markdown",
      "metadata": {},
      "source": [
        "The same but rotated (e.g. current density from a stream function)\n\n"
      ]
    },
    {
      "cell_type": "code",
      "execution_count": null,
      "metadata": {
        "collapsed": false
      },
      "outputs": [],
      "source": [
        "g = gradient(vals, planemesh, rotated=True)\n\n# Plot function and its gradient as arrows\nscene = mlab.figure(None, bgcolor=(1, 1, 1), fgcolor=(0.5, 0.5, 0.5), size=(800, 800))\n\nplot_data_on_vertices(planemesh, vals, ncolors=15, figure=scene)\nvecs = mlab.quiver3d(*tri_centers, *g, color=(1, 1, 1), mode=\"arrow\", scale_factor=5)\nvecs.glyph.glyph_source.glyph_position = \"center\""
      ]
    }
  ],
  "metadata": {
    "kernelspec": {
      "display_name": "Python 3",
      "language": "python",
      "name": "python3"
    },
    "language_info": {
      "codemirror_mode": {
        "name": "ipython",
        "version": 3
      },
      "file_extension": ".py",
      "mimetype": "text/x-python",
      "name": "python",
      "nbconvert_exporter": "python",
      "pygments_lexer": "ipython3",
      "version": "3.7.6"
    }
  },
  "nbformat": 4,
  "nbformat_minor": 0
}