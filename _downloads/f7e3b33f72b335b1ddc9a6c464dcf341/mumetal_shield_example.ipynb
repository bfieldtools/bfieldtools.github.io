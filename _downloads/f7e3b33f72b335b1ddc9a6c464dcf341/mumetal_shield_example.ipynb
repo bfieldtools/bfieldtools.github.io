{
  "cells": [
    {
      "cell_type": "code",
      "execution_count": null,
      "metadata": {
        "collapsed": false
      },
      "outputs": [],
      "source": [
        "%matplotlib inline"
      ]
    },
    {
      "cell_type": "markdown",
      "metadata": {},
      "source": [
        "\nField distortion by a perfect mu-metal shield\n===========================================================\n\n"
      ]
    },
    {
      "cell_type": "code",
      "execution_count": null,
      "metadata": {
        "collapsed": false
      },
      "outputs": [],
      "source": [
        "import numpy as np\nimport trimesh\nfrom mayavi import mlab\n\nfrom bfieldtools.mesh_conductor import MeshConductor, StreamFunction\nfrom bfieldtools.mesh_calculus import gradient\nfrom bfieldtools.utils import load_example_mesh, combine_meshes\n\n# This doesn't matter, the problem is scale-invariant\nscaling_factor = 1\n\n\nplanemesh = load_example_mesh(\"10x10_plane_hires\")\nplanemesh.apply_scale(scaling_factor)\n\n# Specify coil plane geometry\ncenter_offset = np.array([9, 0, 0]) * scaling_factor\nstandoff = np.array([0, 4, 0]) * scaling_factor\n\n# Create coil plane pairs\ncoil_plus = trimesh.Trimesh(\n    planemesh.vertices + center_offset + standoff, planemesh.faces, process=False\n)\n\ncoil_minus = trimesh.Trimesh(\n    planemesh.vertices + center_offset - standoff, planemesh.faces, process=False\n)\n\njoined_planes = combine_meshes((coil_plus, coil_minus))\nplanemesh = joined_planes\n\n# Create mesh class object\ncoil = MeshConductor(mesh_obj=joined_planes, fix_normals=True)\n\n# Separate object for shield geometry\nshieldmesh = load_example_mesh(\"closed_cylinder_remeshed\")\nshieldmesh.apply_scale(15)\n\nshield = MeshConductor(mesh_obj=shieldmesh, process=True, fix_normals=True)"
      ]
    },
    {
      "cell_type": "code",
      "execution_count": null,
      "metadata": {
        "collapsed": false
      },
      "outputs": [],
      "source": [
        "N = 80\npoints = np.zeros((N * N, 3))\nw = 12\nX, Y = np.meshgrid(np.linspace(-w, w, N), np.linspace(-w, w, N), indexing=\"ij\")\nX += planemesh.vertices.mean(axis=0)[0]\nY += planemesh.vertices.mean(axis=0)[1]\npoints[:, 0] = X.flatten()\npoints[:, 1] = Y.flatten()\npoints[:, 2] += planemesh.vertices.mean(axis=0)[2]\n\n\ndef plot_plane():\n    mlab.triangular_mesh(\n        [X.min(), X.max(), X.max(), X.min()],\n        [Y.min(), Y.min(), Y.max(), Y.max()],\n        np.zeros(4),\n        np.array([[0, 1, 2], [2, 3, 0]]),\n        color=(0.1, 0.1, 0.1),\n        opacity=0.6,\n    )"
      ]
    },
    {
      "cell_type": "code",
      "execution_count": null,
      "metadata": {
        "collapsed": false
      },
      "outputs": [],
      "source": [
        "fig = mlab.figure(bgcolor=(1, 1, 1))\ns0 = mlab.triangular_mesh(\n    *shieldmesh.vertices.T, shieldmesh.faces, color=(0.5, 0.5, 0.5), opacity=0.3\n)\ns0.actor.property.backface_culling = False\ns0.actor.property.ambient = 0.5\n\nI_prim = np.load(\"../publication_software/Shielded coil/biplanar_streamfunction.npy\")\nsprim = StreamFunction(coil.vert2inner @ I_prim, coil)\nm = max(abs(sprim))\ns1 = sprim.plot(False, 16, vmin=-m, vmax=m)\ns2 = sprim.plot(True, 20)\ns2.actor.mapper.scalar_visibility = False\ns2.actor.property.line_width = 1.2\n# s2 = mlab.triangular_mesh(*planemesh.vertices.T, planemesh.faces, scalars=I_prim,\n#                          colormap='RdBu')\n# s2.enable_contours = True\n# s2.contour.filled_contours = True\n# s2.contour.number_of_contours = 20\ns2.actor.property.render_lines_as_tubes = True\nplot_plane()\nscene = s0.module_manager\nscene.scene.camera.position = [\n    39.154871143623325,\n    -40.509425675368334,\n    26.56155776567048,\n]\nscene.scene.camera.focal_point = [\n    4.239945673839333,\n    1.041549923485209,\n    -0.0005302515738243585,\n]\nscene.scene.camera.view_angle = 30.0\nscene.scene.camera.view_up = [\n    -0.28276020498745635,\n    0.33658483701858727,\n    0.898196701154387,\n]\nscene.scene.camera.clipping_range = [16.139073445910277, 116.31572537292347]\nscene.scene.camera.compute_view_plane_normal()\nscene.scene.render()"
      ]
    },
    {
      "cell_type": "markdown",
      "metadata": {},
      "source": [
        "%% Calculate primary potential matrix\n Compute slightly inside\n\n"
      ]
    },
    {
      "cell_type": "code",
      "execution_count": null,
      "metadata": {
        "collapsed": false
      },
      "outputs": [],
      "source": [
        "d = 1e-3\nP_prim = coil.U_coupling(shieldmesh.vertices - d * shieldmesh.vertex_normals)"
      ]
    },
    {
      "cell_type": "code",
      "execution_count": null,
      "metadata": {
        "collapsed": false
      },
      "outputs": [],
      "source": [
        "mlab.figure()\ns = mlab.triangular_mesh(\n    *shieldmesh.vertices.T, shieldmesh.faces, scalars=P_prim @ sprim, opacity=1.0\n)\ns.enable_contours = True\ns.contour.filled_contours = True\ns.contour.number_of_contours = 30"
      ]
    },
    {
      "cell_type": "markdown",
      "metadata": {},
      "source": [
        "%% Calculate linear collocation BEM matrix\n\n"
      ]
    },
    {
      "cell_type": "code",
      "execution_count": null,
      "metadata": {
        "collapsed": false
      },
      "outputs": [],
      "source": [
        "P_shield = shield.U_coupling(shieldmesh.vertices - d * shieldmesh.vertex_normals)"
      ]
    },
    {
      "cell_type": "markdown",
      "metadata": {},
      "source": [
        "%% Solve equivalent stream function for the perfect linear mu-metal layer\n\n"
      ]
    },
    {
      "cell_type": "code",
      "execution_count": null,
      "metadata": {
        "collapsed": false
      },
      "outputs": [],
      "source": [
        "I_shield = np.linalg.solve(-P_shield, P_prim @ sprim)\n# I_shield = P_prim @ I_prim\ns_shield = StreamFunction(I_shield, shield)\ng = gradient(s_shield, shieldmesh, rotated=True)"
      ]
    },
    {
      "cell_type": "code",
      "execution_count": null,
      "metadata": {
        "collapsed": false
      },
      "outputs": [],
      "source": [
        "fig = mlab.figure(bgcolor=(1, 1, 1))\ns0 = mlab.triangular_mesh(\n    *shieldmesh.vertices.T, shieldmesh.faces, color=(0.5, 0.5, 0.5), opacity=0.3\n)\ns0.actor.property.backface_culling = False\ns1 = s_shield.plot(False, 256)\n# s1.actor.property.opacity=0.8\ns1.actor.property.backface_culling = False\n# s2 = s_shield.plot(True, 10)\nmlab.quiver3d(\n    *shieldmesh.triangles_center.T,\n    *g,\n    color=(1, 1, 1),\n    mode=\"arrow\",\n    scale_factor=0.0000008,\n    scale_mode=\"vector\"\n)\n# s1.contour.filled_contours = True\n# s1.contour.number_of_contours = 30\n# s2.actor.property.render_lines_as_tubes = True\n# s1.actor.property.ambient = 0.2\n\nscene = s1.module_manager\nplot_plane()\nscene.scene.camera.position = [\n    39.154871143623325,\n    -40.509425675368334,\n    26.56155776567048,\n]\nscene.scene.camera.focal_point = [\n    4.239945673839333,\n    1.041549923485209,\n    -0.0005302515738243585,\n]\nscene.scene.camera.view_angle = 30.0\nscene.scene.camera.view_up = [\n    -0.28276020498745635,\n    0.33658483701858727,\n    0.898196701154387,\n]\nscene.scene.camera.clipping_range = [16.139073445910277, 116.31572537292347]\nscene.scene.camera.compute_view_plane_normal()\nscene.scene.render()"
      ]
    },
    {
      "cell_type": "code",
      "execution_count": null,
      "metadata": {
        "collapsed": false
      },
      "outputs": [],
      "source": [
        "U2_shield = shield.U_coupling(points)\nU2_prim = coil.U_coupling(points)"
      ]
    },
    {
      "cell_type": "code",
      "execution_count": null,
      "metadata": {
        "collapsed": false
      },
      "outputs": [],
      "source": [
        "from bfieldtools.contour import scalar_contour\n\ncc1 = scalar_contour(planemesh, planemesh.vertices[:, 2], contours=[-0.1])\ncc1 = np.vstack(cc1)\ncc1a = cc1[: cc1.shape[0] // 2]\ncc1b = cc1[cc1.shape[0] // 2 :]\ncc2 = scalar_contour(shieldmesh, shieldmesh.vertices[:, 2], contours=[-0.1])\ncc2 = np.vstack(cc2)\ncc2a = cc1[: cc2.shape[0] // 2]\ncc2b = cc1[cc2.shape[0] // 2 :]\n\nimport matplotlib.pyplot as plt\nimport matplotlib.colors as colors\n\n\ndef truncate_colormap(cmap, minval=0.0, maxval=1.0, n=256):\n    new_cmap = colors.LinearSegmentedColormap.from_list(\n        \"trunc({n},{a:.2f},{b:.2f})\".format(n=cmap.name, a=minval, b=maxval),\n        cmap(np.linspace(minval, maxval, n)),\n    )\n    return new_cmap\n\n\ncmap = plt.get_cmap(\"RdBu\")\n# cmap.set_over((0.95,0.95,0.95))\n# cmap.set_under((0.95,0.95,0.95))\n\nu0 = abs(\n    np.sum(U2_shield, axis=1).reshape(N, N)\n)  # Solid angle of the shield, zero outside\nu0 /= u0.max()\nu0[u0 < 1e-6] = 0\nu1 = (U2_prim @ sprim).reshape(N, N)\nu2 = (U2_shield @ I_shield).reshape(N, N) * u0\nu3 = (u1 + u2) * u0\n\nvmax = np.max(abs(u3)) * 0.99\nlevels = np.linspace(-vmax, vmax, 120)\nlevels = np.hstack((-np.max(abs(u3)), levels, np.max(abs(u3))))\np = plt.contourf(\n    X,\n    Y,\n    u1,\n    levels=levels,\n    cmap=cmap,\n    vmin=-vmax,\n    vmax=vmax,\n    norm=colors.SymLogNorm(linthresh=0.2 * vmax, linscale=0.8, vmin=-vmax, vmax=vmax),\n)\nplt.plot(cc1a[:, 0], cc1a[:, 1], linewidth=3, color=\"gray\")\nplt.plot(cc1b[:, 0], cc1b[:, 1], linewidth=3, color=\"gray\")\nplt.axis(\"image\")\nplt.axis(\"off\")\nxlims = p.ax.get_xlim()\nplt.figure()\np = plt.contourf(\n    X,\n    Y,\n    u2,\n    levels=levels,\n    cmap=cmap,\n    vmin=-vmax,\n    vmax=vmax,\n    norm=colors.SymLogNorm(linthresh=0.2 * vmax, linscale=0.8, vmin=-vmax, vmax=vmax),\n)\nplt.plot(cc1a[:, 0], cc1a[:, 1], linewidth=3, color=\"gray\")\nplt.plot(cc1b[:, 0], cc1b[:, 1], linewidth=3, color=\"gray\")\nplt.plot(cc2[:, 0], cc2[:, 1], linewidth=3, color=\"gray\")\nplt.axis(\"image\")\nplt.axis(\"off\")\np.ax.set_xlim(xlims)\nplt.figure()\np = plt.contourf(\n    X,\n    Y,\n    u3,\n    levels=levels,\n    cmap=cmap,\n    vmin=-vmax,\n    vmax=vmax,\n    norm=colors.SymLogNorm(linthresh=0.2 * vmax, linscale=0.8, vmin=-vmax, vmax=vmax),\n)\nplt.plot(cc1a[:, 0], cc1a[:, 1], linewidth=3, color=\"gray\")\nplt.plot(cc1b[:, 0], cc1b[:, 1], linewidth=3, color=\"gray\")\nplt.plot(cc2[:, 0], cc2[:, 1], linewidth=3, color=\"gray\")\nplt.axis(\"image\")\nplt.axis(\"off\")\np.ax.set_xlim(xlims)"
      ]
    }
  ],
  "metadata": {
    "kernelspec": {
      "display_name": "Python 3",
      "language": "python",
      "name": "python3"
    },
    "language_info": {
      "codemirror_mode": {
        "name": "ipython",
        "version": 3
      },
      "file_extension": ".py",
      "mimetype": "text/x-python",
      "name": "python",
      "nbconvert_exporter": "python",
      "pygments_lexer": "ipython3",
      "version": "3.6.7"
    }
  },
  "nbformat": 4,
  "nbformat_minor": 0
}