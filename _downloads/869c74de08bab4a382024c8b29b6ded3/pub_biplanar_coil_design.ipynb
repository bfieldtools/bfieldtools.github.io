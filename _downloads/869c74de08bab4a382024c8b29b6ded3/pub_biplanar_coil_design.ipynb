{
  "cells": [
    {
      "cell_type": "code",
      "execution_count": null,
      "metadata": {
        "collapsed": false
      },
      "outputs": [],
      "source": [
        "%matplotlib inline"
      ]
    },
    {
      "cell_type": "markdown",
      "metadata": {},
      "source": [
        "\nBiplanar coil design\n====================\n\nFirst example in the paper, showing a basic biplanar coil producing homogeneous field in a target\nregion between the two coil planes.\n"
      ]
    },
    {
      "cell_type": "code",
      "execution_count": null,
      "metadata": {
        "collapsed": false
      },
      "outputs": [],
      "source": [
        "PLOT = True\nSAVE_FIGURES = False\n\nSAVE_DIR = \"./Biplanar coil/\"\n\n\nimport numpy as np\nfrom mayavi import mlab\nimport trimesh\n\nfrom bfieldtools.mesh_conductor import MeshConductor\nfrom bfieldtools.coil_optimize import optimize_streamfunctions\nfrom bfieldtools.contour import scalar_contour\nfrom bfieldtools.viz import plot_3d_current_loops\nfrom bfieldtools.utils import load_example_mesh, combine_meshes\n\n\n# Set unit, e.g. meter or millimeter.\n# This doesn't matter, the problem is scale-invariant\nscaling_factor = 1\n\n\n# Load simple plane mesh that is centered on the origin\nplanemesh = load_example_mesh(\"10x10_plane_hires\")\n\nplanemesh.apply_scale(scaling_factor * 1.6)\n\n# Specify coil plane geometry\ncenter_offset = np.array([0, 0, 0]) * scaling_factor\nstandoff = np.array([0, 5, 0]) * scaling_factor\n\n# Create coil plane pairs\ncoil_plus = trimesh.Trimesh(\n    planemesh.vertices + center_offset + standoff, planemesh.faces, process=False\n)\n\ncoil_minus = trimesh.Trimesh(\n    planemesh.vertices + center_offset - standoff, planemesh.faces, process=False\n)\n\njoined_planes = combine_meshes((coil_plus, coil_minus))\n\njoined_planes = joined_planes.subdivide()\n\n# Create mesh class object\ncoil = MeshConductor(\n    verts=joined_planes.vertices,\n    tris=joined_planes.faces,\n    fix_normals=True,\n    basis_name=\"suh\",\n    N_suh=100,\n)"
      ]
    },
    {
      "cell_type": "markdown",
      "metadata": {},
      "source": [
        "Set up target and stray field points\n\n"
      ]
    },
    {
      "cell_type": "code",
      "execution_count": null,
      "metadata": {
        "collapsed": false
      },
      "outputs": [],
      "source": [
        "# Here, the target points are on a volumetric grid within a sphere\n\ncenter = np.array([0, 0, 0]) * scaling_factor\n\nsidelength = 3 * scaling_factor\nn = 8\nxx = np.linspace(-sidelength / 2, sidelength / 2, n)\nyy = np.linspace(-sidelength / 2, sidelength / 2, n)\nzz = np.linspace(-sidelength / 2, sidelength / 2, n)\nX, Y, Z = np.meshgrid(xx, yy, zz, indexing=\"ij\")\n\nx = X.ravel()\ny = Y.ravel()\nz = Z.ravel()\n\ntarget_points = np.array([x, y, z]).T\n\n# Turn cube into sphere by rejecting points \"in the corners\"\ntarget_points = (\n    target_points[np.linalg.norm(target_points, axis=1) < sidelength / 2] + center\n)\n\n\n#    #Here, the stray field points are on a spherical surface\nstray_radius = 20 * scaling_factor\n\nstray_points_mesh = trimesh.creation.icosphere(subdivisions=3, radius=stray_radius)\nstray_points = stray_points_mesh.vertices + center\n\nn_stray_points = len(stray_points)"
      ]
    },
    {
      "cell_type": "markdown",
      "metadata": {},
      "source": [
        "Plot geometry\n\n"
      ]
    },
    {
      "cell_type": "code",
      "execution_count": null,
      "metadata": {
        "collapsed": false
      },
      "outputs": [],
      "source": [
        "if PLOT:\n    f = mlab.figure(None, bgcolor=(1, 1, 1), fgcolor=(0.5, 0.5, 0.5), size=(800, 800))\n\n    coil.plot_mesh(representation=\"wireframe\", opacity=0.1, color=(0, 0, 0), figure=f)\n    coil.plot_mesh(representation=\"surface\", opacity=0.1, color=(0, 0, 0), figure=f)\n    mlab.points3d(*target_points.T, color=(0, 0, 1))\n    mlab.points3d(*stray_points.T, scale_factor=0.3, color=(1, 0, 0))\n\n    f.scene.isometric_view()\n    f.scene.camera.zoom(1.5)\n\n    if SAVE_FIGURES:\n        mlab.savefig(\n            SAVE_DIR + \"biplanar_geometry.png\", figure=f, magnification=4,\n        )\n        mlab.close()"
      ]
    },
    {
      "cell_type": "markdown",
      "metadata": {},
      "source": [
        "Create bfield specifications used when optimizing the coil geometry\n\n"
      ]
    },
    {
      "cell_type": "code",
      "execution_count": null,
      "metadata": {
        "collapsed": false
      },
      "outputs": [],
      "source": [
        "# The absolute target field amplitude is not of importance,\n# and it is scaled to match the C matrix in the optimization function\n\ntarget_field = np.zeros(target_points.shape)\ntarget_field[:, 0] += 1  # Homogeneous field on X-axis\n\n\ntarget_spec = {\n    \"coupling\": coil.B_coupling(target_points),\n    \"abs_error\": 0.005,\n    \"target\": target_field,\n}\nstray_spec = {\n    \"coupling\": coil.B_coupling(stray_points),\n    \"abs_error\": 0.01,\n    \"target\": np.zeros((n_stray_points, 3)),\n}\n\nbfield_specification = [target_spec, stray_spec]"
      ]
    },
    {
      "cell_type": "markdown",
      "metadata": {},
      "source": [
        "Run QP solver\n\n"
      ]
    },
    {
      "cell_type": "code",
      "execution_count": null,
      "metadata": {
        "collapsed": false
      },
      "outputs": [],
      "source": [
        "import mosek\n\ncoil.s, prob = optimize_streamfunctions(\n    coil,\n    [target_spec, stray_spec],\n    objective=(0, 1),\n    solver=\"MOSEK\",\n    solver_opts={\"mosek_params\": {mosek.iparam.num_threads: 8}},\n)"
      ]
    },
    {
      "cell_type": "markdown",
      "metadata": {},
      "source": [
        "Plot coil windings and target points\n\n"
      ]
    },
    {
      "cell_type": "code",
      "execution_count": null,
      "metadata": {
        "collapsed": false
      },
      "outputs": [],
      "source": [
        "N_contours = 6\n\nloops = scalar_contour(coil.mesh, coil.s.vert, N_contours=N_contours)\n\nif PLOT:\n    f = mlab.figure(None, bgcolor=(1, 1, 1), fgcolor=(0.5, 0.5, 0.5), size=(650, 750))\n    mlab.clf()\n\n    plot_3d_current_loops(loops, colors=\"auto\", figure=f)\n\n    # B_target = coil.B_coupling(target_points) @ coil.s\n\n    # mlab.quiver3d(*target_points.T, *B_target.T, mode=\"arrow\", scale_factor=1)\n\n    f.scene.isometric_view()\n    #    f.scene.camera.zoom(0.95)\n    if SAVE_FIGURES:\n        mlab.savefig(\n            SAVE_DIR + \"biplanar_loops.png\", figure=f, magnification=4,\n        )\n\n        mlab.close()"
      ]
    },
    {
      "cell_type": "markdown",
      "metadata": {},
      "source": [
        "Plot continuous stream function\n\n"
      ]
    },
    {
      "cell_type": "code",
      "execution_count": null,
      "metadata": {
        "collapsed": false
      },
      "outputs": [],
      "source": [
        "if PLOT:\n    from bfieldtools.viz import plot_data_on_vertices\n\n    f = mlab.figure(None, bgcolor=(1, 1, 1), fgcolor=(0.5, 0.5, 0.5), size=(800, 800))\n    mlab.clf()\n\n    plot_data_on_vertices(coil.mesh, coil.s.vert, figure=f, ncolors=256)\n\n    f.scene.camera.parallel_projection = 1\n    mlab.view(90, 90)\n    f.scene.camera.zoom(1.5)\n\n    if SAVE_FIGURES:\n        mlab.savefig(\n            SAVE_DIR + \"biplanar_streamfunction.png\", figure=f, magnification=4,\n        )\n\n        mlab.close()"
      ]
    }
  ],
  "metadata": {
    "kernelspec": {
      "display_name": "Python 3",
      "language": "python",
      "name": "python3"
    },
    "language_info": {
      "codemirror_mode": {
        "name": "ipython",
        "version": 3
      },
      "file_extension": ".py",
      "mimetype": "text/x-python",
      "name": "python",
      "nbconvert_exporter": "python",
      "pygments_lexer": "ipython3",
      "version": "3.7.6"
    }
  },
  "nbformat": 4,
  "nbformat_minor": 0
}