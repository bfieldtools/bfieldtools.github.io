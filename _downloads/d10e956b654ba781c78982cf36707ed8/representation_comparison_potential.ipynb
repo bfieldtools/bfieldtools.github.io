{
  "cells": [
    {
      "cell_type": "code",
      "execution_count": null,
      "metadata": {
        "collapsed": false
      },
      "outputs": [],
      "source": [
        "%matplotlib inline"
      ]
    },
    {
      "cell_type": "markdown",
      "metadata": {},
      "source": [
        "\nCompare SUH and SPH basis functions for the magnetic scalar potential\n======================================================================\n"
      ]
    },
    {
      "cell_type": "code",
      "execution_count": null,
      "metadata": {
        "collapsed": false
      },
      "outputs": [],
      "source": [
        "import numpy as np\nimport matplotlib.pyplot as plt\nfrom mayavi import mlab\nimport trimesh\nimport pkg_resources\nfrom pyface.api import GUI\n\n_gui = GUI()\n\n\nfrom bfieldtools.mesh_magnetics import magnetic_field_coupling\nfrom bfieldtools.mesh_magnetics import magnetic_field_coupling_analytic\nfrom bfieldtools.mesh_magnetics import scalar_potential_coupling\nfrom bfieldtools.sphtools import compute_sphcoeffs_mesh, basis_fields\nfrom bfieldtools.suhtools import SuhBasis\nfrom bfieldtools.utils import load_example_mesh\n\n\nmesh = load_example_mesh(\"bunny_repaired\", process=True)\n\nmesh.vertices -= mesh.vertices.mean(axis=0)\n\nmesh_field = mesh.copy()\nmesh_field.vertices += 0.001 * mesh_field.vertex_normals\n# mesh_field = trimesh.smoothing.filter_laplacian(mesh_field, iterations=1)\n\n# Ca, Cb = basis_fields(mesh_field.vertices, 4)\n\n# bsuh = SuhBasis(mesh, 25)\n# Csuh = magnetic_field_coupling_analytic(mesh, mesh_field.vertices) @ bsuh.basis"
      ]
    },
    {
      "cell_type": "markdown",
      "metadata": {},
      "source": [
        "def plot_basis_fields(C, comps):\n    d = 0.17\n    i = 0\n    j = 0\n    for n in comps:\n        p = 1.05 * mesh_field.vertices.copy()\n        p2 = mesh_field.vertices.copy()\n        #        p[:,1] -= i*d\n        #        p2[:,1] -= i*d\n        p[:, 0] += i * d\n        p2[:, 0] += i * d\n        m = np.max(np.linalg.norm(C[:, :, n], axis=0))\n        vectors = mlab.quiver3d(\n            *p.T, *C[:, :, n].T, mode=\"arrow\", colormap=\"Greys\", vmin=0, vmax=m\n        )\n        vectors.glyph.mask_input_points = True\n        vectors.glyph.mask_points.maximum_number_of_points = 1800\n        vectors.glyph.mask_points.random_mode_type = 1\n        vectors.glyph.glyph_source.glyph_position = \"center\"\n        vectors.glyph.glyph_source.glyph_source.shaft_radius = 0.02\n        vectors.glyph.glyph_source.glyph_source.tip_radius = 0.06\n        vectors.glyph.glyph.scale_factor = 0.03\n        #        m = np.max(abs((C[:,:,n].T*mesh_field.vertex_normals.T).sum(axis=0)))\n        #        s =mlab.triangular_mesh(*p.T, mesh_field.faces,\n        #                             scalars=(C[:,:,n].T*mesh_field.vertex_normals.T).sum(axis=0),\n        #                             colormap='seismic', vmin=-m, vmax=m, opacity=0.7)\n        #        s.actor.property.backface_culling = True\n        m = np.max(abs((C[:, :, n].T * mesh_field.vertex_normals.T).sum(axis=0)))\n        s = mlab.triangular_mesh(\n            *p2.T,\n            mesh.faces,\n            scalars=(C[:, :, n].T * mesh_field.vertex_normals.T).sum(axis=0),\n            colormap=\"bwr\",\n            vmin=-m,\n            vmax=m\n        )\n        s.actor.mapper.interpolate_scalars_before_mapping = True\n        s.module_manager.scalar_lut_manager.number_of_colors = 15\n        i += 1\n\n"
      ]
    },
    {
      "cell_type": "code",
      "execution_count": null,
      "metadata": {
        "collapsed": false
      },
      "outputs": [],
      "source": [
        "# comps = [0, 4, 10, 15]\n# scene = mlab.figure(bgcolor=(1, 1, 1), size=(1200, 350))\n# plot_basis_fields(Ca, comps)\n# scene.scene.parallel_projection = True\n# scene.scene.z_plus_view()\n# scene.scene.camera.zoom(4)\n# while scene.scene.light_manager is None:\n#     _gui.process_events()\n# scene.scene.light_manager.lights[2].intensity = 0.2\n\n\n# scene = mlab.figure(bgcolor=(1, 1, 1), size=(1200, 350))\n# plot_basis_fields(Csuh, comps)\n# scene.scene.parallel_projection = True\n# scene.scene.z_plus_view()\n# scene.scene.camera.zoom(4)\n# while scene.scene.light_manager is None:\n#     _gui.process_events()\n# scene.scene.light_manager.lights[2].intensity = 0.2"
      ]
    },
    {
      "cell_type": "code",
      "execution_count": null,
      "metadata": {
        "collapsed": false
      },
      "outputs": [],
      "source": [
        "from bfieldtools.mesh_magnetics import scalar_potential_coupling\nfrom bfieldtools.sphtools import basis_potentials\n\nscaling_factor = 0.02\n# Load simple plane mesh that is centered on the origin\nplane = load_example_mesh(\"10x10_plane_hires\")\nplane.apply_scale(scaling_factor)\n# Rotate to x-plane\nt = np.eye(4)\nt[1:3, 1:3] = np.array([[0, 1], [-1, 0]])\nplane.apply_transform(t)\n# Subdivide face close to the mesh\nfrom trimesh.proximity import signed_distance\n\ndd = signed_distance(mesh, plane.triangles_center)\nplane = plane.subdivide(np.flatnonzero(abs(dd) < 0.005))\ndd = signed_distance(mesh, plane.triangles_center)\nplane = plane.subdivide(np.flatnonzero(abs(dd) < 0.002))\n\nUB = scalar_potential_coupling(mesh, plane.vertices, multiply_coeff=False)\nmask = np.sum(UB, axis=1)\nmask = mask > -0.5\n\nUa, Ub = basis_potentials(plane.vertices, 6)\nbsuh = SuhBasis(mesh, 48)\n# UB = scalar_potential_coupling(mesh, plane.vertices)\nUsuh = UB @ bsuh.basis\n\nsphere = trimesh.creation.icosphere(radius=0.02)\nUa_mesh, Ub_mesh = basis_potentials(sphere.vertices, 5)\nUB_mesh = scalar_potential_coupling(mesh, mesh_field.vertices)\nUsuh_mesh = UB_mesh @ bsuh.basis"
      ]
    },
    {
      "cell_type": "code",
      "execution_count": null,
      "metadata": {
        "collapsed": false
      },
      "outputs": [],
      "source": [
        "comps = [0, 5, 13, 17]\nd = 0.22\nfrom bfieldtools.viz import plot_data_on_vertices\nfrom bfieldtools.viz import plot_mesh\n\n# Plot suh\ni = 0\nfig = mlab.figure(bgcolor=(1, 1, 1), size=(600, 190))\nfor n in comps:\n    p = plane.copy()\n    p.vertices[:, 0] += i * d\n    p2 = mesh_field.copy()\n    p2.vertices[:, 0] += i * d\n    scalars = Usuh[:, n].copy()\n    scalars[~mask] = 0\n    scalars2 = bsuh.basis[:, n]\n    m = np.max(abs(scalars))\n    m2 = np.max(abs(scalars2))\n    plot_data_on_vertices(p, scalars, figure=fig, ncolors=15, vmax=m, colormap=\"bwr\")\n    plot_data_on_vertices(\n        p2, scalars2, figure=fig, ncolors=15, vmax=m2, colormap=\"BrBG\"\n    )\n    i += 1\nfig.scene.parallel_projection = True\nfig.scene.z_plus_view()\nfig.scene.camera.parallel_scale = 0.11"
      ]
    },
    {
      "cell_type": "code",
      "execution_count": null,
      "metadata": {
        "collapsed": false
      },
      "outputs": [],
      "source": [
        "i = 0\nfig = mlab.figure(bgcolor=(1, 1, 1), size=(600, 190))\nfor n in comps:\n    p = plane.copy()\n    p.vertices[:, 0] += i * d\n    p2 = sphere.copy()\n    p2.vertices[:, 0] += i * d\n    scalars = Ua[:, n].copy()\n    scalars[~mask] = 0\n    scalars2 = Ua_mesh[:, n]\n    m = np.max(abs(scalars))\n    m2 = np.max(abs(scalars2))\n    plot_data_on_vertices(p, scalars, figure=fig, ncolors=15, vmax=m, colormap=\"bwr\")\n    plot_data_on_vertices(\n        p2, scalars2, figure=fig, ncolors=15, vmax=m2, colormap=\"BrBG\"\n    )\n    p3 = mesh.copy()\n    p3.vertices[:, 0] += i * d\n    plot_mesh(p3, opacity=0.3, figure=fig)\n    i += 1\nfig.scene.parallel_projection = True\nfig.scene.z_plus_view()\nfig.scene.camera.parallel_scale = 0.11"
      ]
    }
  ],
  "metadata": {
    "kernelspec": {
      "display_name": "Python 3",
      "language": "python",
      "name": "python3"
    },
    "language_info": {
      "codemirror_mode": {
        "name": "ipython",
        "version": 3
      },
      "file_extension": ".py",
      "mimetype": "text/x-python",
      "name": "python",
      "nbconvert_exporter": "python",
      "pygments_lexer": "ipython3",
      "version": "3.7.6"
    }
  },
  "nbformat": 4,
  "nbformat_minor": 0
}