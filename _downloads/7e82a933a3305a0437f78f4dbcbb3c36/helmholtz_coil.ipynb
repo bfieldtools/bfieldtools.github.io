{
  "cells": [
    {
      "cell_type": "code",
      "execution_count": null,
      "metadata": {
        "collapsed": false
      },
      "outputs": [],
      "source": [
        "%matplotlib inline"
      ]
    },
    {
      "cell_type": "markdown",
      "metadata": {},
      "source": [
        "\nField of a Helmholtz coils pair \n==========================================================\n\nExample on how to compute the magnetic field from current line segments forming a Helmholtz coil pair.\n\nVisualization of the 3D field using Mayavi\n\n"
      ]
    },
    {
      "cell_type": "code",
      "execution_count": null,
      "metadata": {
        "collapsed": false
      },
      "outputs": [],
      "source": [
        "from mayavi import mlab\nimport matplotlib.pyplot as plt\nimport numpy as np\n\nfrom bfieldtools.utils import cylinder_points\nfrom bfieldtools.line_magnetics import magnetic_field\n\n# Create helmholtz coil with radius R\nR = 5\n\nc_points = cylinder_points(\n    radius=R, length=0, nlength=1, nalpha=100, orientation=np.array([0, 1, 0])\n)\nc_points[:, 1] = 0\nc_points = np.vstack((c_points, c_points[0, :]))\n\n\nc1_points = c_points - np.array([0, R / 2, 0])\nc2_points = c_points + np.array([0, R / 2, 0])\n\nmlab.figure(bgcolor=(1, 1, 1))\nmlab.plot3d(*c1_points.T)\nmlab.plot3d(*c2_points.T)\n\nbox = 3 * R\nn = 50\n\nxx = np.linspace(-box, box, n)\nyy = np.linspace(-box, box, n)\nzz = np.linspace(-box, box, n)\nX, Y, Z = np.meshgrid(xx, yy, zz, indexing=\"ij\")\n\nx = X.ravel()\ny = Y.ravel()\nz = Z.ravel()\n\nb_points = np.array([x, y, z]).T\n\nB = np.zeros(b_points.shape)\n\nB += magnetic_field(c1_points, b_points)\nB += magnetic_field(c2_points, b_points)\n\n\nB_matrix = B.reshape((n, n, n, 3))\n\nB_matrix_norm = np.linalg.norm(B_matrix, axis=-1)"
      ]
    },
    {
      "cell_type": "code",
      "execution_count": null,
      "metadata": {
        "collapsed": false
      },
      "outputs": [],
      "source": [
        "mlab.figure(bgcolor=(1, 1, 1))\n\nfield = mlab.pipeline.vector_field(\n    X,\n    Y,\n    Z,\n    B_matrix[:, :, :, 0],\n    B_matrix[:, :, :, 1],\n    B_matrix[:, :, :, 2],\n    scalars=B_matrix_norm,\n    name=\"B-field\",\n)\n\nvectors = mlab.pipeline.vectors(field, scale_factor=(X[1, 0, 0] - X[0, 0, 0]),)\n\n\nvectors.glyph.mask_input_points = True\nvectors.glyph.mask_points.on_ratio = 2\n\nvcp = mlab.pipeline.vector_cut_plane(field)\nvcp.glyph.glyph.scale_factor = 10 * (X[1, 0, 0] - X[0, 0, 0])\n# For prettier picture:\nvcp.implicit_plane.widget.enabled = True\n\niso = mlab.pipeline.iso_surface(field, contours=10, opacity=0.2, colormap=\"viridis\")\n\n\n# A trick to make transparency look better: cull the front face\niso.actor.property.frontface_culling = True\n\n# Settings\niso.contour.maximum_contour = 1e-07\nvcp.implicit_plane.widget.normal_to_y_axis = True"
      ]
    },
    {
      "cell_type": "code",
      "execution_count": null,
      "metadata": {
        "collapsed": false
      },
      "outputs": [],
      "source": [
        "plt.figure()\n\nz1 = np.linspace(0, 30, 31)\n\nx1 = y1 = np.zeros_like(z1)\n\nline1_points = np.vstack((x1, y1, z1)).T\n\n\nBh_line1 = magnetic_field(c1_points, line1_points) + magnetic_field(\n    c2_points, line1_points\n)\n\nplt.semilogy(\n    z1,\n    np.linalg.norm(Bh_line1, axis=1) / np.linalg.norm(Bh_line1, axis=1)[0],\n    label=\"Helmholtz, z-axis\",\n)\n\n\ny2 = np.linspace(0, 30, 31)\n\nz2 = x2 = np.zeros_like(y2)\n\nline2_points = np.vstack((x2, y2, z2)).T\n\nBh_line2 = magnetic_field(c1_points, line2_points) + magnetic_field(\n    c2_points, line2_points\n)\n\n\nplt.semilogy(\n    y2,\n    np.linalg.norm(Bh_line2, axis=1) / np.linalg.norm(Bh_line2, axis=1)[0],\n    label=\"Helmholtz, y-axis\",\n)\nplt.ylabel(\"Field amplitude (target field units)\")\nplt.xlabel(\"Distance from origin\")\nplt.grid(True, which=\"minor\", axis=\"y\")\nplt.grid(True, which=\"major\", axis=\"y\", color=\"k\")\nplt.grid(True, which=\"major\", axis=\"x\")\n\nplt.legend()"
      ]
    }
  ],
  "metadata": {
    "kernelspec": {
      "display_name": "Python 3",
      "language": "python",
      "name": "python3"
    },
    "language_info": {
      "codemirror_mode": {
        "name": "ipython",
        "version": 3
      },
      "file_extension": ".py",
      "mimetype": "text/x-python",
      "name": "python",
      "nbconvert_exporter": "python",
      "pygments_lexer": "ipython3",
      "version": "3.6.7"
    }
  },
  "nbformat": 4,
  "nbformat_minor": 0
}