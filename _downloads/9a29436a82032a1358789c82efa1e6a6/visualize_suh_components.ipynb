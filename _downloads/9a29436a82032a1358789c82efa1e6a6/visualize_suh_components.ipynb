{
  "cells": [
    {
      "cell_type": "code",
      "execution_count": null,
      "metadata": {
        "collapsed": false
      },
      "outputs": [],
      "source": [
        "%matplotlib inline"
      ]
    },
    {
      "cell_type": "markdown",
      "metadata": {},
      "source": [
        "\nVisualize SUH components on 3 surfaces\n=====================================================\n"
      ]
    },
    {
      "cell_type": "code",
      "execution_count": null,
      "metadata": {
        "collapsed": false
      },
      "outputs": [],
      "source": [
        "import numpy as np\nimport matplotlib.pyplot as plt\nfrom mayavi import mlab\nimport trimesh\n\nfrom bfieldtools.suhtools import SuhBasis\nfrom bfieldtools.utils import find_mesh_boundaries\n\nfrom trimesh.creation import icosphere\nfrom bfieldtools.utils import load_example_mesh\n\n# Import meshes\n\n# Sphere\nsphere = icosphere(4, 0.1)\n\n# Plane mesh centered on the origin\nplane = load_example_mesh(\"10x10_plane_hires\")\nscaling_factor = 0.02\nplane.apply_scale(scaling_factor)\n# Rotate to x-plane\nt = np.eye(4)\nt[1:3, 1:3] = np.array([[0, 1], [-1, 0]])\nplane.apply_transform(t)\n\n# Bunny\nbunny = load_example_mesh(\"bunny_repaired\")\nbunny.vertices -= bunny.vertices.mean(axis=0)\n\nfor mesh in (sphere, plane, bunny):\n    mlab.triangular_mesh(*mesh.vertices.T, mesh.faces)\n\n\nNc = 20\nbasis_sphere = SuhBasis(sphere, Nc)\nbasis_plane = SuhBasis(plane, Nc)\nbasis_bunny = SuhBasis(bunny, Nc)\n\n\nA = [mesh.area for mesh in (bunny, sphere, plane)]"
      ]
    },
    {
      "cell_type": "code",
      "execution_count": null,
      "metadata": {
        "collapsed": false
      },
      "outputs": [],
      "source": [
        "Nfuncs = [0, 1, 2, 3, 4, 5]\nkwargs = {\"colormap\": \"RdBu\", \"ncolors\": 15}\nplt.figure(figsize=(3.5, 2.5))\nfor i, b in enumerate((basis_bunny, basis_sphere, basis_plane)):\n    fig = mlab.figure(bgcolor=(1, 1, 1), size=(550, 150))\n    s = b.plot(Nfuncs, 0.1, Ncols=6, figure=fig, **kwargs)\n    s[0].scene.parallel_projection = True\n    s[0].scene.z_plus_view()\n    if i == 0:\n        s[0].scene.camera.parallel_scale = 0.1\n    else:\n        s[0].scene.camera.parallel_scale = 0.13\n    plt.plot(np.sqrt(b.eigenvals * A[i]), \".-\")\n\nplt.legend((\"bunny\", \"sphere\", \"square\"), loc=\"lower right\")\nplt.xlabel(\"component index $n$\")\nplt.ylabel(\"$\\sqrt{A}k_n$\")\nplt.tight_layout()"
      ]
    }
  ],
  "metadata": {
    "kernelspec": {
      "display_name": "Python 3",
      "language": "python",
      "name": "python3"
    },
    "language_info": {
      "codemirror_mode": {
        "name": "ipython",
        "version": 3
      },
      "file_extension": ".py",
      "mimetype": "text/x-python",
      "name": "python",
      "nbconvert_exporter": "python",
      "pygments_lexer": "ipython3",
      "version": "3.7.6"
    }
  },
  "nbformat": 4,
  "nbformat_minor": 0
}