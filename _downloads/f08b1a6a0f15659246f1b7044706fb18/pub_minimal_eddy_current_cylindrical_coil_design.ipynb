{
  "cells": [
    {
      "cell_type": "code",
      "execution_count": null,
      "metadata": {
        "collapsed": false
      },
      "outputs": [],
      "source": [
        "%matplotlib inline"
      ]
    },
    {
      "cell_type": "markdown",
      "metadata": {},
      "source": [
        "\nCoil with minimal eddy currents\n===============================\nCompact example of design of a cylindrical coil surrounded by a RF shield, i.e. a conductive surface.\nThe effects of eddy currents due to inductive interaction with the shield is minimized\n"
      ]
    },
    {
      "cell_type": "code",
      "execution_count": null,
      "metadata": {
        "collapsed": false
      },
      "outputs": [],
      "source": [
        "PLOT = True\nSAVE_FIGURES = False\nSAVE_PATH = \"./Minimal eddy current coil/\"\n\n\nimport numpy as np\nfrom mayavi import mlab\nimport trimesh\n\n\nfrom bfieldtools.mesh_conductor import MeshConductor\n\nfrom bfieldtools.coil_optimize import optimize_streamfunctions\nfrom bfieldtools.contour import scalar_contour\nfrom bfieldtools.viz import plot_3d_current_loops, plot_data_on_vertices\n\nimport pkg_resources\n\nfrom pyface.api import GUI\n\n_gui = GUI()\n\n\n# Set unit, e.g. meter or millimeter.\n# This doesn't matter, the problem is scale-invariant\nscaling_factor = 1\n\n\n# Load example coil mesh that is centered on the origin\ncoilmesh = trimesh.load(\n    file_obj=pkg_resources.resource_filename(\n        \"bfieldtools\", \"example_meshes/open_cylinder.stl\"\n    ),\n    process=True,\n)\n\nangle = np.pi / 2\nrotation_matrix = np.array(\n    [\n        [np.cos(angle), 0, np.sin(angle), 0],\n        [0, 1, 0, 0],\n        [-np.sin(angle), 0, np.cos(angle), 0],\n        [0, 0, 0, 1],\n    ]\n)\n\ncoilmesh.apply_transform(rotation_matrix)\n\ncoilmesh1 = coilmesh.copy()\n# coilmesh1.apply_scale(1.3)\n\ncoilmesh2 = coilmesh.copy()\n\n# coilmesh1 = coilmesh.union(coilmesh1)\n# coilmesh1 = coilmesh1.subdivide().subdivide()\n# coilmesh2 = coilmesh.subdivide()\n\n\n# Create mesh class object\ncoil = MeshConductor(\n    verts=coilmesh1.vertices * 0.75,\n    tris=coilmesh1.faces,\n    fix_normals=True,\n    basis_name=\"suh\",\n    N_suh=400,\n)\n\n\ndef alu_sigma(T):\n    ref_T = 293  # K\n    ref_rho = 2.82e-8  # ohm*meter\n    alpha = 0.0039  # 1/K\n\n    rho = alpha * (T - ref_T) * ref_rho + ref_rho\n\n    return 1 / rho\n\n\nresistivity = 1 / alu_sigma(T=293)  # room-temp Aluminium\nthickness = 0.5e-3  # 0.5 mm thick\n\n\n# Separate object for shield geometry\nshield = MeshConductor(\n    verts=coilmesh2.vertices.copy() * 1.1,\n    tris=coilmesh2.faces.copy(),\n    fix_normals=True,\n    basis_name=\"inner\",\n    resistivity=resistivity,\n    thickness=thickness,\n)\n# shield.mesh.vertices[:,2] -= 3\n# shield.mesh.vertices *= np.array([1.2, 1.2, 1.2])\n#\n# angle = np.pi/2\n# rotation_matrix = np.array([[np.cos(angle), 0, np.sin(angle), 0],\n#                              [0, 1, 0, 0],\n#                              [-np.sin(angle), 0, np.cos(angle), 0],\n#                              [0, 0, 0, 1]\n#                              ])\n#\n# shield.mesh.apply_transform(rotation_matrix)\n#\n# shield.mesh = shield.mesh.subdivide()"
      ]
    },
    {
      "cell_type": "markdown",
      "metadata": {},
      "source": [
        "Set up target  points and plot geometry\n\n"
      ]
    },
    {
      "cell_type": "code",
      "execution_count": null,
      "metadata": {
        "collapsed": false
      },
      "outputs": [],
      "source": [
        "# Here, the target points are on a volumetric grid within a sphere\n\ncenter = np.array([0, 0, 0])\n\nsidelength = 0.25 * scaling_factor\nn = 12\nxx = np.linspace(-sidelength / 2, sidelength / 2, n)\nyy = np.linspace(-sidelength / 2, sidelength / 2, n)\nzz = np.linspace(-sidelength / 2, sidelength / 2, n)\nX, Y, Z = np.meshgrid(xx, yy, zz, indexing=\"ij\")\n\nx = X.ravel()\ny = Y.ravel()\nz = Z.ravel()\n\ntarget_points = np.array([x, y, z]).T\n\n# Turn cube into sphere by rejecting points \"in the corners\"\ntarget_points = (\n    target_points[np.linalg.norm(target_points, axis=1) < sidelength / 2] + center\n)\n\n\n# Plot coil, shield and target points\nif PLOT:\n    f = mlab.figure(None, bgcolor=(1, 1, 1), fgcolor=(0.5, 0.5, 0.5), size=(800, 800))\n    coil.plot_mesh(figure=f, opacity=0.2)\n    shield.plot_mesh(figure=f, opacity=0.2)\n    mlab.points3d(*target_points.T)"
      ]
    },
    {
      "cell_type": "markdown",
      "metadata": {},
      "source": [
        "Compute C matrices that are used to compute the generated magnetic field\n\n"
      ]
    },
    {
      "cell_type": "code",
      "execution_count": null,
      "metadata": {
        "collapsed": false
      },
      "outputs": [],
      "source": [
        "mutual_inductance = coil.mutual_inductance(shield)\n\n# Take into account the field produced by currents induced into the shield\n# NB! This expression is for instantaneous step-function switching of coil current, see Eq. 18 in G.N. Peeren, 2003.\n\nshield.M_coupling = np.linalg.solve(-shield.inductance, mutual_inductance.T)\nsecondary_C = shield.B_coupling(target_points) @ -shield.M_coupling"
      ]
    },
    {
      "cell_type": "markdown",
      "metadata": {},
      "source": [
        "Create bfield specifications used when optimizing the coil geometry\n\n"
      ]
    },
    {
      "cell_type": "code",
      "execution_count": null,
      "metadata": {
        "collapsed": false
      },
      "outputs": [],
      "source": [
        "# The absolute target field amplitude is not of importance,\n# and it is scaled to match the C matrix in the optimization function\n\ntarget_field = np.zeros(target_points.shape)\ntarget_field[:, 1] = target_field[:, 1] + 1\n\n\ntarget_spec = {\n    \"coupling\": coil.B_coupling(target_points),\n    \"abs_error\": 0.01,\n    \"target\": target_field,\n}\n\n\nfrom scipy.linalg import eigh\n\nl, U = eigh(shield.resistance, shield.inductance, eigvals=(0, 500))\n#\n# U = np.zeros((shield.inductance.shape[0], len(li)))\n# U[shield.inner_verts, :] = Ui\n\n\n#\n# plt.figure()\n# plt.plot(1/li)\n\n\n# shield.M_coupling = np.linalg.solve(-shield.inductance, mutual_inductance.T)\n# secondary_C = shield.B_coupling(target_points) @ -shield.M_coupling\n\n\n#\n# tmin, tmax = 0.001, 0.001\n# Fs=10000\n\ntime = [0.001, 0.003, 0.005]\neddy_error = [0.05, 0.01, 0.0025]\n# time_decay = U @ np.exp(-l[None, :]*time[:, None]) @ np.pinv(U)\n\ntime_decay = np.zeros(\n    (len(time), shield.inductance.shape[0], shield.inductance.shape[1])\n)\n\ninduction_spec = []\n\n\nUinv = np.linalg.pinv(U)\nfor idx, t in enumerate(time):\n    time_decay = U @ np.diag(np.exp(-l * t)) @ Uinv\n    eddy_coupling = shield.B_coupling(target_points) @ time_decay @ shield.M_coupling\n    induction_spec.append(\n        {\n            \"coupling\": eddy_coupling,\n            \"abs_error\": eddy_error[idx],\n            \"rel_error\": 0,\n            \"target\": np.zeros_like(target_field),\n        }\n    )"
      ]
    },
    {
      "cell_type": "markdown",
      "metadata": {},
      "source": [
        "Run QP solver\n\n"
      ]
    },
    {
      "cell_type": "code",
      "execution_count": null,
      "metadata": {
        "collapsed": false
      },
      "outputs": [],
      "source": [
        "import mosek\n\ncoil.s, prob = optimize_streamfunctions(\n    coil,\n    [target_spec] + induction_spec,\n    objective=\"minimum_inductive_energy\",\n    solver=\"MOSEK\",\n    solver_opts={\"mosek_params\": {mosek.iparam.num_threads: 8}},\n)\n\nfrom bfieldtools.mesh_conductor import StreamFunction\n\nshield.induced_s = StreamFunction(shield.M_coupling @ coil.s, shield)"
      ]
    },
    {
      "cell_type": "markdown",
      "metadata": {},
      "source": [
        "Plot coil windings and target points\n\n"
      ]
    },
    {
      "cell_type": "code",
      "execution_count": null,
      "metadata": {
        "collapsed": false
      },
      "outputs": [],
      "source": [
        "loops = scalar_contour(coil.mesh, coil.s.vert, N_contours=6)\n\n# loops = [simplify_contour(loop, min_edge=1e-2, angle_threshold=2e-2, smooth=True) for loop in loops]\n\n# loops = [loop for loop in loops if loop is not None]\nif PLOT:\n    f = mlab.figure(None, bgcolor=(1, 1, 1), fgcolor=(0.5, 0.5, 0.5), size=(600, 500))\n    mlab.clf()\n\n    plot_3d_current_loops(loops, colors=\"auto\", figure=f, tube_radius=0.005)\n\n    B_target = coil.B_coupling(target_points) @ coil.s\n\n    mlab.quiver3d(*target_points.T, *B_target.T)\n\n    #    plot_data_on_vertices(shield.mesh, shield.induced_s.vert, ncolors=256, figure=f, opacity=0.5, cull_back=True)\n    #    plot_data_on_vertices(shield.mesh, shield.induced_s.vert, ncolors=256, figure=f, opacity=1, cull_front=True)\n\n    shield.plot_mesh(\n        representation=\"surface\",\n        opacity=0.5,\n        cull_back=True,\n        color=(0.8, 0.8, 0.8),\n        figure=f,\n    )\n    shield.plot_mesh(\n        representation=\"surface\",\n        opacity=1,\n        cull_front=True,\n        color=(0.8, 0.8, 0.8),\n        figure=f,\n    )\n\n    f.scene.camera.parallel_projection = 1\n\n    f.scene.camera.zoom(1.4)\n\n    while f.scene.light_manager is None:\n        _gui.process_events()\n\n    if SAVE_FIGURES:\n        mlab.savefig(SAVE_PATH + \"eddy_yes.png\", figure=f, magnification=4)\n        mlab.close()\n# mlab.triangular_mesh(*shield.mesh.vertices.T, shield.mesh.faces, scalars=shield.induced_I)\n\n# mlab.title('Coils which minimize the transient effects of conductive shield')"
      ]
    },
    {
      "cell_type": "markdown",
      "metadata": {},
      "source": [
        "Plot cross-section of magnetic field and magnetic potential of the discretized loops\n\n"
      ]
    },
    {
      "cell_type": "code",
      "execution_count": null,
      "metadata": {
        "collapsed": false
      },
      "outputs": [],
      "source": [
        "import matplotlib.pyplot as plt\n\nx = y = np.linspace(-1, 1, 40)\nX, Y = np.meshgrid(x, y, indexing=\"ij\")\n\n\npoints = np.zeros((X.flatten().shape[0], 3))\npoints[:, 0] = X.flatten()\npoints[:, 1] = Y.flatten()\n\nB = coil.B_coupling(points) @ coil.s\n\n\nmlab.quiver3d(*points.T, *B.T)\n\n# U = U.reshape(x.shape[0], y.shape[0])\n# B = B.T[:2].reshape(2, x.shape[0], y.shape[0])\n\n# from bfieldtools.viz import plot_cross_section\n\n# lw = np.sqrt(B[0] ** 2 + B[1] ** 2)\n\n# lw = 2 * lw / np.max(lw)\n\n# plot_cross_section(X, Y, U, log=False, contours=False)\n\n# seed_points = points[:, :2] * 0.3\n\n# plt.streamplot(\n#     x,\n#     y,\n#     B[0],\n#     B[1],\n#     density=2,\n#     linewidth=lw,\n#     color=\"k\",\n#     integration_direction=\"both\",\n#     start_points=seed_points,\n# )\n\n\n# plt.tight_layout()"
      ]
    },
    {
      "cell_type": "markdown",
      "metadata": {},
      "source": [
        "For comparison, let's see how the coils look when we ignore the conducting shield\n\n"
      ]
    },
    {
      "cell_type": "code",
      "execution_count": null,
      "metadata": {
        "collapsed": false
      },
      "outputs": [],
      "source": [
        "coil.unshielded_s, coil.unshielded_prob = optimize_streamfunctions(\n    coil,\n    [target_spec],\n    objective=\"minimum_inductive_energy\",\n    solver=\"MOSEK\",\n    solver_opts={\"mosek_params\": {mosek.iparam.num_threads: 8}},\n)\n\nshield.unshielded_induced_s = StreamFunction(\n    shield.M_coupling @ coil.unshielded_s, shield\n)\n\nloops = scalar_contour(coil.mesh, coil.unshielded_s.vert, N_contours=6)\nif PLOT:\n    f = mlab.figure(None, bgcolor=(1, 1, 1), fgcolor=(0.5, 0.5, 0.5), size=(600, 500))\n    mlab.clf()\n\n    plot_3d_current_loops(loops, colors=\"auto\", figure=f, tube_radius=0.005)\n\n    B_target_unshielded = coil.B_coupling(target_points) @ coil.unshielded_s\n\n    mlab.quiver3d(*target_points.T, *B_target_unshielded.T)\n    #\n    #    plot_data_on_vertices(shield.mesh, shield.unshielded_induced_s.vert,  ncolors=256, figure=f, opacity=0.5, cull_back=True)\n    #    plot_data_on_vertices(shield.mesh, shield.unshielded_induced_s.vert, ncolors=256, figure=f, opacity=1, cull_front=True)\n\n    shield.plot_mesh(\n        representation=\"surface\",\n        opacity=0.5,\n        cull_back=True,\n        color=(0.8, 0.8, 0.8),\n        figure=f,\n    )\n    shield.plot_mesh(\n        representation=\"surface\",\n        opacity=1,\n        cull_front=True,\n        color=(0.8, 0.8, 0.8),\n        figure=f,\n    )\n\n    f.scene.camera.parallel_projection = 1\n\n    f.scene.camera.zoom(1.4)\n\n    while f.scene.light_manager is None:\n        _gui.process_events()\n\n    if SAVE_FIGURES:\n        mlab.savefig(SAVE_PATH + \"eddy_no.png\", figure=f, magnification=4)\n        mlab.close()"
      ]
    },
    {
      "cell_type": "code",
      "execution_count": null,
      "metadata": {
        "collapsed": false
      },
      "outputs": [],
      "source": [
        "import matplotlib.pyplot as plt\n\nx = y = np.linspace(-1, 1, 40)\nX, Y = np.meshgrid(x, y, indexing=\"ij\")\n\n\npoints = np.zeros((X.flatten().shape[0], 3))\npoints[:, 0] = X.flatten()\npoints[:, 1] = Y.flatten()\n\nB = coil.B_coupling(points) @ coil.unshielded_s\n\n\nmlab.quiver3d(*points.T, *B.T)"
      ]
    },
    {
      "cell_type": "markdown",
      "metadata": {},
      "source": [
        "Finally, let's compare the time-courses\n\n"
      ]
    },
    {
      "cell_type": "code",
      "execution_count": null,
      "metadata": {
        "collapsed": false
      },
      "outputs": [],
      "source": [
        "tmin, tmax = 0, 0.025\nFs = 2000\n\ntime = np.linspace(tmin, tmax, int(Fs * (tmax - tmin) + 1))\n\n# time_decay = U @ np.exp(-l[None, :]*time[:, None]) @ np.pinv(U)\n\ntime_decay = np.zeros(\n    (len(time), shield.inductance.shape[0], shield.inductance.shape[1])\n)\n\nUinv = np.linalg.pinv(U)\nfor idx, t in enumerate(time):\n    time_decay[idx] = U @ np.diag(np.exp(-l * t)) @ Uinv\n\n\nB_t = shield.B_coupling(target_points) @ (time_decay @ shield.induced_s).T\n\nunshieldedB_t = (\n    shield.B_coupling(target_points) @ (time_decay @ shield.unshielded_induced_s).T\n)\n\nimport matplotlib.pyplot as plt\n\nif PLOT and SAVE_FIGURES:\n    fig, ax = plt.subplots(1, 1, sharex=True, figsize=(8, 4))\n    ax.plot(\n        time * 1e3,\n        np.mean(np.linalg.norm(B_t, axis=1), axis=0).T,\n        \"k-\",\n        label=\"Constrained\",\n        linewidth=1.5,\n    )\n    # ax[0].set_title('Eddy currents minimized')\n    ax.set_ylabel(\"Transient field amplitude\")\n    ax.semilogy(\n        time * 1e3,\n        np.mean(np.linalg.norm(unshieldedB_t, axis=1), axis=0).T,\n        \"k--\",\n        label=\"Ignored\",\n        linewidth=1.5,\n    )\n    # ax[1].set_title('Eddy currents ignored')\n    ax.set_xlabel(\"Time (ms)\")\n    # ax[1].set_ylabel('Transient field amplitude')\n\n    ax.set_ylim(1e-4, 0.5)\n    ax.set_xlim(0, 25)\n    #\n    #    ax.spines['top'].set_visible(False)\n    #    ax.spines['right'].set_visible(False)\n\n    plt.grid(which=\"both\", axis=\"y\", alpha=0.1)\n\n    plt.legend()\n    fig.tight_layout()\n\n    ax.vlines([1, 5, 10, 20], 1e-4, 0.5, alpha=0.1, linewidth=3, color=\"r\")\n\n    plt.savefig(SAVE_PATH + \"eddy_transient.pdf\")\n\n\nfrom bfieldtools.mesh_calculus import gradient\n\nfrom mayavi.api import Engine\n\nengine = Engine()\nengine.start()\n\n\nif PLOT and SAVE_FIGURES:\n\n    for plot_time_idx in [2, 10, 20, 40]:\n        # EDDY CURRENTS MINIMIZED\n        f = mlab.figure(\n            None, bgcolor=(1, 1, 1), fgcolor=(0.5, 0.5, 0.5), size=(600, 500)\n        )\n\n        mlab.test_points3d()\n        mlab.clf()\n\n        shield.plot_mesh(\n            representation=\"surface\", color=(0.8, 0.8, 0.8), opacity=1, figure=f\n        )\n\n        s = np.zeros((shield.mesh.vertices.shape[0],))\n        s[shield.inner_vertices] = time_decay[plot_time_idx] @ shield.induced_s\n\n        #        mlab.quiver3d(*shield.mesh.triangles_center.T, *gradient(s, shield.mesh, rotated=True), colormap='viridis')\n\n        plot_data_on_vertices(\n            shield.mesh,\n            s,\n            ncolors=256,\n            figure=f,\n            opacity=1,\n            cull_back=False,\n            colormap=\"RdBu\",\n        )\n\n        surface1 = engine.scenes[0].children[1].children[0].children[0].children[0]\n        surface1.enable_contours = True\n        surface1.contour.number_of_contours = 20\n        surface1.actor.property.line_width = 10.0\n\n        f.scene.camera.parallel_projection = 1\n        f.scene.isometric_view()\n\n        #        mlab.view(90,0)\n        #        mlab.roll(180)\n        f.scene.camera.zoom(1.4)\n\n        while f.scene.light_manager is None:\n            _gui.process_events()\n\n        f.scene.light_manager.light_mode = \"raymond\"\n\n        mlab.savefig(\n            SAVE_PATH + \"shield_eddy_yes_time_%.3f.png\" % time[plot_time_idx],\n            figure=f,\n            magnification=2,\n        )\n        mlab.close()\n\n    for plot_time_idx in [2, 10, 20, 40]:\n        # EDDY CURRENTS IGNORED\n        f = mlab.figure(\n            None, bgcolor=(1, 1, 1), fgcolor=(0.5, 0.5, 0.5), size=(600, 500)\n        )\n\n        shield.plot_mesh(\n            representation=\"surface\", color=(0.8, 0.8, 0.8), opacity=1, figure=f\n        )\n\n        s_u = np.zeros((shield.mesh.vertices.shape[0],))\n        s_u[shield.inner_vertices] = (\n            time_decay[plot_time_idx] @ shield.unshielded_induced_s\n        )\n\n        #        mlab.quiver3d(*shield.mesh.triangles_center.T, *gradient(s_u, shield.mesh, rotated=True), colormap='viridis')\n\n        plot_data_on_vertices(\n            shield.mesh,\n            s_u,\n            ncolors=256,\n            figure=f,\n            opacity=1,\n            cull_back=False,\n            colormap=\"RdBu\",\n        )\n\n        surface1 = engine.scenes[0].children[1].children[0].children[0].children[0]\n        surface1.enable_contours = True\n        surface1.contour.number_of_contours = 20\n        surface1.actor.property.line_width = 10.0\n\n        f.scene.camera.parallel_projection = 1\n        f.scene.isometric_view()\n\n        #        mlab.view(90,0)\n        #        mlab.roll(180)\n        f.scene.camera.zoom(1.4)\n\n        while f.scene.light_manager is None:\n            _gui.process_events()\n\n        f.scene.light_manager.light_mode = \"raymond\"\n\n        mlab.savefig(\n            SAVE_PATH + \"shield_eddy_no_time_%.3f.png\" % time[plot_time_idx],\n            figure=f,\n            magnification=2,\n        )\n        mlab.close()"
      ]
    }
  ],
  "metadata": {
    "kernelspec": {
      "display_name": "Python 3",
      "language": "python",
      "name": "python3"
    },
    "language_info": {
      "codemirror_mode": {
        "name": "ipython",
        "version": 3
      },
      "file_extension": ".py",
      "mimetype": "text/x-python",
      "name": "python",
      "nbconvert_exporter": "python",
      "pygments_lexer": "ipython3",
      "version": "3.7.6"
    }
  },
  "nbformat": 4,
  "nbformat_minor": 0
}