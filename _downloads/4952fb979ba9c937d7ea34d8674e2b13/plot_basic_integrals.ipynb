{
  "cells": [
    {
      "cell_type": "code",
      "execution_count": null,
      "metadata": {
        "collapsed": false
      },
      "outputs": [],
      "source": [
        "%matplotlib inline"
      ]
    },
    {
      "cell_type": "markdown",
      "metadata": {},
      "source": [
        "\nAnalytic integrals as scalar fields\n========================================================\n\n\n"
      ]
    },
    {
      "cell_type": "code",
      "execution_count": null,
      "metadata": {
        "collapsed": false
      },
      "outputs": [],
      "source": [
        "import numpy as np\nimport matplotlib.pyplot as plt\nfrom mayavi import mlab\nimport trimesh\n\n\nfrom bfieldtools.integrals import triangle_potential_uniform\nfrom bfieldtools.integrals import triangle_potential_dipole_linear\nfrom bfieldtools.integrals import gamma0\nfrom bfieldtools.integrals import omega\nfrom bfieldtools.utils import tri_normals_and_areas"
      ]
    },
    {
      "cell_type": "markdown",
      "metadata": {},
      "source": [
        "%% Create there orthogonal planes\n\n"
      ]
    },
    {
      "cell_type": "code",
      "execution_count": null,
      "metadata": {
        "collapsed": false
      },
      "outputs": [],
      "source": [
        "points = np.array([[0, 0, 0], [1, 0.5, 0], [0, 1, 0]]) + 0.15\n\npoints[:, 2] += 0.1\n\ntris = np.array([[0, 1, 2]])\np_tris = points[tris]\nmesh = trimesh.Trimesh(points, tris, process=False)\n\n# Evaluation points\npoints2 = np.array([[-0.01, 1, 1], [-0.01, 1, 0], [-0.01, 0, 0], [-0.01, 0, 1]]) * 1.2\ntris2 = np.array([[0, 1, 2], [2, 3, 0]])\nmesh2 = trimesh.Trimesh(points2, tris2)\nfor ii in range(7):\n    mesh2 = mesh2.subdivide()\n\npoints3 = np.array([[1, 1, -0.01], [1, 0, -0.01], [0, 0, -0.01], [0, 1, -0.01]]) * 1.2\nmesh3 = trimesh.Trimesh(points3, tris2)\nfor ii in range(7):\n    mesh3 = mesh3.subdivide()\n\npoints4 = np.array([[1, -0.01, 1], [1, -0.01, 0], [0, -0.01, 0], [0, -0.01, 1]]) * 1.2\nmesh4 = trimesh.Trimesh(points4, tris2)\nfor ii in range(7):\n    mesh4 = mesh4.subdivide()\n\n\ndef plot_axes():\n    axes_points = np.zeros((3, 3))\n    axes = np.eye(3) * 0.3\n    vectors = mlab.quiver3d(*axes_points, *axes, mode=\"arrow\", color=(0, 0, 0))\n    vectors.glyph.glyph.scale_factor = 1.5\n    vectors.glyph.glyph_source.glyph_source.tip_length = 0.1\n    vectors.glyph.glyph_source.glyph_source.tip_radius = 0.03\n    vectors.glyph.glyph_source.glyph_source.shaft_radius = 0.01\n\n\n# Difference vectors\nRR2 = mesh2.vertices[:, None, None, :] - p_tris[None, :, :, :]\nRR3 = mesh3.vertices[:, None, None, :] - p_tris[None, :, :, :]\nRR4 = mesh4.vertices[:, None, None, :] - p_tris[None, :, :, :]\n\ntn, ta = tri_normals_and_areas(points, tris)"
      ]
    },
    {
      "cell_type": "code",
      "execution_count": null,
      "metadata": {
        "collapsed": false
      },
      "outputs": [],
      "source": [
        "for ii, func in enumerate(\n    (triangle_potential_uniform, triangle_potential_dipole_linear, gamma0, omega)\n):\n\n    mlab.figure(bgcolor=(1, 1, 1))\n    # Plot shape and potential\n    print(func)\n    if ii == 0:\n        pot2 = func(RR2, tn)[:, 0]\n        pot3 = func(RR3, tn)[:, 0]\n        pot4 = func(RR4, tn)[:, 0]\n        mlab.triangular_mesh(\n            *mesh.vertices.T, mesh.faces, color=(0.5, 0.5, 0.5), opacity=0.7\n        )\n    if ii == 1:\n        pot2 = func(RR2, tn, ta)[:, 0, 1]\n        pot3 = func(RR3, tn, ta)[:, 0, 1]\n        pot4 = func(RR4, tn, ta)[:, 0, 1]\n        mlab.triangular_mesh(\n            *mesh.vertices.T, mesh.faces, color=(0.5, 0.5, 0.5), opacity=0.2\n        )\n        meshq = mesh.copy()\n        for jj in range(4):\n            meshq = meshq.subdivide()\n        u = np.zeros(meshq.vertices.shape)\n        r = meshq.vertices\n        r2 = np.zeros(r.shape + (3,))\n        r2[:, 1] = r\n        r2[:, 0] = mesh.vertices[0]\n        r2[:, 2] = mesh.vertices[2]\n        u[:, 2] = np.linalg.det(r2) / np.linalg.det(mesh.vertices)\n        q = mlab.quiver3d(*r.T, *u.T, colormap=\"gray\", mode=\"arrow\")\n        q.glyph.glyph.scale_factor = 0.25\n\n    if ii == 2:\n        pot2 = func(RR2)[:, 0, 2]\n        pot3 = func(RR3)[:, 0, 2]\n        pot4 = func(RR4)[:, 0, 2]\n        mlab.plot3d(\n            *points[0:2].T, color=(0.5, 0.5, 0.5), opacity=0.5, tube_radius=0.02\n        )\n    if ii == 3:\n        pot2 = func(RR2)[:, 0]\n        pot3 = func(RR3)[:, 0]\n        pot4 = func(RR4)[:, 0]\n        mlab.triangular_mesh(\n            *mesh.vertices.T, mesh.faces, color=(0.5, 0.5, 0.5), opacity=0.5\n        )\n        u = np.zeros(meshq.vertices.shape)\n        u[:, 2] = 1\n        r = meshq.vertices\n        q = mlab.quiver3d(*r.T, *u.T, colormap=\"gray\", mode=\"arrow\")\n        q.glyph.glyph.scale_factor = 0.2\n\n    plot_axes()\n\n    M = max(max(abs(pot2)), max(abs(pot3)), max(abs(pot4)))\n    for m, p in zip((mesh2, mesh3, mesh4), (pot2, pot3, pot4)):\n        s = mlab.triangular_mesh(\n            *m.vertices.T, m.faces, scalars=p, colormap=\"seismic\", vmin=-M, vmax=M\n        )\n        s.actor.mapper.interpolate_scalars_before_mapping = True\n        s.module_manager.scalar_lut_manager.number_of_colors = 32\n\n    # Move camera a bit\n    s.scene.camera.pitch(-2)\n    s.scene.camera.azimuth(-25)\n    s.scene.camera.elevation(-10)\n    s.scene.camera.orthogonalize_view_up()\n    s.scene.camera.pitch(1)\n    s.scene.camera.orthogonalize_view_up()"
      ]
    }
  ],
  "metadata": {
    "kernelspec": {
      "display_name": "Python 3",
      "language": "python",
      "name": "python3"
    },
    "language_info": {
      "codemirror_mode": {
        "name": "ipython",
        "version": 3
      },
      "file_extension": ".py",
      "mimetype": "text/x-python",
      "name": "python",
      "nbconvert_exporter": "python",
      "pygments_lexer": "ipython3",
      "version": "3.6.7"
    }
  },
  "nbformat": 4,
  "nbformat_minor": 0
}