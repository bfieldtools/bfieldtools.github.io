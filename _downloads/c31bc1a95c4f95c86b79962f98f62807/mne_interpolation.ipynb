{
  "cells": [
    {
      "cell_type": "code",
      "execution_count": null,
      "metadata": {
        "collapsed": false
      },
      "outputs": [],
      "source": [
        "%matplotlib inline"
      ]
    },
    {
      "cell_type": "markdown",
      "metadata": {},
      "source": [
        "\nField interpolation example\n============================\n"
      ]
    },
    {
      "cell_type": "code",
      "execution_count": null,
      "metadata": {
        "collapsed": false
      },
      "outputs": [],
      "source": [
        "import numpy as np\nfrom bfieldtools.mesh_conductor import MeshConductor, StreamFunction\nfrom mayavi import mlab\nimport trimesh\n\nimport mne\n\nPLOT = True\nIMPORT_MNE_DATA = True\n\nSAVE_MNE_DATA = True\nSAVE_DIR = \"./MNE interpolation/\"\n\nif IMPORT_MNE_DATA:\n\n    from mne.datasets import sample\n\n    data_path = sample.data_path()\n    fname = data_path + \"/MEG/sample/sample_audvis-ave.fif\"\n    # Reading\n    condition = \"Left Auditory\"\n    evoked = mne.read_evokeds(fname, condition=condition, baseline=(None, 0), proj=True)\n    evoked.pick_types(meg=\"mag\")\n    evoked.plot(exclude=[], time_unit=\"s\")\n\n    i0, i1 = evoked.time_as_index(0.08)[0], evoked.time_as_index(0.09)[0]\n    field = evoked.data[:, i0:i1].mean(axis=1)\n\n    # Read BEM for surface geometry and transform to correct coordinate system\n    import os.path as op\n\n    subject = \"sample\"\n    subjects_dir = op.join(data_path, \"subjects\")\n    bem_fname = op.join(\n        subjects_dir, subject, \"bem\", subject + \"-5120-5120-5120-bem-sol.fif\"\n    )\n    bem = mne.read_bem_solution(bem_fname)\n\n    # Head mesh 0\n    # Innerskull mesh 2\n    surf_index = 2\n\n    trans_fname = op.join(data_path, \"MEG\", \"sample\", \"sample_audvis_raw-trans.fif\")\n    trans0 = mne.read_trans(trans_fname)\n    R = trans0[\"trans\"][:3, :3]\n    t = trans0[\"trans\"][:3, 3]\n    # Surface from MRI to HEAD\n    rr = (bem[\"surfs\"][surf_index][\"rr\"] - t) @ R\n    # Surface from HEAD to DEVICE\n    trans1 = evoked.info[\"dev_head_t\"]\n    R = trans1[\"trans\"][:3, :3]\n    t = trans1[\"trans\"][:3, 3]\n    rr = (rr - t) @ R\n\n    mesh = trimesh.Trimesh(rr, bem[\"surfs\"][surf_index][\"tris\"])\n    mlab.triangular_mesh(*mesh.vertices.T, mesh.faces)\n\n    surf_index = 0\n\n    R = trans0[\"trans\"][:3, :3]\n    t = trans0[\"trans\"][:3, 3]\n    # Surface from MRI to HEAD\n    rr = (bem[\"surfs\"][surf_index][\"rr\"] - t) @ R\n    # Surface from HEAD to DEVICE\n    R = trans1[\"trans\"][:3, :3]\n    t = trans1[\"trans\"][:3, 3]\n    rr = (rr - t) @ R\n    head = trimesh.Trimesh(rr, bem[\"surfs\"][surf_index][\"tris\"])\n\n    mesh = head\n\n    # Sensor locations and directions in DEVICE coordinate system\n    p = np.array(\n        [\n            ch[\"loc\"][:3]\n            for ch in evoked.info[\"chs\"]\n            if ch[\"ch_name\"][-1] == \"1\" and ch[\"ch_name\"][:3] == \"MEG\"\n        ]\n    )\n    n = np.array(\n        [\n            ch[\"loc\"][-3:]\n            for ch in evoked.info[\"chs\"]\n            if ch[\"ch_name\"][-1] == \"1\" and ch[\"ch_name\"][:3] == \"MEG\"\n        ]\n    )\n\n    from mne.datasets import sample\n\n    data_path = sample.data_path()\n    fname = data_path + \"/MEG/sample/sample_audvis-ave.fif\"\n    # Reading\n    condition = \"Left Auditory\"\n    evoked = mne.read_evokeds(fname, condition=condition, baseline=(None, 0), proj=True)\n    evoked.pick_types(meg=\"mag\")\n    evoked.plot(exclude=[], time_unit=\"s\")\n\n    i0, i1 = evoked.time_as_index(0.08)[0], evoked.time_as_index(0.09)[0]\n    field = evoked.data[:, i0:i1].mean(axis=1)\n\n    # Read BEM for surface geometry and transform to correct coordinate system\n    import os.path as op\n\n    subject = \"sample\"\n    subjects_dir = op.join(data_path, \"subjects\")\n    bem_fname = op.join(\n        subjects_dir, subject, \"bem\", subject + \"-5120-5120-5120-bem-sol.fif\"\n    )\n    bem = mne.read_bem_solution(bem_fname)\n\n    # Head mesh 0\n    # Innerskull mesh 2\n    surf_index = 2\n\n    trans_fname = op.join(data_path, \"MEG\", \"sample\", \"sample_audvis_raw-trans.fif\")\n    trans0 = mne.read_trans(trans_fname)\n    R = trans0[\"trans\"][:3, :3]\n    t = trans0[\"trans\"][:3, 3]\n    # Surface from MRI to HEAD\n    rr = (bem[\"surfs\"][surf_index][\"rr\"] - t) @ R\n    # Surface from HEAD to DEVICE\n    trans1 = evoked.info[\"dev_head_t\"]\n    R = trans1[\"trans\"][:3, :3]\n    t = trans1[\"trans\"][:3, 3]\n    rr = (rr - t) @ R\n\n    mesh = trimesh.Trimesh(rr, bem[\"surfs\"][surf_index][\"tris\"])\n    mlab.triangular_mesh(*mesh.vertices.T, mesh.faces)\n\n    surf_index = 0\n\n    R = trans0[\"trans\"][:3, :3]\n    t = trans0[\"trans\"][:3, 3]\n    # Surface from MRI to HEAD\n    rr = (bem[\"surfs\"][surf_index][\"rr\"] - t) @ R\n    # Surface from HEAD to DEVICE\n    R = trans1[\"trans\"][:3, :3]\n    t = trans1[\"trans\"][:3, 3]\n    rr = (rr - t) @ R\n    head = trimesh.Trimesh(rr, bem[\"surfs\"][surf_index][\"tris\"])\n\n    mesh = head\n\n    # Sensor locations and directions in DEVICE coordinate system\n    p = np.array(\n        [\n            ch[\"loc\"][:3]\n            for ch in evoked.info[\"chs\"]\n            if ch[\"ch_name\"][-1] == \"1\" and ch[\"ch_name\"][:3] == \"MEG\"\n        ]\n    )\n    n = np.array(\n        [\n            ch[\"loc\"][-3:]\n            for ch in evoked.info[\"chs\"]\n            if ch[\"ch_name\"][-1] == \"1\" and ch[\"ch_name\"][:3] == \"MEG\"\n        ]\n    )\n\n    if PLOT:\n        # Plot sensor locations and directions\n        mlab.triangular_mesh(\n            *head.vertices.T, head.faces, color=(0.5, 0.5, 0.5), opacity=0.5\n        )\n        mlab.quiver3d(*p.T, *n.T, mode=\"arrow\")\n\n    if SAVE_MNE_DATA:\n        np.savez(\n            SAVE_DIR + \"mne_data.npz\",\n            mesh=mesh,\n            p=p,\n            n=n,\n            vertices=mesh.vertices,\n            faces=mesh.faces,\n        )\n        evoked.save(SAVE_DIR + \"left_auditory-ave.fif\")\n\n\nelse:\n\n    with np.load(SAVE_DIR + \"mne_data.npz\", allow_pickle=True) as data:\n        mesh = data[\"mesh\"]\n        p = data[\"p\"]\n        n = data[\"n\"]\n        mesh = trimesh.Trimesh(vertices=data[\"vertices\"], faces=data[\"faces\"])\n\n    evoked = mne.Evoked(SAVE_DIR + \"left_auditory-ave.fif\")"
      ]
    },
    {
      "cell_type": "markdown",
      "metadata": {},
      "source": [
        "Fit the surface current for the auditory evoked response\n\n"
      ]
    },
    {
      "cell_type": "code",
      "execution_count": null,
      "metadata": {
        "collapsed": false
      },
      "outputs": [],
      "source": [
        "c = MeshConductor(mesh_obj=mesh, basis_name=\"suh\", N_suh=150)\nM = c.mass\n# B_sensors = np.sum(c.B_coupling(p) * n[:,:,None], axis=1)\nB_sensors = np.einsum(\"ijk,ij->ik\", c.B_coupling(p), n)\n# a = np.linalg.pinv(B_sensors, rcond=1e-15) @ field\nss = np.linalg.svd(B_sensors @ B_sensors.T, False, False)\n\n# reg_exps = [0.5, 1, 2, 3, 4, 5, 6, 7, 8]\nreg_exps = [1]\nplot_this = True\nrel_errors = []\nfor reg_exp in reg_exps:\n    _lambda = np.max(ss) * (10 ** (-reg_exp))\n    # Laplacian in the suh basis is diagonal\n    BB = B_sensors.T @ B_sensors + _lambda * (-c.laplacian) / np.max(abs(c.laplacian))\n    a = np.linalg.solve(BB, B_sensors.T @ field)\n    # a = B_sensors.T @ np.linalg.solve(BB, field)\n    s = StreamFunction(a, c)\n    b_filt = B_sensors @ s\n\n    rel_error = np.linalg.norm(b_filt - field) / np.linalg.norm(field)\n    print(\"Relative error:\", rel_error * 100, \"%\")\n    rel_errors.append(rel_error)\n\n    if plot_this:\n        mlab.figure()\n        surf = s.plot(False)\n        surf.actor.mapper.interpolate_scalars_before_mapping = True\n        surf.module_manager.scalar_lut_manager.number_of_colors = 16"
      ]
    },
    {
      "cell_type": "markdown",
      "metadata": {},
      "source": [
        "Interpolate to the sensor surface\n\n"
      ]
    },
    {
      "cell_type": "code",
      "execution_count": null,
      "metadata": {
        "collapsed": false
      },
      "outputs": [],
      "source": [
        "import pkg_resources\n\n# Load simple plane mesh that is centered on the origin\nfile_obj = pkg_resources.resource_filename(\n    \"bfieldtools\", \"example_meshes/meg_helmet.obj\"\n)\nhelmet = trimesh.load(file_obj, process=True)\n# Bring the surface roughly to the correct place\nhelmet.vertices[:, 2] -= 0.05\n\n# Reset coupling by hand\nc.B_coupling.reset()\nmlab.figure()\nB_surf = np.sum(\n    c.B_coupling(helmet.vertices) * helmet.vertex_normals[:, :, None], axis=1\n)\n# vecs = c.B_coupling(helmet.vertices)\nmlab.quiver3d(*p.T, *n.T, mode=\"arrow\")\nscalars = B_surf @ s\nsurf = mlab.triangular_mesh(\n    *helmet.vertices.T, helmet.faces, scalars=scalars, colormap=\"seismic\"\n)\nsurf.actor.mapper.interpolate_scalars_before_mapping = True\nsurf.module_manager.scalar_lut_manager.number_of_colors = 15\nsurf2 = s.plot(False)\nsurf2.actor.mapper.interpolate_scalars_before_mapping = True\nsurf2.module_manager.scalar_lut_manager.number_of_colors = 15\n\n# mlab.figure()\n# U_surf = c.U_coupling(helmet.vertices)\n# scalars = U_surf @ s\n# surf = mlab.triangular_mesh(*helmet.vertices.T, helmet.faces, scalars=scalars,\n#                     colormap='seismic')\n# surf.actor.mapper.interpolate_scalars_before_mapping = True\n# surf.module_manager.scalar_lut_manager.number_of_colors = 15\n# surf2 = s.plot(False)\n# surf2.actor.mapper.interpolate_scalars_before_mapping = True\n# surf2.module_manager.scalar_lut_manager.number_of_colors = 15"
      ]
    },
    {
      "cell_type": "markdown",
      "metadata": {},
      "source": [
        "#Load simple plane mesh that is centered on the origin\n file_obj = pkg_resources.resource_filename('bfieldtools',\n                'example_meshes/10x10_plane_hires.obj')\n plane = trimesh.load(file_obj, process=True)\n#t = np.eye(4)\n#t[1:3,1:3] = np.array([[0,1],[-1,0]])\n#mesh.apply_transform(t)\n plane.vertices *= 0.03\n\n scalars = c.U_coupling(plane.vertices).max(axis=1)\n vert_mask = abs(scalars) > np.max(abs(scalars)/10)\n face_index = np.nonzero(plane.faces_sparse.T @ vert_mask)[0]\n plane = plane.subdivide(face_index)\n\n scalars = c.U_coupling(plane.vertices).max(axis=1)\n vert_mask = abs(scalars) > np.max(abs(scalars)/5)\n face_index = np.nonzero(plane.faces_sparse.T @ vert_mask)[0]\n plane = plane.subdivide(face_index)\n\n scalars = c.U_coupling(plane.vertices) @ s\n vert_mask = abs(scalars) > np.max(abs(scalars)/3)\n face_index = np.nonzero(plane.faces_sparse.T @ vert_mask)[0]\n plane = plane.subdivide(face_index)\n\n scalars = c.U_coupling(plane.vertices) @ s\n inner = abs(c.U_coupling(plane.vertices).sum(axis=1)) >1e-15\n scalars[inner] *= -1\n m = np.max(abs(scalars))/1.5\n surf1 = mlab.triangular_mesh(*plane.vertices.T, plane.faces, scalars=scalars,\n                     colormap='bwr', vmin=-m, vmax=m)\n surf1.actor.mapper.interpolate_scalars_before_mapping = True\n surf1.module_manager.scalar_lut_manager.number_of_colors = 15\n surf2 = s.plot(False)\n surf2.actor.mapper.interpolate_scalars_before_mapping = True\n surf2.module_manager.scalar_lut_manager.number_of_colors = 15\n#mlab.triangular_mesh(*mesh.vertices.T, mesh.faces, color=(1,1,1))\n\n"
      ]
    },
    {
      "cell_type": "markdown",
      "metadata": {},
      "source": [
        "Calculate magnetic field in a box\n\n"
      ]
    },
    {
      "cell_type": "code",
      "execution_count": null,
      "metadata": {
        "collapsed": false
      },
      "outputs": [],
      "source": [
        "Nvol = 30\nx = np.linspace(-0.125, 0.125, Nvol)\nvol_points = np.array(np.meshgrid(x, x, x, indexing=\"ij\")).reshape(3, -1).T\n# mlab.points3d(*vol_points.T)\n\nc.B_coupling.reset()\nBvol_coupling = c.B_coupling(vol_points, Nchunks=100, analytic=True)\ns = StreamFunction(a, c)\n# s = StreamFunction(a, c)\nBvol = Bvol_coupling @ s"
      ]
    },
    {
      "cell_type": "markdown",
      "metadata": {},
      "source": [
        "Plot the computed magnetic field with streamlines\n\n"
      ]
    },
    {
      "cell_type": "code",
      "execution_count": null,
      "metadata": {
        "collapsed": false
      },
      "outputs": [],
      "source": [
        "from bfieldtools.mesh_calculus import gradient\n\n# mlab.quiver3d(*vol_points.T, *Bvol.T)\nmlab.figure(bgcolor=(1, 1, 1))\nvecs = mlab.pipeline.vector_field(\n    *vol_points.T.reshape(3, Nvol, Nvol, Nvol), *Bvol.T.reshape(3, Nvol, Nvol, Nvol)\n)\nvecnorm = mlab.pipeline.extract_vector_norm(vecs)\n\nseed_points = mesh.vertices[mesh.faces].mean(axis=1) - 0.01 * mesh.face_normals\n# c1 = MeshConductor(mesh_obj=mesh, basis_name='vertex')\nseed_vals = c.basis @ c.inductance @ s\nseed_vals_grad = np.linalg.norm(gradient(seed_vals, c.mesh), axis=0)\nmlab.triangular_mesh(\n    *mesh.vertices.T, mesh.faces, scalars=abs(seed_vals) ** 2, colormap=\"viridis\"\n)\nseed_vals = abs(seed_vals[mesh.faces].mean(axis=1)) ** 2\nseed_vals[seed_vals_grad > seed_vals_grad.max() / 1.8] = 0\nNpoints = 500\nseed_inds = np.random.choice(\n    np.arange(len(seed_vals)), Npoints, False, seed_vals / seed_vals.sum()\n)\nseed_points = seed_points[seed_inds]\n# mlab.points3d(*seed_points.T, scale_factor=0.001)\n# seed_vals /= seed_vals.max()\n# rands = np.random.rand(len(seed_vals))\n# seed_points = seed_points[seed_vals > rands]\n\nstreams = []\n\nfor pi in seed_points:\n    streamline = mlab.pipeline.streamline(\n        vecnorm,\n        integration_direction=\"both\",\n        colormap=\"BuGn\",\n        seed_visible=False,\n        seedtype=\"point\",\n    )\n    streamline.seed.widget.position = pi\n    streamline.stream_tracer.terminal_speed = 3e-13\n    streamline.stream_tracer.maximum_propagation = 0.1\n    streamline.actor.property.render_lines_as_tubes = True\n    streamline.actor.property.line_width = 4.0\n    streams.append(streamline)\n\n\n# Magnetic flux\n# s2 = StreamFunction(c.inductance @ s, c)\n# mlab.figure()\n# surf2 = s2.plot(False)\n# surf2.actor.mapper.interpolate_scalars_before_mapping = True\n# surf2.module_manager.scalar_lut_manager.number_of_colors = 15\n\n# mlab.figure()\n# surf2 = s.plot(False)\n# surf2.actor.mapper.interpolate_scalars_before_mapping = True\n# surf2.module_manager.scalar_lut_manager.number_of_colors = 16\n\n\n# Custom colormap with alpha channel\nstreamine = streams[0]\nlut = streamline.module_manager.scalar_lut_manager.lut.table.to_array()\nlut[:, -1] = np.linspace(0, 255, 256)\nstreamline.module_manager.scalar_lut_manager.lut.table = lut\nstreamline.module_manager.scalar_lut_manager.data_range = np.array([1.0e-13, 1.0e-12])\n\n\n##\nfor streamline in streams:\n    streamline.stream_tracer.terminal_speed = 1e-13\n    streamline.seed.widget.hot_spot_size = 0.1\n    streamline.stream_tracer.initial_integration_step = 0.01\n    streamline.stream_tracer.minimum_integration_step = 0.1\n\nsensors = mlab.quiver3d(*p.T, *n.T, mode=\"cylinder\")\nsensors.glyph.glyph_source.glyph_source.height = 0.1\nsensors.actor.property.color = (0.5, 0.5, 0.5)\nsensors.actor.mapper.scalar_visibility = False\nsensors.glyph.glyph_source.glyph_source.resolution = 32\nsensors.glyph.glyph.scale_factor = 0.03\n# sensors.glyph.glyph_source.glyph_source.shaft_radius = 0.05\n\ngrad_s = gradient(c.basis @ s, mesh, rotated=True)\nq = mlab.quiver3d(\n    *(mesh.vertices[mesh.faces].mean(axis=1).T),\n    *grad_s,\n    colormap=\"viridis\",\n    mode=\"arrow\"\n)\n\nmlab.triangular_mesh(*head.vertices.T, head.faces, color=(0.8, 0.8, 0.8), opacity=1.0)\n\n#\n##    streamline.seed.widget.enabled = False\n#    streamline.actor.property.line_width = 3.0"
      ]
    }
  ],
  "metadata": {
    "kernelspec": {
      "display_name": "Python 3",
      "language": "python",
      "name": "python3"
    },
    "language_info": {
      "codemirror_mode": {
        "name": "ipython",
        "version": 3
      },
      "file_extension": ".py",
      "mimetype": "text/x-python",
      "name": "python",
      "nbconvert_exporter": "python",
      "pygments_lexer": "ipython3",
      "version": "3.7.6"
    }
  },
  "nbformat": 4,
  "nbformat_minor": 0
}