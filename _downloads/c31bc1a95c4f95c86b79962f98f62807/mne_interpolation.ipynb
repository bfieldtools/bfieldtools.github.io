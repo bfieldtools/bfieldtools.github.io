{
  "cells": [
    {
      "cell_type": "code",
      "execution_count": null,
      "metadata": {
        "collapsed": false
      },
      "outputs": [],
      "source": [
        "%matplotlib inline"
      ]
    },
    {
      "cell_type": "markdown",
      "metadata": {},
      "source": [
        "\nField interpolation example using equivalent surface currents\n==============================================================\n"
      ]
    },
    {
      "cell_type": "code",
      "execution_count": null,
      "metadata": {
        "collapsed": false
      },
      "outputs": [],
      "source": [
        "import numpy as np\nfrom bfieldtools.mesh_conductor import MeshConductor, StreamFunction\nfrom mayavi import mlab\nimport trimesh\n\nimport mne\n\nPLOT = True\nSAVE_FIGURES = True\nIMPORT_MNE_DATA = True\n\nSAVE_MNE_DATA = True\nSAVE_DIR = \"./MNE interpolation/\"\n\n\nfrom pyface.api import GUI\n\n_gui = GUI()"
      ]
    },
    {
      "cell_type": "markdown",
      "metadata": {},
      "source": [
        "First, let's import the MEG data\n\n"
      ]
    },
    {
      "cell_type": "code",
      "execution_count": null,
      "metadata": {
        "collapsed": false
      },
      "outputs": [],
      "source": [
        "if IMPORT_MNE_DATA:\n\n    from mne.datasets import sample\n\n    data_path = sample.data_path()\n    fname = data_path + \"/MEG/sample/sample_audvis-ave.fif\"\n    # Reading\n    condition = \"Left Auditory\"\n    evoked = mne.read_evokeds(fname, condition=condition, baseline=(None, 0), proj=True)\n    evoked.pick_types(meg=\"mag\")\n    # evoked.plot(exclude=[], time_unit=\"s\")\n\n    i0, i1 = evoked.time_as_index(0.08)[0], evoked.time_as_index(0.09)[0]\n    field = evoked.data[:, i0:i1].mean(axis=1)\n\n    # Read BEM for surface geometry and transform to correct coordinate system\n    import os.path as op\n\n    subject = \"sample\"\n    subjects_dir = op.join(data_path, \"subjects\")\n    bem_fname = op.join(\n        subjects_dir, subject, \"bem\", subject + \"-5120-5120-5120-bem-sol.fif\"\n    )\n    bem = mne.read_bem_solution(bem_fname)\n\n    # Head mesh 0\n    # Innerskull mesh 2\n    surf_index = 2\n\n    trans_fname = op.join(data_path, \"MEG\", \"sample\", \"sample_audvis_raw-trans.fif\")\n    trans0 = mne.read_trans(trans_fname)\n    R = trans0[\"trans\"][:3, :3]\n    t = trans0[\"trans\"][:3, 3]\n    # Surface from MRI to HEAD\n    rr = (bem[\"surfs\"][surf_index][\"rr\"] - t) @ R\n    # Surface from HEAD to DEVICE\n    trans1 = evoked.info[\"dev_head_t\"]\n    R = trans1[\"trans\"][:3, :3]\n    t = trans1[\"trans\"][:3, 3]\n    rr = (rr - t) @ R\n\n    innerskull = trimesh.Trimesh(rr, bem[\"surfs\"][surf_index][\"tris\"])\n\n    surf_index = 0\n\n    R = trans0[\"trans\"][:3, :3]\n    t = trans0[\"trans\"][:3, 3]\n    # Surface from MRI to HEAD\n    rr = (bem[\"surfs\"][surf_index][\"rr\"] - t) @ R\n    # Surface from HEAD to DEVICE\n    R = trans1[\"trans\"][:3, :3]\n    t = trans1[\"trans\"][:3, 3]\n    rr = (rr - t) @ R\n    head = trimesh.Trimesh(rr, bem[\"surfs\"][surf_index][\"tris\"])\n\n    mesh = head\n\n    # Sensor locations and directions in DEVICE coordinate system\n    p = np.array(\n        [\n            ch[\"loc\"][:3]\n            for ch in evoked.info[\"chs\"]\n            if ch[\"ch_name\"][-1] == \"1\" and ch[\"ch_name\"][:3] == \"MEG\"\n        ]\n    )\n    n = np.array(\n        [\n            ch[\"loc\"][-3:]\n            for ch in evoked.info[\"chs\"]\n            if ch[\"ch_name\"][-1] == \"1\" and ch[\"ch_name\"][:3] == \"MEG\"\n        ]\n    )\n\n    if PLOT:\n        # Plot sensor locations and directions\n        fig = mlab.figure(bgcolor=(1, 1, 1))\n        mlab.triangular_mesh(*innerskull.vertices.T, innerskull.faces)\n        mlab.triangular_mesh(\n            *head.vertices.T, head.faces, color=(0.5, 0.5, 0.5), opacity=0.5\n        )\n        mlab.quiver3d(*p.T, *n.T, mode=\"arrow\")\n\n        fig.scene.isometric_view()\n\n        if SAVE_FIGURES:\n            mlab.savefig(SAVE_DIR + \"MEG_geometry.png\", magnification=4, figure=fig)\n\n    if SAVE_MNE_DATA:\n        np.savez(\n            SAVE_DIR + \"mne_data.npz\",\n            mesh=head,\n            p=p,\n            n=n,\n            vertices=head.vertices,\n            faces=head.faces,\n        )\n        evoked.save(SAVE_DIR + \"left_auditory-ave.fif\")\n\n\nelse:\n\n    with np.load(SAVE_DIR + \"mne_data.npz\", allow_pickle=True) as data:\n        mesh = data[\"mesh\"]\n        p = data[\"p\"]\n        n = data[\"n\"]\n        mesh = trimesh.Trimesh(vertices=data[\"vertices\"], faces=data[\"faces\"])\n\n    evoked = mne.Evoked(SAVE_DIR + \"left_auditory-ave.fif\")"
      ]
    },
    {
      "cell_type": "markdown",
      "metadata": {},
      "source": [
        "Fit the surface current for the auditory evoked response\n\n"
      ]
    },
    {
      "cell_type": "code",
      "execution_count": null,
      "metadata": {
        "collapsed": false
      },
      "outputs": [],
      "source": [
        "c = MeshConductor(mesh_obj=mesh, basis_name=\"suh\", N_suh=150)\nM = c.mass\n\nsensor_coupling = np.einsum(\"ijk,ij->ik\", c.B_coupling(p), n)\n# a = np.linalg.pinv(sensor_coupling, rcond=1e-15) @ field\nss = np.linalg.svd(sensor_coupling @ sensor_coupling.T, False, False)\n\n# reg_exps = [0.5, 1, 2, 3, 4, 5, 6, 7, 8]\nreg_exps = [1]\nrel_errors = []\n\nfor reg_exp in reg_exps:\n    _lambda = np.max(ss) * (10 ** (-reg_exp))\n    # Laplacian in the suh basis is diagonal\n    BB = sensor_coupling.T @ sensor_coupling + _lambda * (-c.laplacian) / np.max(\n        abs(c.laplacian)\n    )\n    a = np.linalg.solve(BB, sensor_coupling.T @ field)\n    s = StreamFunction(a, c)\n    b_filt = sensor_coupling @ s\n\n    rel_error = np.linalg.norm(b_filt - field) / np.linalg.norm(field)\n    print(\"Relative error:\", rel_error * 100, \"%\")\n    rel_errors.append(rel_error)\n\n    if PLOT:\n        fig = mlab.figure(bgcolor=(1, 1, 1))\n        surf = s.plot(False, figure=fig)\n        surf.actor.mapper.interpolate_scalars_before_mapping = True\n        surf.module_manager.scalar_lut_manager.number_of_colors = 16\n\n        if SAVE_FIGURES:\n            mlab.savefig(\n                SAVE_DIR + \"SUH_scalp_streamfunction.png\", magnification=4, figure=fig\n            )"
      ]
    },
    {
      "cell_type": "markdown",
      "metadata": {},
      "source": [
        "Interpolate MEG data to the sensor surface\n\n"
      ]
    },
    {
      "cell_type": "code",
      "execution_count": null,
      "metadata": {
        "collapsed": false
      },
      "outputs": [],
      "source": [
        "from bfieldtools.utils import load_example_mesh\n\nhelmet = load_example_mesh(\"meg_helmet\", process=False)\n# Bring the surface roughly to the correct place\nhelmet.vertices[:, 2] -= 0.05\n\n# Reset coupling by hand\nc.B_coupling.reset()\nmlab.figure(bgcolor=(1, 1, 1))\nB_surf = np.sum(\n    c.B_coupling(helmet.vertices) * helmet.vertex_normals[:, :, None], axis=1\n)\n\nif PLOT:\n    fig = mlab.quiver3d(*p.T, *n.T, mode=\"arrow\")\n    scalars = B_surf @ s\n    surf = mlab.triangular_mesh(\n        *helmet.vertices.T, helmet.faces, scalars=scalars, colormap=\"seismic\"\n    )\n    surf.actor.mapper.interpolate_scalars_before_mapping = True\n    surf.module_manager.scalar_lut_manager.number_of_colors = 15\n\n    if SAVE_FIGURES:\n        mlab.savefig(\n            SAVE_DIR + \"SUH_sensors_streamfunction.png\", magnification=4, figure=fig\n        )"
      ]
    },
    {
      "cell_type": "markdown",
      "metadata": {},
      "source": [
        "Calculate magnetic field in volumetric grid\n\n"
      ]
    },
    {
      "cell_type": "code",
      "execution_count": null,
      "metadata": {
        "collapsed": false
      },
      "outputs": [],
      "source": [
        "Nvol = 30\nx = np.linspace(-0.125, 0.125, Nvol)\nvol_points = np.array(np.meshgrid(x, x, x, indexing=\"ij\")).reshape(3, -1).T\n# mlab.points3d(*vol_points.T)\n\nc.B_coupling.reset()\nBvol_coupling = c.B_coupling(vol_points, Nchunks=100, analytic=True)\ns = StreamFunction(a, c)\n# s = StreamFunction(a, c)\nBvol = Bvol_coupling @ s"
      ]
    },
    {
      "cell_type": "markdown",
      "metadata": {},
      "source": [
        "Now, plot the computed magnetic field using streamlines\n\n"
      ]
    },
    {
      "cell_type": "code",
      "execution_count": null,
      "metadata": {
        "collapsed": false
      },
      "outputs": [],
      "source": [
        "if PLOT:\n    from bfieldtools.mesh_calculus import gradient\n\n    fig = mlab.figure(bgcolor=(1, 1, 1))\n\n    surf = s.plot(False, figure=fig)\n    surf.actor.mapper.interpolate_scalars_before_mapping = True\n    surf.module_manager.scalar_lut_manager.number_of_colors = 16\n\n    vecs = mlab.pipeline.vector_field(\n        *vol_points.T.reshape(3, Nvol, Nvol, Nvol), *Bvol.T.reshape(3, Nvol, Nvol, Nvol)\n    )\n    vecnorm = mlab.pipeline.extract_vector_norm(vecs)\n\n    seed_points = mesh.vertices[mesh.faces].mean(axis=1) - 0.01 * mesh.face_normals\n\n    seed_vals = c.basis @ c.inductance @ s\n    seed_vals_grad = np.linalg.norm(gradient(seed_vals, c.mesh), axis=0)\n\n    seed_vals = abs(seed_vals[mesh.faces].mean(axis=1)) ** 2\n    seed_vals[seed_vals_grad > seed_vals_grad.max() / 1.8] = 0\n\n    Npoints = 500\n    seed_inds = np.random.choice(\n        np.arange(len(seed_vals)), Npoints, False, seed_vals / seed_vals.sum()\n    )\n\n    seed_points = seed_points[seed_inds]\n\n    streams = []\n\n    for pi in seed_points:\n        streamline = mlab.pipeline.streamline(\n            vecnorm,\n            integration_direction=\"both\",\n            colormap=\"BuGn\",\n            seed_visible=False,\n            seedtype=\"point\",\n        )\n        streamline.seed.widget.position = pi\n        streamline.stream_tracer.terminal_speed = 3e-13\n        streamline.stream_tracer.maximum_propagation = 0.1\n        streamline.actor.property.render_lines_as_tubes = True\n        streamline.actor.property.line_width = 4.0\n        streams.append(streamline)\n\n    # Custom colormap with alpha channel\n    streamine = streams[0]\n    lut = streamline.module_manager.scalar_lut_manager.lut.table.to_array()\n    lut[:, -1] = np.linspace(0, 255, 256)\n    streamline.module_manager.scalar_lut_manager.lut.table = lut\n    streamline.module_manager.scalar_lut_manager.data_range = np.array(\n        [1.0e-13, 1.0e-12]\n    )\n\n    for streamline in streams:\n        streamline.stream_tracer.terminal_speed = 1e-13\n        streamline.seed.widget.hot_spot_size = 0.1\n        streamline.stream_tracer.initial_integration_step = 0.01\n        streamline.stream_tracer.minimum_integration_step = 0.1\n\n    sensors = mlab.quiver3d(*p.T, *n.T, mode=\"cylinder\")\n    sensors.glyph.glyph_source.glyph_source.height = 0.1\n    sensors.actor.property.color = (0.5, 0.5, 0.5)\n    sensors.actor.mapper.scalar_visibility = False\n    sensors.glyph.glyph_source.glyph_source.resolution = 32\n    sensors.glyph.glyph.scale_factor = 0.03\n    # sensors.glyph.glyph_source.glyph_source.shaft_radius = 0.05\n\n    fig.scene.camera.position = [\n        0.637392177469018,\n        0.07644693029292644,\n        -0.07183513804689762,\n    ]\n    fig.scene.camera.focal_point = [\n        -6.413459777832031e-05,\n        0.01716560870409012,\n        -0.0229007127850005,\n    ]\n    fig.scene.camera.view_angle = 30.0\n    fig.scene.camera.view_up = [\n        0.04390624852005244,\n        0.3114421192517664,\n        0.9492502555685007,\n    ]\n    fig.scene.camera.clipping_range = [0.3366362817578398, 1.0281065506557443]\n    fig.scene.camera.compute_view_plane_normal()\n\n    while fig.scene.light_manager is None:\n        _gui.process_events()\n\n    camera_light = fig.scene.light_manager.lights[0]\n    camera_light.intensity = 0.7\n\n    if SAVE_FIGURES:\n        mlab.savefig(\n            SAVE_DIR + \"SUH_streamlines_lateral.png\", figure=fig, magnification=4\n        )\n\n    fig.scene.camera.position = [\n        -6.413459777832031e-05,\n        0.01716560870409012,\n        0.6191735842078244,\n    ]\n    fig.scene.camera.focal_point = [\n        -6.413459777832031e-05,\n        0.01716560870409012,\n        -0.0229007127850005,\n    ]\n    fig.scene.camera.view_angle = 30.0\n    fig.scene.camera.view_up = [0.0, 1.0, 0.0]\n    fig.scene.camera.clipping_range = [0.3381552363433513, 1.0261944997830243]\n    fig.scene.camera.compute_view_plane_normal()\n\n    if SAVE_FIGURES:\n        mlab.savefig(\n            SAVE_DIR + \"SUH_streamlines_coronal.png\", figure=fig, magnification=4\n        )"
      ]
    },
    {
      "cell_type": "markdown",
      "metadata": {},
      "source": [
        "Finally, plot the surface current density itself\n\n"
      ]
    },
    {
      "cell_type": "code",
      "execution_count": null,
      "metadata": {
        "collapsed": false
      },
      "outputs": [],
      "source": [
        "fig = mlab.figure(bgcolor=(1, 1, 1))\ngrad_s = gradient(c.basis @ s, mesh, rotated=True)\nq = mlab.quiver3d(\n    *(mesh.vertices[mesh.faces].mean(axis=1).T),\n    *grad_s,\n    colormap=\"viridis\",\n    mode=\"arrow\"\n)\n\nmlab.triangular_mesh(*head.vertices.T, head.faces, color=(0.8, 0.8, 0.8), opacity=1.0)\n\nfig.scene.camera.position = [\n    0.4987072212753703,\n    0.06469079487766746,\n    -0.0014732384935239248,\n]\nfig.scene.camera.focal_point = [\n    0.0018187984824180603,\n    0.012344694641686624,\n    -0.04367139294433087,\n]\nfig.scene.camera.view_angle = 30.0\nfig.scene.camera.view_up = [\n    -0.10720122151366927,\n    0.23975383168819672,\n    0.9648968848000314,\n]\nfig.scene.camera.clipping_range = [0.28329092545021717, 0.7772019991936254]\nfig.scene.camera.compute_view_plane_normal()\n\nif SAVE_FIGURES:\n    mlab.savefig(\n        SAVE_DIR + \"SUH_surface_currents_lateral.png\", figure=fig, magnification=4\n    )"
      ]
    }
  ],
  "metadata": {
    "kernelspec": {
      "display_name": "Python 3",
      "language": "python",
      "name": "python3"
    },
    "language_info": {
      "codemirror_mode": {
        "name": "ipython",
        "version": 3
      },
      "file_extension": ".py",
      "mimetype": "text/x-python",
      "name": "python",
      "nbconvert_exporter": "python",
      "pygments_lexer": "ipython3",
      "version": "3.7.6"
    }
  },
  "nbformat": 4,
  "nbformat_minor": 0
}