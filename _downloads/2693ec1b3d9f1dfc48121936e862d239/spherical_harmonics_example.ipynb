{
  "cells": [
    {
      "cell_type": "code",
      "execution_count": null,
      "metadata": {
        "collapsed": false
      },
      "outputs": [],
      "source": [
        "%matplotlib inline"
      ]
    },
    {
      "cell_type": "markdown",
      "metadata": {},
      "source": [
        "\nExample of spherical harmonics tools and visualization\n============================================================\n"
      ]
    },
    {
      "cell_type": "code",
      "execution_count": null,
      "metadata": {
        "collapsed": false
      },
      "outputs": [],
      "source": [
        "import numpy as np\nfrom mayavi import mlab\nimport matplotlib.pyplot as plt\n\nfrom bfieldtools.sphtools import SphBasis\nfrom bfieldtools import sphtools\n\n# Create basis object for evaluation of inner products etc.\nsph = SphBasis(20)"
      ]
    },
    {
      "cell_type": "code",
      "execution_count": null,
      "metadata": {
        "collapsed": false
      },
      "outputs": [],
      "source": [
        "mlab.figure()\nobj = sphtools.plotYlms(sph, 4)\n\n# l=3, m=3\nmlab.figure()\nobj = sphtools.plotYlm(sph, 3, 3)"
      ]
    },
    {
      "cell_type": "code",
      "execution_count": null,
      "metadata": {
        "collapsed": false
      },
      "outputs": [],
      "source": [
        "# Needs fixing: Plot sphere here\n# TODO: mesh info in sph (faces are missing!)\n\noffset = np.array((0, 0, 2))\nmlab.figure()\nobj = sphtools.plotBVlm_volume(sph, 5, 0, 1, 10, offset)\n\nmlab.figure()\nobj = sphtools.plotBWlm_volume(sph, 5, 0, 1, 10, offset)"
      ]
    },
    {
      "cell_type": "code",
      "execution_count": null,
      "metadata": {
        "collapsed": false
      },
      "outputs": [],
      "source": [
        "Vlm1 = sphtools.Wlm(1, 0, sph.sqp[:, 1], sph.sqp[:, 2])\nVlm2 = sphtools.Wlm(7, 0, sph.sqp[:, 1], sph.sqp[:, 2])\n\nprint(sph.innerproduct(Vlm1, Vlm2))\n\nWlm1 = sphtools.Wlm(1, 0, sph.sqp[:, 1], sph.sqp[:, 2])\nWlm2 = sphtools.Wlm(7, 0, sph.sqp[:, 1], sph.sqp[:, 2])\n\nprint(sph.innerproduct(Wlm2, Wlm2))"
      ]
    },
    {
      "cell_type": "code",
      "execution_count": null,
      "metadata": {
        "collapsed": false
      },
      "outputs": [],
      "source": [
        "B = np.zeros(sph.sqp.shape)\n# B[:,0] = 1\nB[:, 2] = sph.qp.points[:, 0] / np.max(sph.qp.points[:, 0])\nB += 0.1 * np.random.randn(B.shape[0], B.shape[1])\n\nB = sphtools.cartvec2sph(sph.sqp, B)\n\ncoeffs = sph.avsphspectra(B, 7)  # OK??\n\nplt.figure()\nplt.semilogy(coeffs ** 2)\n\n# obj = sphtools.plotYlm(sph, 5, 3)"
      ]
    },
    {
      "cell_type": "code",
      "execution_count": null,
      "metadata": {
        "collapsed": false
      },
      "outputs": [],
      "source": [
        "Np = 10\nlim = 3\nx, y, z = np.meshgrid(\n    np.linspace(-lim, lim, Np), np.linspace(-lim, lim, Np), np.linspace(-lim, lim, Np)\n)\n\n\n#    p = np.array((x.flatten(), y.flatten(), z.flatten())).T\n\np = np.array((x.flatten(), y.flatten(), np.zeros(y.flatten().shape))).T\nlmax = 2\nacoeffs = np.zeros(lmax * (lmax + 2))\nbcoeffs = np.zeros(lmax * (lmax + 2))\nacoeffs[7] = 1\n#    bcoeffs[2] = 1\n\npot = sphtools.potential(p, acoeffs, bcoeffs, lmax)\n\npot = np.reshape(pot, x.shape)\n\nmlab.figure()\nmlab.mesh(x[:, :, 0], y[:, :, 0], z[:, :, 0], scalars=pot[:, :, 0], colormap=\"Spectral\")\n\n# #%% Fit spectrum to random data\n# coords = np.zeros((p.shape[0], p.shape[1], 3))\n# coords[:, :, 0] = p\n# coords[:, :, 1] = p\n# coords[:, :, 2] = p\n\n# B = np.zeros((coords.shape[0], coords.shape[1]))\n# B[:, 2] = p[:, 0] / np.max(p[:, 0])\n# B[:, 1] = 0.3\n# B += 0.4 * np.random.randn(B.shape[0], B.shape[1])\n\n# lmax = 5\n# coeffs, coeffs2, mse = sphtools.fit_spectra(coords, B, lmax)\n\n# plt.figure()\n# plt.semilogy(coeffs ** 2, \".\")"
      ]
    }
  ],
  "metadata": {
    "kernelspec": {
      "display_name": "Python 3",
      "language": "python",
      "name": "python3"
    },
    "language_info": {
      "codemirror_mode": {
        "name": "ipython",
        "version": 3
      },
      "file_extension": ".py",
      "mimetype": "text/x-python",
      "name": "python",
      "nbconvert_exporter": "python",
      "pygments_lexer": "ipython3",
      "version": "3.7.6"
    }
  },
  "nbformat": 4,
  "nbformat_minor": 0
}